{
 "cells": [
  {
   "cell_type": "code",
   "execution_count": 93,
   "id": "28dd3d5e-b252-423f-81c4-0c9cc0df5f8f",
   "metadata": {},
   "outputs": [],
   "source": [
    "import pandas as pd\n",
    "import numpy as np\n",
    "import matplotlib.pyplot as plt\n",
    "\n",
    "plt.rcParams['figure.figsize'] = (20,10)"
   ]
  },
  {
   "cell_type": "code",
   "execution_count": 94,
   "id": "37b837af-22e1-4da1-a288-ee84c0778b59",
   "metadata": {},
   "outputs": [
    {
     "data": {
      "text/html": [
       "<div>\n",
       "<style scoped>\n",
       "    .dataframe tbody tr th:only-of-type {\n",
       "        vertical-align: middle;\n",
       "    }\n",
       "\n",
       "    .dataframe tbody tr th {\n",
       "        vertical-align: top;\n",
       "    }\n",
       "\n",
       "    .dataframe thead th {\n",
       "        text-align: right;\n",
       "    }\n",
       "</style>\n",
       "<table border=\"1\" class=\"dataframe\">\n",
       "  <thead>\n",
       "    <tr style=\"text-align: right;\">\n",
       "      <th></th>\n",
       "      <th>property_id</th>\n",
       "      <th>location_id</th>\n",
       "      <th>page_url</th>\n",
       "      <th>property_type</th>\n",
       "      <th>price</th>\n",
       "      <th>location</th>\n",
       "      <th>city</th>\n",
       "      <th>province_name</th>\n",
       "      <th>latitude</th>\n",
       "      <th>longitude</th>\n",
       "      <th>baths</th>\n",
       "      <th>area</th>\n",
       "      <th>purpose</th>\n",
       "      <th>bedrooms</th>\n",
       "      <th>date_added</th>\n",
       "      <th>agency</th>\n",
       "      <th>agent</th>\n",
       "      <th>Area Type</th>\n",
       "      <th>Area Size</th>\n",
       "      <th>Area Category</th>\n",
       "    </tr>\n",
       "  </thead>\n",
       "  <tbody>\n",
       "    <tr>\n",
       "      <th>168441</th>\n",
       "      <td>17355248</td>\n",
       "      <td>6754</td>\n",
       "      <td>https://www.zameen.com/Property/gulshan_e_maym...</td>\n",
       "      <td>House</td>\n",
       "      <td>26500000</td>\n",
       "      <td>Gadap Town</td>\n",
       "      <td>Karachi</td>\n",
       "      <td>Sindh</td>\n",
       "      <td>25.029909</td>\n",
       "      <td>67.137192</td>\n",
       "      <td>0</td>\n",
       "      <td>9.6 Marla</td>\n",
       "      <td>For Sale</td>\n",
       "      <td>6</td>\n",
       "      <td>07-18-2019</td>\n",
       "      <td>Al Shahab Enterprises</td>\n",
       "      <td>Shahmir</td>\n",
       "      <td>Marla</td>\n",
       "      <td>9.6</td>\n",
       "      <td>5-10 Marla</td>\n",
       "    </tr>\n",
       "    <tr>\n",
       "      <th>168442</th>\n",
       "      <td>17355249</td>\n",
       "      <td>680</td>\n",
       "      <td>https://www.zameen.com/Property/gadap_town_gul...</td>\n",
       "      <td>House</td>\n",
       "      <td>12500000</td>\n",
       "      <td>Gadap Town</td>\n",
       "      <td>Karachi</td>\n",
       "      <td>Sindh</td>\n",
       "      <td>25.017951</td>\n",
       "      <td>67.136393</td>\n",
       "      <td>0</td>\n",
       "      <td>8 Marla</td>\n",
       "      <td>For Sale</td>\n",
       "      <td>3</td>\n",
       "      <td>07-18-2019</td>\n",
       "      <td>Al Shahab Enterprises</td>\n",
       "      <td>Shahmir</td>\n",
       "      <td>Marla</td>\n",
       "      <td>8.0</td>\n",
       "      <td>5-10 Marla</td>\n",
       "    </tr>\n",
       "    <tr>\n",
       "      <th>168443</th>\n",
       "      <td>17355250</td>\n",
       "      <td>6757</td>\n",
       "      <td>https://www.zameen.com/Property/gulshan_e_maym...</td>\n",
       "      <td>House</td>\n",
       "      <td>27000000</td>\n",
       "      <td>Gadap Town</td>\n",
       "      <td>Karachi</td>\n",
       "      <td>Sindh</td>\n",
       "      <td>25.015384</td>\n",
       "      <td>67.116330</td>\n",
       "      <td>0</td>\n",
       "      <td>9.6 Marla</td>\n",
       "      <td>For Sale</td>\n",
       "      <td>6</td>\n",
       "      <td>07-18-2019</td>\n",
       "      <td>Al Shahab Enterprises</td>\n",
       "      <td>Shahmir</td>\n",
       "      <td>Marla</td>\n",
       "      <td>9.6</td>\n",
       "      <td>5-10 Marla</td>\n",
       "    </tr>\n",
       "    <tr>\n",
       "      <th>168444</th>\n",
       "      <td>17355251</td>\n",
       "      <td>6752</td>\n",
       "      <td>https://www.zameen.com/Property/gulshan_e_maym...</td>\n",
       "      <td>House</td>\n",
       "      <td>11000000</td>\n",
       "      <td>Gadap Town</td>\n",
       "      <td>Karachi</td>\n",
       "      <td>Sindh</td>\n",
       "      <td>25.013265</td>\n",
       "      <td>67.120818</td>\n",
       "      <td>0</td>\n",
       "      <td>7.8 Marla</td>\n",
       "      <td>For Sale</td>\n",
       "      <td>3</td>\n",
       "      <td>07-18-2019</td>\n",
       "      <td>Al Shahab Enterprises</td>\n",
       "      <td>Shahmir</td>\n",
       "      <td>Marla</td>\n",
       "      <td>7.8</td>\n",
       "      <td>5-10 Marla</td>\n",
       "    </tr>\n",
       "    <tr>\n",
       "      <th>168445</th>\n",
       "      <td>17355287</td>\n",
       "      <td>10045</td>\n",
       "      <td>https://www.zameen.com/Property/bahria_town_ka...</td>\n",
       "      <td>House</td>\n",
       "      <td>9000000</td>\n",
       "      <td>Bahria Town Karachi</td>\n",
       "      <td>Karachi</td>\n",
       "      <td>Sindh</td>\n",
       "      <td>25.113565</td>\n",
       "      <td>67.353811</td>\n",
       "      <td>3</td>\n",
       "      <td>9.4 Marla</td>\n",
       "      <td>For Sale</td>\n",
       "      <td>3</td>\n",
       "      <td>07-18-2019</td>\n",
       "      <td>ZPN Real Estate &amp; Builders</td>\n",
       "      <td>Ali Raza</td>\n",
       "      <td>Marla</td>\n",
       "      <td>9.4</td>\n",
       "      <td>5-10 Marla</td>\n",
       "    </tr>\n",
       "  </tbody>\n",
       "</table>\n",
       "</div>"
      ],
      "text/plain": [
       "        property_id  location_id  \\\n",
       "168441     17355248         6754   \n",
       "168442     17355249          680   \n",
       "168443     17355250         6757   \n",
       "168444     17355251         6752   \n",
       "168445     17355287        10045   \n",
       "\n",
       "                                                 page_url property_type  \\\n",
       "168441  https://www.zameen.com/Property/gulshan_e_maym...         House   \n",
       "168442  https://www.zameen.com/Property/gadap_town_gul...         House   \n",
       "168443  https://www.zameen.com/Property/gulshan_e_maym...         House   \n",
       "168444  https://www.zameen.com/Property/gulshan_e_maym...         House   \n",
       "168445  https://www.zameen.com/Property/bahria_town_ka...         House   \n",
       "\n",
       "           price             location     city province_name   latitude  \\\n",
       "168441  26500000           Gadap Town  Karachi         Sindh  25.029909   \n",
       "168442  12500000           Gadap Town  Karachi         Sindh  25.017951   \n",
       "168443  27000000           Gadap Town  Karachi         Sindh  25.015384   \n",
       "168444  11000000           Gadap Town  Karachi         Sindh  25.013265   \n",
       "168445   9000000  Bahria Town Karachi  Karachi         Sindh  25.113565   \n",
       "\n",
       "        longitude  baths       area   purpose  bedrooms  date_added  \\\n",
       "168441  67.137192      0  9.6 Marla  For Sale         6  07-18-2019   \n",
       "168442  67.136393      0    8 Marla  For Sale         3  07-18-2019   \n",
       "168443  67.116330      0  9.6 Marla  For Sale         6  07-18-2019   \n",
       "168444  67.120818      0  7.8 Marla  For Sale         3  07-18-2019   \n",
       "168445  67.353811      3  9.4 Marla  For Sale         3  07-18-2019   \n",
       "\n",
       "                            agency     agent Area Type  Area Size  \\\n",
       "168441       Al Shahab Enterprises   Shahmir     Marla        9.6   \n",
       "168442       Al Shahab Enterprises   Shahmir     Marla        8.0   \n",
       "168443       Al Shahab Enterprises   Shahmir     Marla        9.6   \n",
       "168444       Al Shahab Enterprises   Shahmir     Marla        7.8   \n",
       "168445  ZPN Real Estate & Builders  Ali Raza     Marla        9.4   \n",
       "\n",
       "       Area Category  \n",
       "168441    5-10 Marla  \n",
       "168442    5-10 Marla  \n",
       "168443    5-10 Marla  \n",
       "168444    5-10 Marla  \n",
       "168445    5-10 Marla  "
      ]
     },
     "execution_count": 94,
     "metadata": {},
     "output_type": "execute_result"
    }
   ],
   "source": [
    "df1 = pd.read_csv('zameen-updated.csv')\n",
    "df1.tail()"
   ]
  },
  {
   "cell_type": "code",
   "execution_count": 95,
   "id": "7865940b-9d02-4b32-ad35-af7069e1ed1f",
   "metadata": {},
   "outputs": [
    {
     "data": {
      "text/plain": [
       "(168446, 20)"
      ]
     },
     "execution_count": 95,
     "metadata": {},
     "output_type": "execute_result"
    }
   ],
   "source": [
    "df1.shape"
   ]
  },
  {
   "cell_type": "code",
   "execution_count": 96,
   "id": "eb4ca3a2-3dc5-40e0-9e45-687f3a085d9a",
   "metadata": {},
   "outputs": [
    {
     "data": {
      "text/plain": [
       "property_type\n",
       "Farm House          657\n",
       "Flat              38238\n",
       "House            105468\n",
       "Lower Portion      9229\n",
       "Penthouse           395\n",
       "Room                685\n",
       "Upper Portion     13774\n",
       "Name: property_type, dtype: int64"
      ]
     },
     "execution_count": 96,
     "metadata": {},
     "output_type": "execute_result"
    }
   ],
   "source": [
    "df1.groupby('property_type')['property_type'].agg('count')"
   ]
  },
  {
   "cell_type": "code",
   "execution_count": 97,
   "id": "a5224685-1ad7-480a-bc7e-837e8b83254c",
   "metadata": {},
   "outputs": [
    {
     "data": {
      "text/html": [
       "<div>\n",
       "<style scoped>\n",
       "    .dataframe tbody tr th:only-of-type {\n",
       "        vertical-align: middle;\n",
       "    }\n",
       "\n",
       "    .dataframe tbody tr th {\n",
       "        vertical-align: top;\n",
       "    }\n",
       "\n",
       "    .dataframe thead th {\n",
       "        text-align: right;\n",
       "    }\n",
       "</style>\n",
       "<table border=\"1\" class=\"dataframe\">\n",
       "  <thead>\n",
       "    <tr style=\"text-align: right;\">\n",
       "      <th></th>\n",
       "      <th>price</th>\n",
       "      <th>location</th>\n",
       "      <th>city</th>\n",
       "      <th>baths</th>\n",
       "      <th>area</th>\n",
       "      <th>bedrooms</th>\n",
       "    </tr>\n",
       "  </thead>\n",
       "  <tbody>\n",
       "    <tr>\n",
       "      <th>0</th>\n",
       "      <td>10000000</td>\n",
       "      <td>G-10</td>\n",
       "      <td>Islamabad</td>\n",
       "      <td>2</td>\n",
       "      <td>4 Marla</td>\n",
       "      <td>2</td>\n",
       "    </tr>\n",
       "    <tr>\n",
       "      <th>1</th>\n",
       "      <td>6900000</td>\n",
       "      <td>E-11</td>\n",
       "      <td>Islamabad</td>\n",
       "      <td>3</td>\n",
       "      <td>5.6 Marla</td>\n",
       "      <td>3</td>\n",
       "    </tr>\n",
       "    <tr>\n",
       "      <th>2</th>\n",
       "      <td>16500000</td>\n",
       "      <td>G-15</td>\n",
       "      <td>Islamabad</td>\n",
       "      <td>6</td>\n",
       "      <td>8 Marla</td>\n",
       "      <td>5</td>\n",
       "    </tr>\n",
       "    <tr>\n",
       "      <th>3</th>\n",
       "      <td>43500000</td>\n",
       "      <td>Bani Gala</td>\n",
       "      <td>Islamabad</td>\n",
       "      <td>4</td>\n",
       "      <td>2 Kanal</td>\n",
       "      <td>4</td>\n",
       "    </tr>\n",
       "    <tr>\n",
       "      <th>4</th>\n",
       "      <td>7000000</td>\n",
       "      <td>DHA Defence</td>\n",
       "      <td>Islamabad</td>\n",
       "      <td>3</td>\n",
       "      <td>8 Marla</td>\n",
       "      <td>3</td>\n",
       "    </tr>\n",
       "  </tbody>\n",
       "</table>\n",
       "</div>"
      ],
      "text/plain": [
       "      price     location       city  baths       area  bedrooms\n",
       "0  10000000         G-10  Islamabad      2    4 Marla         2\n",
       "1   6900000         E-11  Islamabad      3  5.6 Marla         3\n",
       "2  16500000         G-15  Islamabad      6    8 Marla         5\n",
       "3  43500000    Bani Gala  Islamabad      4    2 Kanal         4\n",
       "4   7000000  DHA Defence  Islamabad      3    8 Marla         3"
      ]
     },
     "execution_count": 97,
     "metadata": {},
     "output_type": "execute_result"
    }
   ],
   "source": [
    "df2 = df1.drop(['property_id','location_id','page_url','property_type','province_name','latitude','longitude','purpose','date_added','agency','agent','Area Type','Area Size','Area Category'], axis='columns')\n",
    "\n",
    "df2.head()"
   ]
  },
  {
   "cell_type": "code",
   "execution_count": 98,
   "id": "7010723b-b44a-4058-aafd-75b90db6e6cc",
   "metadata": {},
   "outputs": [
    {
     "data": {
      "text/html": [
       "<div>\n",
       "<style scoped>\n",
       "    .dataframe tbody tr th:only-of-type {\n",
       "        vertical-align: middle;\n",
       "    }\n",
       "\n",
       "    .dataframe tbody tr th {\n",
       "        vertical-align: top;\n",
       "    }\n",
       "\n",
       "    .dataframe thead th {\n",
       "        text-align: right;\n",
       "    }\n",
       "</style>\n",
       "<table border=\"1\" class=\"dataframe\">\n",
       "  <thead>\n",
       "    <tr style=\"text-align: right;\">\n",
       "      <th></th>\n",
       "      <th>price</th>\n",
       "      <th>location</th>\n",
       "      <th>city</th>\n",
       "      <th>baths</th>\n",
       "      <th>area</th>\n",
       "      <th>bedrooms</th>\n",
       "    </tr>\n",
       "  </thead>\n",
       "  <tbody>\n",
       "    <tr>\n",
       "      <th>0</th>\n",
       "      <td>100.0</td>\n",
       "      <td>G-10</td>\n",
       "      <td>Islamabad</td>\n",
       "      <td>2</td>\n",
       "      <td>4 Marla</td>\n",
       "      <td>2</td>\n",
       "    </tr>\n",
       "    <tr>\n",
       "      <th>1</th>\n",
       "      <td>69.0</td>\n",
       "      <td>E-11</td>\n",
       "      <td>Islamabad</td>\n",
       "      <td>3</td>\n",
       "      <td>5.6 Marla</td>\n",
       "      <td>3</td>\n",
       "    </tr>\n",
       "    <tr>\n",
       "      <th>2</th>\n",
       "      <td>165.0</td>\n",
       "      <td>G-15</td>\n",
       "      <td>Islamabad</td>\n",
       "      <td>6</td>\n",
       "      <td>8 Marla</td>\n",
       "      <td>5</td>\n",
       "    </tr>\n",
       "    <tr>\n",
       "      <th>3</th>\n",
       "      <td>435.0</td>\n",
       "      <td>Bani Gala</td>\n",
       "      <td>Islamabad</td>\n",
       "      <td>4</td>\n",
       "      <td>2 Kanal</td>\n",
       "      <td>4</td>\n",
       "    </tr>\n",
       "    <tr>\n",
       "      <th>4</th>\n",
       "      <td>70.0</td>\n",
       "      <td>DHA Defence</td>\n",
       "      <td>Islamabad</td>\n",
       "      <td>3</td>\n",
       "      <td>8 Marla</td>\n",
       "      <td>3</td>\n",
       "    </tr>\n",
       "  </tbody>\n",
       "</table>\n",
       "</div>"
      ],
      "text/plain": [
       "   price     location       city  baths       area  bedrooms\n",
       "0  100.0         G-10  Islamabad      2    4 Marla         2\n",
       "1   69.0         E-11  Islamabad      3  5.6 Marla         3\n",
       "2  165.0         G-15  Islamabad      6    8 Marla         5\n",
       "3  435.0    Bani Gala  Islamabad      4    2 Kanal         4\n",
       "4   70.0  DHA Defence  Islamabad      3    8 Marla         3"
      ]
     },
     "execution_count": 98,
     "metadata": {},
     "output_type": "execute_result"
    }
   ],
   "source": [
    "df2['price'] = df2['price'] / 100000\n",
    "df2.head()"
   ]
  },
  {
   "cell_type": "code",
   "execution_count": 99,
   "id": "9f0136e2-5f76-4d69-8307-2b161416c580",
   "metadata": {},
   "outputs": [
    {
     "data": {
      "text/html": [
       "<div>\n",
       "<style scoped>\n",
       "    .dataframe tbody tr th:only-of-type {\n",
       "        vertical-align: middle;\n",
       "    }\n",
       "\n",
       "    .dataframe tbody tr th {\n",
       "        vertical-align: top;\n",
       "    }\n",
       "\n",
       "    .dataframe thead th {\n",
       "        text-align: right;\n",
       "    }\n",
       "</style>\n",
       "<table border=\"1\" class=\"dataframe\">\n",
       "  <thead>\n",
       "    <tr style=\"text-align: right;\">\n",
       "      <th></th>\n",
       "      <th>price</th>\n",
       "      <th>location</th>\n",
       "      <th>city</th>\n",
       "      <th>baths</th>\n",
       "      <th>area</th>\n",
       "      <th>bedrooms</th>\n",
       "      <th>bhk</th>\n",
       "    </tr>\n",
       "  </thead>\n",
       "  <tbody>\n",
       "    <tr>\n",
       "      <th>0</th>\n",
       "      <td>100.0</td>\n",
       "      <td>G-10</td>\n",
       "      <td>Islamabad</td>\n",
       "      <td>2</td>\n",
       "      <td>4 Marla</td>\n",
       "      <td>2</td>\n",
       "      <td>2</td>\n",
       "    </tr>\n",
       "    <tr>\n",
       "      <th>1</th>\n",
       "      <td>69.0</td>\n",
       "      <td>E-11</td>\n",
       "      <td>Islamabad</td>\n",
       "      <td>3</td>\n",
       "      <td>5.6 Marla</td>\n",
       "      <td>3</td>\n",
       "      <td>3</td>\n",
       "    </tr>\n",
       "    <tr>\n",
       "      <th>2</th>\n",
       "      <td>165.0</td>\n",
       "      <td>G-15</td>\n",
       "      <td>Islamabad</td>\n",
       "      <td>6</td>\n",
       "      <td>8 Marla</td>\n",
       "      <td>5</td>\n",
       "      <td>5</td>\n",
       "    </tr>\n",
       "    <tr>\n",
       "      <th>3</th>\n",
       "      <td>435.0</td>\n",
       "      <td>Bani Gala</td>\n",
       "      <td>Islamabad</td>\n",
       "      <td>4</td>\n",
       "      <td>2 Kanal</td>\n",
       "      <td>4</td>\n",
       "      <td>4</td>\n",
       "    </tr>\n",
       "    <tr>\n",
       "      <th>4</th>\n",
       "      <td>70.0</td>\n",
       "      <td>DHA Defence</td>\n",
       "      <td>Islamabad</td>\n",
       "      <td>3</td>\n",
       "      <td>8 Marla</td>\n",
       "      <td>3</td>\n",
       "      <td>3</td>\n",
       "    </tr>\n",
       "  </tbody>\n",
       "</table>\n",
       "</div>"
      ],
      "text/plain": [
       "   price     location       city  baths       area  bedrooms  bhk\n",
       "0  100.0         G-10  Islamabad      2    4 Marla         2    2\n",
       "1   69.0         E-11  Islamabad      3  5.6 Marla         3    3\n",
       "2  165.0         G-15  Islamabad      6    8 Marla         5    5\n",
       "3  435.0    Bani Gala  Islamabad      4    2 Kanal         4    4\n",
       "4   70.0  DHA Defence  Islamabad      3    8 Marla         3    3"
      ]
     },
     "execution_count": 99,
     "metadata": {},
     "output_type": "execute_result"
    }
   ],
   "source": [
    "df3 = df2.copy()  # Create a copy of df2\n",
    "df3['bhk'] = df2['bedrooms']  # Assign 'bedrooms' column to 'bhk'\n",
    "df3.head()"
   ]
  },
  {
   "cell_type": "code",
   "execution_count": 100,
   "id": "70ebf345-0fa5-40af-9eeb-1c5e333172a9",
   "metadata": {},
   "outputs": [
    {
     "data": {
      "text/html": [
       "<div>\n",
       "<style scoped>\n",
       "    .dataframe tbody tr th:only-of-type {\n",
       "        vertical-align: middle;\n",
       "    }\n",
       "\n",
       "    .dataframe tbody tr th {\n",
       "        vertical-align: top;\n",
       "    }\n",
       "\n",
       "    .dataframe thead th {\n",
       "        text-align: right;\n",
       "    }\n",
       "</style>\n",
       "<table border=\"1\" class=\"dataframe\">\n",
       "  <thead>\n",
       "    <tr style=\"text-align: right;\">\n",
       "      <th></th>\n",
       "      <th>price</th>\n",
       "      <th>location</th>\n",
       "      <th>city</th>\n",
       "      <th>baths</th>\n",
       "      <th>area</th>\n",
       "      <th>bhk</th>\n",
       "    </tr>\n",
       "  </thead>\n",
       "  <tbody>\n",
       "    <tr>\n",
       "      <th>0</th>\n",
       "      <td>100.0</td>\n",
       "      <td>G-10</td>\n",
       "      <td>Islamabad</td>\n",
       "      <td>2</td>\n",
       "      <td>4 Marla</td>\n",
       "      <td>2</td>\n",
       "    </tr>\n",
       "    <tr>\n",
       "      <th>1</th>\n",
       "      <td>69.0</td>\n",
       "      <td>E-11</td>\n",
       "      <td>Islamabad</td>\n",
       "      <td>3</td>\n",
       "      <td>5.6 Marla</td>\n",
       "      <td>3</td>\n",
       "    </tr>\n",
       "    <tr>\n",
       "      <th>2</th>\n",
       "      <td>165.0</td>\n",
       "      <td>G-15</td>\n",
       "      <td>Islamabad</td>\n",
       "      <td>6</td>\n",
       "      <td>8 Marla</td>\n",
       "      <td>5</td>\n",
       "    </tr>\n",
       "    <tr>\n",
       "      <th>3</th>\n",
       "      <td>435.0</td>\n",
       "      <td>Bani Gala</td>\n",
       "      <td>Islamabad</td>\n",
       "      <td>4</td>\n",
       "      <td>2 Kanal</td>\n",
       "      <td>4</td>\n",
       "    </tr>\n",
       "    <tr>\n",
       "      <th>4</th>\n",
       "      <td>70.0</td>\n",
       "      <td>DHA Defence</td>\n",
       "      <td>Islamabad</td>\n",
       "      <td>3</td>\n",
       "      <td>8 Marla</td>\n",
       "      <td>3</td>\n",
       "    </tr>\n",
       "  </tbody>\n",
       "</table>\n",
       "</div>"
      ],
      "text/plain": [
       "   price     location       city  baths       area  bhk\n",
       "0  100.0         G-10  Islamabad      2    4 Marla    2\n",
       "1   69.0         E-11  Islamabad      3  5.6 Marla    3\n",
       "2  165.0         G-15  Islamabad      6    8 Marla    5\n",
       "3  435.0    Bani Gala  Islamabad      4    2 Kanal    4\n",
       "4   70.0  DHA Defence  Islamabad      3    8 Marla    3"
      ]
     },
     "execution_count": 100,
     "metadata": {},
     "output_type": "execute_result"
    }
   ],
   "source": [
    "df3.drop(columns=['bedrooms'], inplace=True)\n",
    "df3.head()"
   ]
  },
  {
   "cell_type": "code",
   "execution_count": 101,
   "id": "a315a061-5e40-45db-bcba-8401ba862ad1",
   "metadata": {},
   "outputs": [
    {
     "data": {
      "text/html": [
       "<div>\n",
       "<style scoped>\n",
       "    .dataframe tbody tr th:only-of-type {\n",
       "        vertical-align: middle;\n",
       "    }\n",
       "\n",
       "    .dataframe tbody tr th {\n",
       "        vertical-align: top;\n",
       "    }\n",
       "\n",
       "    .dataframe thead th {\n",
       "        text-align: right;\n",
       "    }\n",
       "</style>\n",
       "<table border=\"1\" class=\"dataframe\">\n",
       "  <thead>\n",
       "    <tr style=\"text-align: right;\">\n",
       "      <th></th>\n",
       "      <th>price</th>\n",
       "      <th>location</th>\n",
       "      <th>baths</th>\n",
       "      <th>area</th>\n",
       "      <th>bhk</th>\n",
       "    </tr>\n",
       "  </thead>\n",
       "  <tbody>\n",
       "    <tr>\n",
       "      <th>0</th>\n",
       "      <td>100.0</td>\n",
       "      <td>G-10</td>\n",
       "      <td>2</td>\n",
       "      <td>4 Marla</td>\n",
       "      <td>2</td>\n",
       "    </tr>\n",
       "    <tr>\n",
       "      <th>1</th>\n",
       "      <td>69.0</td>\n",
       "      <td>E-11</td>\n",
       "      <td>3</td>\n",
       "      <td>5.6 Marla</td>\n",
       "      <td>3</td>\n",
       "    </tr>\n",
       "    <tr>\n",
       "      <th>2</th>\n",
       "      <td>165.0</td>\n",
       "      <td>G-15</td>\n",
       "      <td>6</td>\n",
       "      <td>8 Marla</td>\n",
       "      <td>5</td>\n",
       "    </tr>\n",
       "    <tr>\n",
       "      <th>3</th>\n",
       "      <td>435.0</td>\n",
       "      <td>Bani Gala</td>\n",
       "      <td>4</td>\n",
       "      <td>2 Kanal</td>\n",
       "      <td>4</td>\n",
       "    </tr>\n",
       "    <tr>\n",
       "      <th>4</th>\n",
       "      <td>70.0</td>\n",
       "      <td>DHA Defence</td>\n",
       "      <td>3</td>\n",
       "      <td>8 Marla</td>\n",
       "      <td>3</td>\n",
       "    </tr>\n",
       "  </tbody>\n",
       "</table>\n",
       "</div>"
      ],
      "text/plain": [
       "   price     location  baths       area  bhk\n",
       "0  100.0         G-10      2    4 Marla    2\n",
       "1   69.0         E-11      3  5.6 Marla    3\n",
       "2  165.0         G-15      6    8 Marla    5\n",
       "3  435.0    Bani Gala      4    2 Kanal    4\n",
       "4   70.0  DHA Defence      3    8 Marla    3"
      ]
     },
     "execution_count": 101,
     "metadata": {},
     "output_type": "execute_result"
    }
   ],
   "source": [
    "df3.drop(columns=['city'], inplace=True)\n",
    "df3.head()"
   ]
  },
  {
   "cell_type": "code",
   "execution_count": 102,
   "id": "6274637e-9213-456b-8753-ceacb6ff9629",
   "metadata": {},
   "outputs": [
    {
     "data": {
      "text/html": [
       "<div>\n",
       "<style scoped>\n",
       "    .dataframe tbody tr th:only-of-type {\n",
       "        vertical-align: middle;\n",
       "    }\n",
       "\n",
       "    .dataframe tbody tr th {\n",
       "        vertical-align: top;\n",
       "    }\n",
       "\n",
       "    .dataframe thead th {\n",
       "        text-align: right;\n",
       "    }\n",
       "</style>\n",
       "<table border=\"1\" class=\"dataframe\">\n",
       "  <thead>\n",
       "    <tr style=\"text-align: right;\">\n",
       "      <th></th>\n",
       "      <th>price</th>\n",
       "      <th>location</th>\n",
       "      <th>baths</th>\n",
       "      <th>bhk</th>\n",
       "      <th>total_sqft</th>\n",
       "    </tr>\n",
       "  </thead>\n",
       "  <tbody>\n",
       "    <tr>\n",
       "      <th>0</th>\n",
       "      <td>100.0</td>\n",
       "      <td>G-10</td>\n",
       "      <td>2</td>\n",
       "      <td>2</td>\n",
       "      <td>1089.0040</td>\n",
       "    </tr>\n",
       "    <tr>\n",
       "      <th>1</th>\n",
       "      <td>69.0</td>\n",
       "      <td>E-11</td>\n",
       "      <td>3</td>\n",
       "      <td>3</td>\n",
       "      <td>1524.6056</td>\n",
       "    </tr>\n",
       "    <tr>\n",
       "      <th>2</th>\n",
       "      <td>165.0</td>\n",
       "      <td>G-15</td>\n",
       "      <td>6</td>\n",
       "      <td>5</td>\n",
       "      <td>2178.0080</td>\n",
       "    </tr>\n",
       "    <tr>\n",
       "      <th>3</th>\n",
       "      <td>435.0</td>\n",
       "      <td>Bani Gala</td>\n",
       "      <td>4</td>\n",
       "      <td>4</td>\n",
       "      <td>10890.0400</td>\n",
       "    </tr>\n",
       "    <tr>\n",
       "      <th>4</th>\n",
       "      <td>70.0</td>\n",
       "      <td>DHA Defence</td>\n",
       "      <td>3</td>\n",
       "      <td>3</td>\n",
       "      <td>2178.0080</td>\n",
       "    </tr>\n",
       "  </tbody>\n",
       "</table>\n",
       "</div>"
      ],
      "text/plain": [
       "   price     location  baths  bhk  total_sqft\n",
       "0  100.0         G-10      2    2   1089.0040\n",
       "1   69.0         E-11      3    3   1524.6056\n",
       "2  165.0         G-15      6    5   2178.0080\n",
       "3  435.0    Bani Gala      4    4  10890.0400\n",
       "4   70.0  DHA Defence      3    3   2178.0080"
      ]
     },
     "execution_count": 102,
     "metadata": {},
     "output_type": "execute_result"
    }
   ],
   "source": [
    "def convert_to_sqft(area):\n",
    "    value, unit = area.replace(',', '').split()  # Remove commas and split\n",
    "    value = float(value)  # Convert number to float\n",
    "    \n",
    "    if unit == 'Marla':\n",
    "        return value * 272.251  # Convert Marla to square feet\n",
    "    elif unit == 'Kanal':\n",
    "        return value * 20 * 272.251  # Convert Kanal to square feet\n",
    "    else:\n",
    "        return None  # Handle unexpected values\n",
    "\n",
    "# Apply function and create new column\n",
    "df3['total_sqft'] = df3['area'].apply(convert_to_sqft)\n",
    "\n",
    "# Drop the original 'area' column\n",
    "df3.drop(columns=['area'], inplace=True)\n",
    "\n",
    "# Display updated DataFrame\n",
    "df3.head()"
   ]
  },
  {
   "cell_type": "code",
   "execution_count": 103,
   "id": "a59bb1f9-0598-46f5-ac09-dd46d40d5d15",
   "metadata": {},
   "outputs": [
    {
     "data": {
      "text/plain": [
       "(168446, 5)"
      ]
     },
     "execution_count": 103,
     "metadata": {},
     "output_type": "execute_result"
    }
   ],
   "source": [
    "df3.shape"
   ]
  },
  {
   "cell_type": "code",
   "execution_count": 104,
   "id": "0b2a6f40-b9d4-4747-b450-28db4296aafd",
   "metadata": {},
   "outputs": [
    {
     "data": {
      "text/plain": [
       "price         0\n",
       "location      0\n",
       "baths         0\n",
       "bhk           0\n",
       "total_sqft    0\n",
       "dtype: int64"
      ]
     },
     "execution_count": 104,
     "metadata": {},
     "output_type": "execute_result"
    }
   ],
   "source": [
    "df3.isnull().sum()"
   ]
  },
  {
   "cell_type": "code",
   "execution_count": 105,
   "id": "9e260651-467a-487f-bb9c-1fe287a7d85a",
   "metadata": {},
   "outputs": [
    {
     "data": {
      "text/plain": [
       "array([ 2,  3,  5,  4,  8,  7,  0,  1,  6, 10, 12,  9, 11, 14, 15, 16, 13,\n",
       "       18, 28, 25, 21, 68, 27])"
      ]
     },
     "execution_count": 105,
     "metadata": {},
     "output_type": "execute_result"
    }
   ],
   "source": [
    "df3['bhk'].unique()"
   ]
  },
  {
   "cell_type": "code",
   "execution_count": 106,
   "id": "c86bd888-c1fd-4ff5-8421-62c14281fdc3",
   "metadata": {},
   "outputs": [
    {
     "data": {
      "text/html": [
       "<div>\n",
       "<style scoped>\n",
       "    .dataframe tbody tr th:only-of-type {\n",
       "        vertical-align: middle;\n",
       "    }\n",
       "\n",
       "    .dataframe tbody tr th {\n",
       "        vertical-align: top;\n",
       "    }\n",
       "\n",
       "    .dataframe thead th {\n",
       "        text-align: right;\n",
       "    }\n",
       "</style>\n",
       "<table border=\"1\" class=\"dataframe\">\n",
       "  <thead>\n",
       "    <tr style=\"text-align: right;\">\n",
       "      <th></th>\n",
       "      <th>price</th>\n",
       "      <th>location</th>\n",
       "      <th>baths</th>\n",
       "      <th>bhk</th>\n",
       "      <th>total_sqft</th>\n",
       "    </tr>\n",
       "  </thead>\n",
       "  <tbody>\n",
       "    <tr>\n",
       "      <th>120075</th>\n",
       "      <td>13.0</td>\n",
       "      <td>Satellite Town</td>\n",
       "      <td>0</td>\n",
       "      <td>28</td>\n",
       "      <td>10890.040</td>\n",
       "    </tr>\n",
       "    <tr>\n",
       "      <th>129557</th>\n",
       "      <td>9600.0</td>\n",
       "      <td>Gulberg</td>\n",
       "      <td>0</td>\n",
       "      <td>25</td>\n",
       "      <td>43560.160</td>\n",
       "    </tr>\n",
       "    <tr>\n",
       "      <th>130132</th>\n",
       "      <td>3.0</td>\n",
       "      <td>G-14</td>\n",
       "      <td>0</td>\n",
       "      <td>21</td>\n",
       "      <td>6534.024</td>\n",
       "    </tr>\n",
       "    <tr>\n",
       "      <th>139738</th>\n",
       "      <td>13.0</td>\n",
       "      <td>Satellite Town</td>\n",
       "      <td>0</td>\n",
       "      <td>28</td>\n",
       "      <td>10890.040</td>\n",
       "    </tr>\n",
       "    <tr>\n",
       "      <th>140891</th>\n",
       "      <td>25.0</td>\n",
       "      <td>North Nazimabad</td>\n",
       "      <td>0</td>\n",
       "      <td>68</td>\n",
       "      <td>35937.132</td>\n",
       "    </tr>\n",
       "    <tr>\n",
       "      <th>144418</th>\n",
       "      <td>5.5</td>\n",
       "      <td>Jamshed Town</td>\n",
       "      <td>0</td>\n",
       "      <td>25</td>\n",
       "      <td>16335.060</td>\n",
       "    </tr>\n",
       "    <tr>\n",
       "      <th>144837</th>\n",
       "      <td>800.0</td>\n",
       "      <td>Gulraiz Housing Scheme</td>\n",
       "      <td>0</td>\n",
       "      <td>27</td>\n",
       "      <td>16335.060</td>\n",
       "    </tr>\n",
       "    <tr>\n",
       "      <th>152009</th>\n",
       "      <td>9.0</td>\n",
       "      <td>Gulshan-e-Iqbal Town</td>\n",
       "      <td>0</td>\n",
       "      <td>25</td>\n",
       "      <td>16335.060</td>\n",
       "    </tr>\n",
       "    <tr>\n",
       "      <th>164716</th>\n",
       "      <td>13.0</td>\n",
       "      <td>Satellite Town</td>\n",
       "      <td>0</td>\n",
       "      <td>28</td>\n",
       "      <td>10890.040</td>\n",
       "    </tr>\n",
       "    <tr>\n",
       "      <th>164717</th>\n",
       "      <td>13.0</td>\n",
       "      <td>Satellite Town</td>\n",
       "      <td>0</td>\n",
       "      <td>28</td>\n",
       "      <td>10890.040</td>\n",
       "    </tr>\n",
       "  </tbody>\n",
       "</table>\n",
       "</div>"
      ],
      "text/plain": [
       "         price                location  baths  bhk  total_sqft\n",
       "120075    13.0          Satellite Town      0   28   10890.040\n",
       "129557  9600.0                 Gulberg      0   25   43560.160\n",
       "130132     3.0                    G-14      0   21    6534.024\n",
       "139738    13.0          Satellite Town      0   28   10890.040\n",
       "140891    25.0         North Nazimabad      0   68   35937.132\n",
       "144418     5.5            Jamshed Town      0   25   16335.060\n",
       "144837   800.0  Gulraiz Housing Scheme      0   27   16335.060\n",
       "152009     9.0    Gulshan-e-Iqbal Town      0   25   16335.060\n",
       "164716    13.0          Satellite Town      0   28   10890.040\n",
       "164717    13.0          Satellite Town      0   28   10890.040"
      ]
     },
     "execution_count": 106,
     "metadata": {},
     "output_type": "execute_result"
    }
   ],
   "source": [
    "df3[df3.bhk>20]"
   ]
  },
  {
   "cell_type": "code",
   "execution_count": 107,
   "id": "cb72134a-a29e-4e98-aad4-84a86d7c1505",
   "metadata": {},
   "outputs": [
    {
     "data": {
      "text/plain": [
       "(168436, 5)"
      ]
     },
     "execution_count": 107,
     "metadata": {},
     "output_type": "execute_result"
    }
   ],
   "source": [
    "df3 = df3[df3.bhk <= 20]\n",
    "df3.shape"
   ]
  },
  {
   "cell_type": "code",
   "execution_count": 108,
   "id": "8898aa2a-f6b6-419e-8548-ace71221b13b",
   "metadata": {},
   "outputs": [
    {
     "data": {
      "text/html": [
       "<div>\n",
       "<style scoped>\n",
       "    .dataframe tbody tr th:only-of-type {\n",
       "        vertical-align: middle;\n",
       "    }\n",
       "\n",
       "    .dataframe tbody tr th {\n",
       "        vertical-align: top;\n",
       "    }\n",
       "\n",
       "    .dataframe thead th {\n",
       "        text-align: right;\n",
       "    }\n",
       "</style>\n",
       "<table border=\"1\" class=\"dataframe\">\n",
       "  <thead>\n",
       "    <tr style=\"text-align: right;\">\n",
       "      <th></th>\n",
       "      <th>price</th>\n",
       "      <th>location</th>\n",
       "      <th>baths</th>\n",
       "      <th>bhk</th>\n",
       "      <th>total_sqft</th>\n",
       "      <th>price_per_sqft</th>\n",
       "    </tr>\n",
       "  </thead>\n",
       "  <tbody>\n",
       "    <tr>\n",
       "      <th>0</th>\n",
       "      <td>100.0</td>\n",
       "      <td>G-10</td>\n",
       "      <td>2</td>\n",
       "      <td>2</td>\n",
       "      <td>1089.0040</td>\n",
       "      <td>9182.702727</td>\n",
       "    </tr>\n",
       "    <tr>\n",
       "      <th>1</th>\n",
       "      <td>69.0</td>\n",
       "      <td>E-11</td>\n",
       "      <td>3</td>\n",
       "      <td>3</td>\n",
       "      <td>1524.6056</td>\n",
       "      <td>4525.760630</td>\n",
       "    </tr>\n",
       "    <tr>\n",
       "      <th>2</th>\n",
       "      <td>165.0</td>\n",
       "      <td>G-15</td>\n",
       "      <td>6</td>\n",
       "      <td>5</td>\n",
       "      <td>2178.0080</td>\n",
       "      <td>7575.729749</td>\n",
       "    </tr>\n",
       "    <tr>\n",
       "      <th>3</th>\n",
       "      <td>435.0</td>\n",
       "      <td>Bani Gala</td>\n",
       "      <td>4</td>\n",
       "      <td>4</td>\n",
       "      <td>10890.0400</td>\n",
       "      <td>3994.475686</td>\n",
       "    </tr>\n",
       "    <tr>\n",
       "      <th>4</th>\n",
       "      <td>70.0</td>\n",
       "      <td>DHA Defence</td>\n",
       "      <td>3</td>\n",
       "      <td>3</td>\n",
       "      <td>2178.0080</td>\n",
       "      <td>3213.945954</td>\n",
       "    </tr>\n",
       "  </tbody>\n",
       "</table>\n",
       "</div>"
      ],
      "text/plain": [
       "   price     location  baths  bhk  total_sqft  price_per_sqft\n",
       "0  100.0         G-10      2    2   1089.0040     9182.702727\n",
       "1   69.0         E-11      3    3   1524.6056     4525.760630\n",
       "2  165.0         G-15      6    5   2178.0080     7575.729749\n",
       "3  435.0    Bani Gala      4    4  10890.0400     3994.475686\n",
       "4   70.0  DHA Defence      3    3   2178.0080     3213.945954"
      ]
     },
     "execution_count": 108,
     "metadata": {},
     "output_type": "execute_result"
    }
   ],
   "source": [
    "df4 = df3.copy()\n",
    "df4['price_per_sqft'] = df4['price']*100000/df4['total_sqft']\n",
    "df4.head()"
   ]
  },
  {
   "cell_type": "code",
   "execution_count": 109,
   "id": "67ba131b-0e35-41bd-afe2-a446afcbb5e1",
   "metadata": {},
   "outputs": [
    {
     "name": "stderr",
     "output_type": "stream",
     "text": [
      "C:\\Users\\hassa\\AppData\\Local\\Temp\\ipykernel_4064\\3808995197.py:1: FutureWarning: A value is trying to be set on a copy of a DataFrame or Series through chained assignment using an inplace method.\n",
      "The behavior will change in pandas 3.0. This inplace method will never work because the intermediate object on which we are setting values always behaves as a copy.\n",
      "\n",
      "For example, when doing 'df[col].method(value, inplace=True)', try using 'df.method({col: value}, inplace=True)' or df[col] = df[col].method(value) instead, to perform the operation inplace on the original object.\n",
      "\n",
      "\n",
      "  df4['price_per_sqft'].replace([np.inf, -np.inf], np.nan, inplace=True)\n"
     ]
    }
   ],
   "source": [
    "df4['price_per_sqft'].replace([np.inf, -np.inf], np.nan, inplace=True)"
   ]
  },
  {
   "cell_type": "code",
   "execution_count": 110,
   "id": "3f0c4fcb-893d-430b-afcc-89b368bb19e8",
   "metadata": {},
   "outputs": [],
   "source": [
    "df4.dropna(subset=['price_per_sqft'], inplace=True)"
   ]
  },
  {
   "cell_type": "code",
   "execution_count": 111,
   "id": "e7b8fcdf-c3fe-46e1-9ab0-22bdc78ab33c",
   "metadata": {},
   "outputs": [
    {
     "data": {
      "text/plain": [
       "count    1.684240e+05\n",
       "mean     6.096218e+03\n",
       "std      1.711058e+04\n",
       "min      0.000000e+00\n",
       "25%      4.591351e+01\n",
       "50%      5.876930e+03\n",
       "75%      8.723568e+03\n",
       "max      5.509622e+06\n",
       "Name: price_per_sqft, dtype: float64"
      ]
     },
     "execution_count": 111,
     "metadata": {},
     "output_type": "execute_result"
    }
   ],
   "source": [
    "df4_stats = df4['price_per_sqft'].describe()\n",
    "df4_stats"
   ]
  },
  {
   "cell_type": "code",
   "execution_count": 112,
   "id": "2c4c1fbc-15ad-47f2-98d1-fc7d1ea26182",
   "metadata": {},
   "outputs": [
    {
     "data": {
      "text/plain": [
       "location\n",
       "DHA Defence                  22046\n",
       "Bahria Town Karachi           8548\n",
       "Bahria Town Rawalpindi        8502\n",
       "Bahria Town                   6427\n",
       "Gulistan-e-Jauhar             5877\n",
       "                             ...  \n",
       "Gulshan-e-Ghazian                1\n",
       "Central Avenue                   1\n",
       "NHA Housing Society              1\n",
       "Farid Court Road                 1\n",
       "Khawaja Ahmed Hassan Road        1\n",
       "Name: count, Length: 1509, dtype: int64"
      ]
     },
     "execution_count": 112,
     "metadata": {},
     "output_type": "execute_result"
    }
   ],
   "source": [
    "df4.location = df4.location.apply(lambda x: x.strip())\n",
    "location_stats = df4['location'].value_counts(ascending=False)\n",
    "location_stats"
   ]
  },
  {
   "cell_type": "code",
   "execution_count": 113,
   "id": "7c54e481-b4b2-4cf0-a3b9-c99c05c59d43",
   "metadata": {},
   "outputs": [
    {
     "data": {
      "text/plain": [
       "np.int64(168424)"
      ]
     },
     "execution_count": 113,
     "metadata": {},
     "output_type": "execute_result"
    }
   ],
   "source": [
    "location_stats.values.sum()"
   ]
  },
  {
   "cell_type": "code",
   "execution_count": 114,
   "id": "f0f7f3d5-a70b-4847-8d26-02116aa9883a",
   "metadata": {},
   "outputs": [
    {
     "data": {
      "text/plain": [
       "684"
      ]
     },
     "execution_count": 114,
     "metadata": {},
     "output_type": "execute_result"
    }
   ],
   "source": [
    "len(location_stats[location_stats>10])"
   ]
  },
  {
   "cell_type": "code",
   "execution_count": 115,
   "id": "db30e439-1827-4f30-858d-6b25d2ac0fb8",
   "metadata": {},
   "outputs": [
    {
     "data": {
      "text/plain": [
       "1509"
      ]
     },
     "execution_count": 115,
     "metadata": {},
     "output_type": "execute_result"
    }
   ],
   "source": [
    "len(location_stats)"
   ]
  },
  {
   "cell_type": "code",
   "execution_count": 116,
   "id": "c864d3ea-d318-4b5f-a54c-5f440dd52f3f",
   "metadata": {},
   "outputs": [
    {
     "data": {
      "text/plain": [
       "825"
      ]
     },
     "execution_count": 116,
     "metadata": {},
     "output_type": "execute_result"
    }
   ],
   "source": [
    "len(location_stats[location_stats<=10])"
   ]
  },
  {
   "cell_type": "code",
   "execution_count": 117,
   "id": "ef2a0a06-3813-4ab6-bda7-77921cea5b8c",
   "metadata": {},
   "outputs": [
    {
     "data": {
      "text/plain": [
       "location\n",
       "Pakki Thatti                 10\n",
       "Misri Shah                   10\n",
       "Mian Amiruddin Park          10\n",
       "Chaman Park                  10\n",
       "Dubban Pura                  10\n",
       "                             ..\n",
       "Gulshan-e-Ghazian             1\n",
       "Central Avenue                1\n",
       "NHA Housing Society           1\n",
       "Farid Court Road              1\n",
       "Khawaja Ahmed Hassan Road     1\n",
       "Name: count, Length: 825, dtype: int64"
      ]
     },
     "execution_count": 117,
     "metadata": {},
     "output_type": "execute_result"
    }
   ],
   "source": [
    "location_stats_less_than_10 = location_stats[location_stats<=10]\n",
    "location_stats_less_than_10"
   ]
  },
  {
   "cell_type": "code",
   "execution_count": 118,
   "id": "d1a465f0-3dce-4900-ad07-ac6bc2006d63",
   "metadata": {},
   "outputs": [
    {
     "data": {
      "text/plain": [
       "1509"
      ]
     },
     "execution_count": 118,
     "metadata": {},
     "output_type": "execute_result"
    }
   ],
   "source": [
    "len(df4.location.unique())"
   ]
  },
  {
   "cell_type": "code",
   "execution_count": 119,
   "id": "40e8f6ea-4569-4ba8-b1b1-f465516913fa",
   "metadata": {},
   "outputs": [
    {
     "data": {
      "text/plain": [
       "685"
      ]
     },
     "execution_count": 119,
     "metadata": {},
     "output_type": "execute_result"
    }
   ],
   "source": [
    "df4.location = df4.location.apply(lambda x: 'other' if x in location_stats_less_than_10 else x)\n",
    "len(df4.location.unique())"
   ]
  },
  {
   "cell_type": "code",
   "execution_count": 120,
   "id": "171cc2ab-67c9-45bc-aa74-8919fb635560",
   "metadata": {},
   "outputs": [
    {
     "data": {
      "text/html": [
       "<div>\n",
       "<style scoped>\n",
       "    .dataframe tbody tr th:only-of-type {\n",
       "        vertical-align: middle;\n",
       "    }\n",
       "\n",
       "    .dataframe tbody tr th {\n",
       "        vertical-align: top;\n",
       "    }\n",
       "\n",
       "    .dataframe thead th {\n",
       "        text-align: right;\n",
       "    }\n",
       "</style>\n",
       "<table border=\"1\" class=\"dataframe\">\n",
       "  <thead>\n",
       "    <tr style=\"text-align: right;\">\n",
       "      <th></th>\n",
       "      <th>price</th>\n",
       "      <th>location</th>\n",
       "      <th>baths</th>\n",
       "      <th>bhk</th>\n",
       "      <th>total_sqft</th>\n",
       "      <th>price_per_sqft</th>\n",
       "    </tr>\n",
       "  </thead>\n",
       "  <tbody>\n",
       "    <tr>\n",
       "      <th>0</th>\n",
       "      <td>100.0</td>\n",
       "      <td>G-10</td>\n",
       "      <td>2</td>\n",
       "      <td>2</td>\n",
       "      <td>1089.0040</td>\n",
       "      <td>9182.702727</td>\n",
       "    </tr>\n",
       "    <tr>\n",
       "      <th>1</th>\n",
       "      <td>69.0</td>\n",
       "      <td>E-11</td>\n",
       "      <td>3</td>\n",
       "      <td>3</td>\n",
       "      <td>1524.6056</td>\n",
       "      <td>4525.760630</td>\n",
       "    </tr>\n",
       "    <tr>\n",
       "      <th>2</th>\n",
       "      <td>165.0</td>\n",
       "      <td>G-15</td>\n",
       "      <td>6</td>\n",
       "      <td>5</td>\n",
       "      <td>2178.0080</td>\n",
       "      <td>7575.729749</td>\n",
       "    </tr>\n",
       "    <tr>\n",
       "      <th>3</th>\n",
       "      <td>435.0</td>\n",
       "      <td>Bani Gala</td>\n",
       "      <td>4</td>\n",
       "      <td>4</td>\n",
       "      <td>10890.0400</td>\n",
       "      <td>3994.475686</td>\n",
       "    </tr>\n",
       "    <tr>\n",
       "      <th>4</th>\n",
       "      <td>70.0</td>\n",
       "      <td>DHA Defence</td>\n",
       "      <td>3</td>\n",
       "      <td>3</td>\n",
       "      <td>2178.0080</td>\n",
       "      <td>3213.945954</td>\n",
       "    </tr>\n",
       "    <tr>\n",
       "      <th>5</th>\n",
       "      <td>345.0</td>\n",
       "      <td>Ghauri Town</td>\n",
       "      <td>8</td>\n",
       "      <td>8</td>\n",
       "      <td>8712.0320</td>\n",
       "      <td>3960.040551</td>\n",
       "    </tr>\n",
       "    <tr>\n",
       "      <th>6</th>\n",
       "      <td>270.0</td>\n",
       "      <td>Korang Town</td>\n",
       "      <td>8</td>\n",
       "      <td>8</td>\n",
       "      <td>5445.0200</td>\n",
       "      <td>4958.659472</td>\n",
       "    </tr>\n",
       "    <tr>\n",
       "      <th>7</th>\n",
       "      <td>78.0</td>\n",
       "      <td>E-11</td>\n",
       "      <td>2</td>\n",
       "      <td>2</td>\n",
       "      <td>1687.9562</td>\n",
       "      <td>4620.972985</td>\n",
       "    </tr>\n",
       "    <tr>\n",
       "      <th>8</th>\n",
       "      <td>500.0</td>\n",
       "      <td>DHA Defence</td>\n",
       "      <td>7</td>\n",
       "      <td>7</td>\n",
       "      <td>5445.0200</td>\n",
       "      <td>9182.702727</td>\n",
       "    </tr>\n",
       "    <tr>\n",
       "      <th>9</th>\n",
       "      <td>400.0</td>\n",
       "      <td>F-11</td>\n",
       "      <td>5</td>\n",
       "      <td>5</td>\n",
       "      <td>5445.0200</td>\n",
       "      <td>7346.162181</td>\n",
       "    </tr>\n",
       "  </tbody>\n",
       "</table>\n",
       "</div>"
      ],
      "text/plain": [
       "   price     location  baths  bhk  total_sqft  price_per_sqft\n",
       "0  100.0         G-10      2    2   1089.0040     9182.702727\n",
       "1   69.0         E-11      3    3   1524.6056     4525.760630\n",
       "2  165.0         G-15      6    5   2178.0080     7575.729749\n",
       "3  435.0    Bani Gala      4    4  10890.0400     3994.475686\n",
       "4   70.0  DHA Defence      3    3   2178.0080     3213.945954\n",
       "5  345.0  Ghauri Town      8    8   8712.0320     3960.040551\n",
       "6  270.0  Korang Town      8    8   5445.0200     4958.659472\n",
       "7   78.0         E-11      2    2   1687.9562     4620.972985\n",
       "8  500.0  DHA Defence      7    7   5445.0200     9182.702727\n",
       "9  400.0         F-11      5    5   5445.0200     7346.162181"
      ]
     },
     "execution_count": 120,
     "metadata": {},
     "output_type": "execute_result"
    }
   ],
   "source": [
    "df4.head(10)"
   ]
  },
  {
   "cell_type": "code",
   "execution_count": 121,
   "id": "30fe56cf-198e-4657-bbf4-ff61607b098b",
   "metadata": {},
   "outputs": [
    {
     "data": {
      "text/html": [
       "<div>\n",
       "<style scoped>\n",
       "    .dataframe tbody tr th:only-of-type {\n",
       "        vertical-align: middle;\n",
       "    }\n",
       "\n",
       "    .dataframe tbody tr th {\n",
       "        vertical-align: top;\n",
       "    }\n",
       "\n",
       "    .dataframe thead th {\n",
       "        text-align: right;\n",
       "    }\n",
       "</style>\n",
       "<table border=\"1\" class=\"dataframe\">\n",
       "  <thead>\n",
       "    <tr style=\"text-align: right;\">\n",
       "      <th></th>\n",
       "      <th>price</th>\n",
       "      <th>location</th>\n",
       "      <th>baths</th>\n",
       "      <th>bhk</th>\n",
       "      <th>total_sqft</th>\n",
       "      <th>price_per_sqft</th>\n",
       "    </tr>\n",
       "  </thead>\n",
       "  <tbody>\n",
       "    <tr>\n",
       "      <th>25</th>\n",
       "      <td>68.0</td>\n",
       "      <td>Koral Town</td>\n",
       "      <td>4</td>\n",
       "      <td>4</td>\n",
       "      <td>1089.0040</td>\n",
       "      <td>6244.237854</td>\n",
       "    </tr>\n",
       "    <tr>\n",
       "      <th>68</th>\n",
       "      <td>32.0</td>\n",
       "      <td>Chungi Amar Sadhu</td>\n",
       "      <td>2</td>\n",
       "      <td>3</td>\n",
       "      <td>816.7530</td>\n",
       "      <td>3917.953163</td>\n",
       "    </tr>\n",
       "    <tr>\n",
       "      <th>80</th>\n",
       "      <td>55.0</td>\n",
       "      <td>other</td>\n",
       "      <td>3</td>\n",
       "      <td>3</td>\n",
       "      <td>680.6275</td>\n",
       "      <td>8080.778399</td>\n",
       "    </tr>\n",
       "    <tr>\n",
       "      <th>96</th>\n",
       "      <td>60.0</td>\n",
       "      <td>Raza Abad</td>\n",
       "      <td>2</td>\n",
       "      <td>4</td>\n",
       "      <td>680.6275</td>\n",
       "      <td>8815.394617</td>\n",
       "    </tr>\n",
       "    <tr>\n",
       "      <th>118</th>\n",
       "      <td>50.0</td>\n",
       "      <td>Chakri Road</td>\n",
       "      <td>5</td>\n",
       "      <td>6</td>\n",
       "      <td>1361.2550</td>\n",
       "      <td>3673.081091</td>\n",
       "    </tr>\n",
       "  </tbody>\n",
       "</table>\n",
       "</div>"
      ],
      "text/plain": [
       "     price           location  baths  bhk  total_sqft  price_per_sqft\n",
       "25    68.0         Koral Town      4    4   1089.0040     6244.237854\n",
       "68    32.0  Chungi Amar Sadhu      2    3    816.7530     3917.953163\n",
       "80    55.0              other      3    3    680.6275     8080.778399\n",
       "96    60.0          Raza Abad      2    4    680.6275     8815.394617\n",
       "118   50.0        Chakri Road      5    6   1361.2550     3673.081091"
      ]
     },
     "execution_count": 121,
     "metadata": {},
     "output_type": "execute_result"
    }
   ],
   "source": [
    "df4[df4.total_sqft/df4.bhk<300].head()"
   ]
  },
  {
   "cell_type": "code",
   "execution_count": 122,
   "id": "d6648c0c-bc34-4e54-9b9a-aca479529a44",
   "metadata": {},
   "outputs": [
    {
     "data": {
      "text/plain": [
       "(168424, 6)"
      ]
     },
     "execution_count": 122,
     "metadata": {},
     "output_type": "execute_result"
    }
   ],
   "source": [
    "df4.shape"
   ]
  },
  {
   "cell_type": "code",
   "execution_count": 123,
   "id": "cf5706da-bd47-46df-9610-55e986aa2ca7",
   "metadata": {},
   "outputs": [
    {
     "data": {
      "text/plain": [
       "(154468, 6)"
      ]
     },
     "execution_count": 123,
     "metadata": {},
     "output_type": "execute_result"
    }
   ],
   "source": [
    "df5 = df4[~(df4.total_sqft/df4.bhk<300)]\n",
    "df5.shape"
   ]
  },
  {
   "cell_type": "code",
   "execution_count": 124,
   "id": "09d10990-df11-42b0-ae1d-09bfd7209170",
   "metadata": {},
   "outputs": [
    {
     "data": {
      "text/plain": [
       "count    154468.000000\n",
       "mean       5786.292800\n",
       "std        6123.263759\n",
       "min           0.000000\n",
       "25%          37.510942\n",
       "50%        5601.448663\n",
       "75%        8448.086508\n",
       "max      918270.272653\n",
       "Name: price_per_sqft, dtype: float64"
      ]
     },
     "execution_count": 124,
     "metadata": {},
     "output_type": "execute_result"
    }
   ],
   "source": [
    "df5.price_per_sqft.describe()"
   ]
  },
  {
   "cell_type": "code",
   "execution_count": 125,
   "id": "4e5a505b-0111-4098-8feb-df7e4f1b466c",
   "metadata": {},
   "outputs": [
    {
     "data": {
      "text/plain": [
       "(109482, 6)"
      ]
     },
     "execution_count": 125,
     "metadata": {},
     "output_type": "execute_result"
    }
   ],
   "source": [
    "def remove_pps_outliers(df):\n",
    "    df_out = pd.DataFrame()\n",
    "    for key, subdf in df.groupby('location'):\n",
    "        m = np.mean(subdf.price_per_sqft)\n",
    "        st = np.std(subdf.price_per_sqft)\n",
    "        reduced_df = subdf[(subdf.price_per_sqft>(m-st)) & (subdf.price_per_sqft<=(m+st))]\n",
    "        df_out = pd.concat([df_out,reduced_df],ignore_index=True)\n",
    "    return df_out\n",
    "df6 = remove_pps_outliers(df5)\n",
    "df6.shape"
   ]
  },
  {
   "cell_type": "code",
   "execution_count": 126,
   "id": "d3c5be55-b549-47c2-8dff-c20c8f3983ce",
   "metadata": {},
   "outputs": [
    {
     "data": {
      "image/png": "[encoded data removed]",
      "text/plain": [
       "<Figure size 1500x1000 with 1 Axes>"
      ]
     },
     "metadata": {},
     "output_type": "display_data"
    }
   ],
   "source": [
    "def plot_scatter_chart(df,location):\n",
    "    bhk2 = df[(df.location==location) & (df.bhk==2)]\n",
    "    bhk3 = df[(df.location==location) & (df.bhk==3)]\n",
    "    plt.rcParams['figure.figsize'] = (15,10)\n",
    "    plt.scatter(bhk2.total_sqft,bhk2.price,color='blue',label='2 BHK', s=50)\n",
    "    plt.scatter(bhk3.total_sqft,bhk3.price,marker='+', color='green',label='3 BHK', s=50)\n",
    "    plt.xlabel(\"Total Square Feet Area\")\n",
    "    plt.ylabel(\"Price (Lakh Indian Rupees)\")\n",
    "    plt.title(location)\n",
    "    plt.legend()\n",
    "    \n",
    "plot_scatter_chart(df6,\"G-10\")"
   ]
  },
  {
   "cell_type": "code",
   "execution_count": 127,
   "id": "3594b3b8-37c3-4526-ae5d-8b2894a2f85e",
   "metadata": {},
   "outputs": [
    {
     "data": {
      "text/plain": [
       "(66856, 6)"
      ]
     },
     "execution_count": 127,
     "metadata": {},
     "output_type": "execute_result"
    }
   ],
   "source": [
    "def remove_bhk_outliers(df):\n",
    "    exclude_indices = np.array([])\n",
    "    for location, location_df in df.groupby('location'):\n",
    "        bhk_stats = {}\n",
    "        for bhk, bhk_df in location_df.groupby('bhk'):\n",
    "            bhk_stats[bhk] = {\n",
    "                'mean': np.mean(bhk_df.price_per_sqft),\n",
    "                'std': np.std(bhk_df.price_per_sqft),\n",
    "                'count': bhk_df.shape[0]\n",
    "            }\n",
    "        for bhk, bhk_df in location_df.groupby('bhk'):\n",
    "            stats = bhk_stats.get(bhk-1)\n",
    "            if stats and stats['count']>5:\n",
    "                exclude_indices = np.append(exclude_indices, bhk_df[bhk_df.price_per_sqft<(stats['mean'])].index.values)\n",
    "    return df.drop(exclude_indices,axis='index')\n",
    "df7 = remove_bhk_outliers(df6)\n",
    "# df8 = df7.copy()\n",
    "df7.shape"
   ]
  },
  {
   "cell_type": "code",
   "execution_count": 128,
   "id": "04892694-280a-40da-a399-86cf0406b0b3",
   "metadata": {},
   "outputs": [
    {
     "data": {
      "image/png": "[encoded data removed]",
      "text/plain": [
       "<Figure size 1500x1000 with 1 Axes>"
      ]
     },
     "metadata": {},
     "output_type": "display_data"
    }
   ],
   "source": [
    "plot_scatter_chart(df7,\"G-10\")"
   ]
  },
  {
   "cell_type": "code",
   "execution_count": 129,
   "id": "777df551-2a68-4f07-a487-8d1e5d8aa81f",
   "metadata": {},
   "outputs": [
    {
     "data": {
      "text/plain": [
       "Text(0, 0.5, 'Count')"
      ]
     },
     "execution_count": 129,
     "metadata": {},
     "output_type": "execute_result"
    },
    {
     "data": {
      "image/png": "[encoded data removed]",
      "text/plain": [
       "<Figure size 2000x1000 with 1 Axes>"
      ]
     },
     "metadata": {},
     "output_type": "display_data"
    }
   ],
   "source": [
    "plt.rcParams[\"figure.figsize\"] = (20,10)\n",
    "plt.hist(df7.price_per_sqft,rwidth=0.8)\n",
    "plt.xlabel(\"Price Per Square Feet\")\n",
    "plt.ylabel(\"Count\")"
   ]
  },
  {
   "cell_type": "code",
   "execution_count": 130,
   "id": "4d91b4ba-39ab-409d-976c-d6940735f7cb",
   "metadata": {},
   "outputs": [
    {
     "data": {
      "text/plain": [
       "array([ 2,  8,  0,  1,  3,  6,  5,  7, 10,  4,  9, 13, 14, 12, 11])"
      ]
     },
     "execution_count": 130,
     "metadata": {},
     "output_type": "execute_result"
    }
   ],
   "source": [
    "df7.baths.unique()"
   ]
  },
  {
   "cell_type": "code",
   "execution_count": 131,
   "id": "a693da3f-27e6-4437-a47d-5be5001f4558",
   "metadata": {},
   "outputs": [
    {
     "data": {
      "text/plain": [
       "Text(0, 0.5, 'Count')"
      ]
     },
     "execution_count": 131,
     "metadata": {},
     "output_type": "execute_result"
    },
    {
     "data": {
      "image/png": "[encoded data removed]",
      "text/plain": [
       "<Figure size 2000x1000 with 1 Axes>"
      ]
     },
     "metadata": {},
     "output_type": "display_data"
    }
   ],
   "source": [
    "plt.hist(df7.baths,rwidth=0.8)\n",
    "plt.xlabel(\"Number of bathrooms\")\n",
    "plt.ylabel(\"Count\")"
   ]
  },
  {
   "cell_type": "code",
   "execution_count": 132,
   "id": "1c6246cc-5dbb-4162-aa6e-f7e214883e76",
   "metadata": {},
   "outputs": [
    {
     "data": {
      "text/html": [
       "<div>\n",
       "<style scoped>\n",
       "    .dataframe tbody tr th:only-of-type {\n",
       "        vertical-align: middle;\n",
       "    }\n",
       "\n",
       "    .dataframe tbody tr th {\n",
       "        vertical-align: top;\n",
       "    }\n",
       "\n",
       "    .dataframe thead th {\n",
       "        text-align: right;\n",
       "    }\n",
       "</style>\n",
       "<table border=\"1\" class=\"dataframe\">\n",
       "  <thead>\n",
       "    <tr style=\"text-align: right;\">\n",
       "      <th></th>\n",
       "      <th>price</th>\n",
       "      <th>location</th>\n",
       "      <th>baths</th>\n",
       "      <th>bhk</th>\n",
       "      <th>total_sqft</th>\n",
       "      <th>price_per_sqft</th>\n",
       "    </tr>\n",
       "  </thead>\n",
       "  <tbody>\n",
       "    <tr>\n",
       "      <th>31398</th>\n",
       "      <td>3.0</td>\n",
       "      <td>D-12</td>\n",
       "      <td>13</td>\n",
       "      <td>10</td>\n",
       "      <td>6534.024</td>\n",
       "      <td>45.913514</td>\n",
       "    </tr>\n",
       "    <tr>\n",
       "      <th>55284</th>\n",
       "      <td>6.5</td>\n",
       "      <td>F-8</td>\n",
       "      <td>14</td>\n",
       "      <td>14</td>\n",
       "      <td>21780.080</td>\n",
       "      <td>29.843784</td>\n",
       "    </tr>\n",
       "    <tr>\n",
       "      <th>61504</th>\n",
       "      <td>2.3</td>\n",
       "      <td>G-14</td>\n",
       "      <td>12</td>\n",
       "      <td>10</td>\n",
       "      <td>6534.024</td>\n",
       "      <td>35.200360</td>\n",
       "    </tr>\n",
       "    <tr>\n",
       "      <th>61507</th>\n",
       "      <td>2.5</td>\n",
       "      <td>G-14</td>\n",
       "      <td>14</td>\n",
       "      <td>10</td>\n",
       "      <td>8167.530</td>\n",
       "      <td>30.609009</td>\n",
       "    </tr>\n",
       "    <tr>\n",
       "      <th>102700</th>\n",
       "      <td>1250.0</td>\n",
       "      <td>Shadman 2</td>\n",
       "      <td>11</td>\n",
       "      <td>11</td>\n",
       "      <td>10890.040</td>\n",
       "      <td>11478.378408</td>\n",
       "    </tr>\n",
       "  </tbody>\n",
       "</table>\n",
       "</div>"
      ],
      "text/plain": [
       "         price   location  baths  bhk  total_sqft  price_per_sqft\n",
       "31398      3.0       D-12     13   10    6534.024       45.913514\n",
       "55284      6.5        F-8     14   14   21780.080       29.843784\n",
       "61504      2.3       G-14     12   10    6534.024       35.200360\n",
       "61507      2.5       G-14     14   10    8167.530       30.609009\n",
       "102700  1250.0  Shadman 2     11   11   10890.040    11478.378408"
      ]
     },
     "execution_count": 132,
     "metadata": {},
     "output_type": "execute_result"
    }
   ],
   "source": [
    "df7[df7.baths>10]"
   ]
  },
  {
   "cell_type": "code",
   "execution_count": 133,
   "id": "224a88b6-5112-4e1e-bc17-e971e2467db6",
   "metadata": {},
   "outputs": [
    {
     "data": {
      "text/html": [
       "<div>\n",
       "<style scoped>\n",
       "    .dataframe tbody tr th:only-of-type {\n",
       "        vertical-align: middle;\n",
       "    }\n",
       "\n",
       "    .dataframe tbody tr th {\n",
       "        vertical-align: top;\n",
       "    }\n",
       "\n",
       "    .dataframe thead th {\n",
       "        text-align: right;\n",
       "    }\n",
       "</style>\n",
       "<table border=\"1\" class=\"dataframe\">\n",
       "  <thead>\n",
       "    <tr style=\"text-align: right;\">\n",
       "      <th></th>\n",
       "      <th>price</th>\n",
       "      <th>location</th>\n",
       "      <th>baths</th>\n",
       "      <th>bhk</th>\n",
       "      <th>total_sqft</th>\n",
       "      <th>price_per_sqft</th>\n",
       "    </tr>\n",
       "  </thead>\n",
       "  <tbody>\n",
       "    <tr>\n",
       "      <th>214</th>\n",
       "      <td>35.0</td>\n",
       "      <td>Abul Hassan Isphani Road</td>\n",
       "      <td>3</td>\n",
       "      <td>0</td>\n",
       "      <td>1361.2550</td>\n",
       "      <td>2571.156763</td>\n",
       "    </tr>\n",
       "    <tr>\n",
       "      <th>1083</th>\n",
       "      <td>150.0</td>\n",
       "      <td>Afshan Colony</td>\n",
       "      <td>3</td>\n",
       "      <td>0</td>\n",
       "      <td>2722.5100</td>\n",
       "      <td>5509.621636</td>\n",
       "    </tr>\n",
       "    <tr>\n",
       "      <th>1299</th>\n",
       "      <td>80.0</td>\n",
       "      <td>Airport</td>\n",
       "      <td>8</td>\n",
       "      <td>0</td>\n",
       "      <td>1306.8048</td>\n",
       "      <td>6121.801818</td>\n",
       "    </tr>\n",
       "    <tr>\n",
       "      <th>1951</th>\n",
       "      <td>105.0</td>\n",
       "      <td>Al Kareem Garden</td>\n",
       "      <td>6</td>\n",
       "      <td>0</td>\n",
       "      <td>1361.2550</td>\n",
       "      <td>7713.470290</td>\n",
       "    </tr>\n",
       "    <tr>\n",
       "      <th>2779</th>\n",
       "      <td>57.0</td>\n",
       "      <td>Allahabad Road</td>\n",
       "      <td>3</td>\n",
       "      <td>0</td>\n",
       "      <td>1089.0040</td>\n",
       "      <td>5234.140554</td>\n",
       "    </tr>\n",
       "    <tr>\n",
       "      <th>...</th>\n",
       "      <td>...</td>\n",
       "      <td>...</td>\n",
       "      <td>...</td>\n",
       "      <td>...</td>\n",
       "      <td>...</td>\n",
       "      <td>...</td>\n",
       "    </tr>\n",
       "    <tr>\n",
       "      <th>108641</th>\n",
       "      <td>120.0</td>\n",
       "      <td>other</td>\n",
       "      <td>3</td>\n",
       "      <td>0</td>\n",
       "      <td>1633.5060</td>\n",
       "      <td>7346.162181</td>\n",
       "    </tr>\n",
       "    <tr>\n",
       "      <th>108706</th>\n",
       "      <td>99.0</td>\n",
       "      <td>other</td>\n",
       "      <td>6</td>\n",
       "      <td>0</td>\n",
       "      <td>1361.2550</td>\n",
       "      <td>7272.700559</td>\n",
       "    </tr>\n",
       "    <tr>\n",
       "      <th>108910</th>\n",
       "      <td>450.0</td>\n",
       "      <td>other</td>\n",
       "      <td>8</td>\n",
       "      <td>0</td>\n",
       "      <td>4900.5180</td>\n",
       "      <td>9182.702727</td>\n",
       "    </tr>\n",
       "    <tr>\n",
       "      <th>108958</th>\n",
       "      <td>350.0</td>\n",
       "      <td>other</td>\n",
       "      <td>9</td>\n",
       "      <td>6</td>\n",
       "      <td>5445.0200</td>\n",
       "      <td>6427.891909</td>\n",
       "    </tr>\n",
       "    <tr>\n",
       "      <th>109070</th>\n",
       "      <td>145.0</td>\n",
       "      <td>other</td>\n",
       "      <td>6</td>\n",
       "      <td>3</td>\n",
       "      <td>2722.5100</td>\n",
       "      <td>5325.967581</td>\n",
       "    </tr>\n",
       "  </tbody>\n",
       "</table>\n",
       "<p>291 rows × 6 columns</p>\n",
       "</div>"
      ],
      "text/plain": [
       "        price                  location  baths  bhk  total_sqft  \\\n",
       "214      35.0  Abul Hassan Isphani Road      3    0   1361.2550   \n",
       "1083    150.0             Afshan Colony      3    0   2722.5100   \n",
       "1299     80.0                   Airport      8    0   1306.8048   \n",
       "1951    105.0          Al Kareem Garden      6    0   1361.2550   \n",
       "2779     57.0            Allahabad Road      3    0   1089.0040   \n",
       "...       ...                       ...    ...  ...         ...   \n",
       "108641  120.0                     other      3    0   1633.5060   \n",
       "108706   99.0                     other      6    0   1361.2550   \n",
       "108910  450.0                     other      8    0   4900.5180   \n",
       "108958  350.0                     other      9    6   5445.0200   \n",
       "109070  145.0                     other      6    3   2722.5100   \n",
       "\n",
       "        price_per_sqft  \n",
       "214        2571.156763  \n",
       "1083       5509.621636  \n",
       "1299       6121.801818  \n",
       "1951       7713.470290  \n",
       "2779       5234.140554  \n",
       "...                ...  \n",
       "108641     7346.162181  \n",
       "108706     7272.700559  \n",
       "108910     9182.702727  \n",
       "108958     6427.891909  \n",
       "109070     5325.967581  \n",
       "\n",
       "[291 rows x 6 columns]"
      ]
     },
     "execution_count": 133,
     "metadata": {},
     "output_type": "execute_result"
    }
   ],
   "source": [
    "df7[df7.baths>df7.bhk+2]"
   ]
  },
  {
   "cell_type": "code",
   "execution_count": 134,
   "id": "bc46361a-8591-40da-96cd-fd322b4ab3a9",
   "metadata": {},
   "outputs": [
    {
     "data": {
      "text/plain": [
       "(64660, 6)"
      ]
     },
     "execution_count": 134,
     "metadata": {},
     "output_type": "execute_result"
    }
   ],
   "source": [
    "df8 = df7[df7.baths<df7.bhk+2]\n",
    "df8.shape"
   ]
  },
  {
   "cell_type": "code",
   "execution_count": 135,
   "id": "8698f0de-a0e8-40ee-97d5-bb7641ecd9a1",
   "metadata": {},
   "outputs": [
    {
     "data": {
      "text/plain": [
       "(66856, 6)"
      ]
     },
     "execution_count": 135,
     "metadata": {},
     "output_type": "execute_result"
    }
   ],
   "source": [
    "df7.shape"
   ]
  },
  {
   "cell_type": "code",
   "execution_count": 136,
   "id": "caa1a7aa-c07d-477e-8ed7-420053dca56d",
   "metadata": {},
   "outputs": [
    {
     "data": {
      "text/html": [
       "<div>\n",
       "<style scoped>\n",
       "    .dataframe tbody tr th:only-of-type {\n",
       "        vertical-align: middle;\n",
       "    }\n",
       "\n",
       "    .dataframe tbody tr th {\n",
       "        vertical-align: top;\n",
       "    }\n",
       "\n",
       "    .dataframe thead th {\n",
       "        text-align: right;\n",
       "    }\n",
       "</style>\n",
       "<table border=\"1\" class=\"dataframe\">\n",
       "  <thead>\n",
       "    <tr style=\"text-align: right;\">\n",
       "      <th></th>\n",
       "      <th>price</th>\n",
       "      <th>location</th>\n",
       "      <th>baths</th>\n",
       "      <th>bhk</th>\n",
       "      <th>total_sqft</th>\n",
       "      <th>price_per_sqft</th>\n",
       "    </tr>\n",
       "  </thead>\n",
       "  <tbody>\n",
       "    <tr>\n",
       "      <th>1</th>\n",
       "      <td>0.9</td>\n",
       "      <td>7th Avenue</td>\n",
       "      <td>2</td>\n",
       "      <td>2</td>\n",
       "      <td>1742.4064</td>\n",
       "      <td>51.652703</td>\n",
       "    </tr>\n",
       "    <tr>\n",
       "      <th>2</th>\n",
       "      <td>10.0</td>\n",
       "      <td>7th Avenue</td>\n",
       "      <td>8</td>\n",
       "      <td>8</td>\n",
       "      <td>10890.0400</td>\n",
       "      <td>91.827027</td>\n",
       "    </tr>\n",
       "  </tbody>\n",
       "</table>\n",
       "</div>"
      ],
      "text/plain": [
       "   price    location  baths  bhk  total_sqft  price_per_sqft\n",
       "1    0.9  7th Avenue      2    2   1742.4064       51.652703\n",
       "2   10.0  7th Avenue      8    8  10890.0400       91.827027"
      ]
     },
     "execution_count": 136,
     "metadata": {},
     "output_type": "execute_result"
    }
   ],
   "source": [
    "df8.head(2)"
   ]
  },
  {
   "cell_type": "code",
   "execution_count": 137,
   "id": "eeb43a05-080a-43d5-aa0a-481357fbb2c8",
   "metadata": {},
   "outputs": [
    {
     "data": {
      "text/html": [
       "<div>\n",
       "<style scoped>\n",
       "    .dataframe tbody tr th:only-of-type {\n",
       "        vertical-align: middle;\n",
       "    }\n",
       "\n",
       "    .dataframe tbody tr th {\n",
       "        vertical-align: top;\n",
       "    }\n",
       "\n",
       "    .dataframe thead th {\n",
       "        text-align: right;\n",
       "    }\n",
       "</style>\n",
       "<table border=\"1\" class=\"dataframe\">\n",
       "  <thead>\n",
       "    <tr style=\"text-align: right;\">\n",
       "      <th></th>\n",
       "      <th>price</th>\n",
       "      <th>location</th>\n",
       "      <th>baths</th>\n",
       "      <th>bhk</th>\n",
       "      <th>total_sqft</th>\n",
       "    </tr>\n",
       "  </thead>\n",
       "  <tbody>\n",
       "    <tr>\n",
       "      <th>1</th>\n",
       "      <td>0.9</td>\n",
       "      <td>7th Avenue</td>\n",
       "      <td>2</td>\n",
       "      <td>2</td>\n",
       "      <td>1742.4064</td>\n",
       "    </tr>\n",
       "    <tr>\n",
       "      <th>2</th>\n",
       "      <td>10.0</td>\n",
       "      <td>7th Avenue</td>\n",
       "      <td>8</td>\n",
       "      <td>8</td>\n",
       "      <td>10890.0400</td>\n",
       "    </tr>\n",
       "    <tr>\n",
       "      <th>3</th>\n",
       "      <td>60.0</td>\n",
       "      <td>7th Avenue</td>\n",
       "      <td>0</td>\n",
       "      <td>0</td>\n",
       "      <td>2722.5100</td>\n",
       "    </tr>\n",
       "  </tbody>\n",
       "</table>\n",
       "</div>"
      ],
      "text/plain": [
       "   price    location  baths  bhk  total_sqft\n",
       "1    0.9  7th Avenue      2    2   1742.4064\n",
       "2   10.0  7th Avenue      8    8  10890.0400\n",
       "3   60.0  7th Avenue      0    0   2722.5100"
      ]
     },
     "execution_count": 137,
     "metadata": {},
     "output_type": "execute_result"
    }
   ],
   "source": [
    "df10 = df8.drop(['price_per_sqft'],axis='columns')\n",
    "df10.head(3)"
   ]
  },
  {
   "cell_type": "code",
   "execution_count": 138,
   "id": "f1303cba-c55f-4510-9422-035c8974957a",
   "metadata": {},
   "outputs": [
    {
     "data": {
      "text/html": [
       "<div>\n",
       "<style scoped>\n",
       "    .dataframe tbody tr th:only-of-type {\n",
       "        vertical-align: middle;\n",
       "    }\n",
       "\n",
       "    .dataframe tbody tr th {\n",
       "        vertical-align: top;\n",
       "    }\n",
       "\n",
       "    .dataframe thead th {\n",
       "        text-align: right;\n",
       "    }\n",
       "</style>\n",
       "<table border=\"1\" class=\"dataframe\">\n",
       "  <thead>\n",
       "    <tr style=\"text-align: right;\">\n",
       "      <th></th>\n",
       "      <th>7th Avenue</th>\n",
       "      <th>9th Avenue</th>\n",
       "      <th>ASF Tower</th>\n",
       "      <th>AWT Army Welfare Trust</th>\n",
       "      <th>Aashiana Road</th>\n",
       "      <th>Abdali Road</th>\n",
       "      <th>Abdalians Cooperative Housing Society</th>\n",
       "      <th>Abid Town</th>\n",
       "      <th>Abul Hassan Isphani Road</th>\n",
       "      <th>Acro Green - Bankers Avenue</th>\n",
       "      <th>...</th>\n",
       "      <th>Younas Town</th>\n",
       "      <th>Yousaf Colony</th>\n",
       "      <th>Yousaf Town</th>\n",
       "      <th>Zaheer Villas</th>\n",
       "      <th>Zaitoon - New Lahore City</th>\n",
       "      <th>Zamzama</th>\n",
       "      <th>Zaraj Housing Scheme</th>\n",
       "      <th>Zia Colony</th>\n",
       "      <th>Zubaida Park</th>\n",
       "      <th>other</th>\n",
       "    </tr>\n",
       "  </thead>\n",
       "  <tbody>\n",
       "    <tr>\n",
       "      <th>1</th>\n",
       "      <td>True</td>\n",
       "      <td>False</td>\n",
       "      <td>False</td>\n",
       "      <td>False</td>\n",
       "      <td>False</td>\n",
       "      <td>False</td>\n",
       "      <td>False</td>\n",
       "      <td>False</td>\n",
       "      <td>False</td>\n",
       "      <td>False</td>\n",
       "      <td>...</td>\n",
       "      <td>False</td>\n",
       "      <td>False</td>\n",
       "      <td>False</td>\n",
       "      <td>False</td>\n",
       "      <td>False</td>\n",
       "      <td>False</td>\n",
       "      <td>False</td>\n",
       "      <td>False</td>\n",
       "      <td>False</td>\n",
       "      <td>False</td>\n",
       "    </tr>\n",
       "    <tr>\n",
       "      <th>2</th>\n",
       "      <td>True</td>\n",
       "      <td>False</td>\n",
       "      <td>False</td>\n",
       "      <td>False</td>\n",
       "      <td>False</td>\n",
       "      <td>False</td>\n",
       "      <td>False</td>\n",
       "      <td>False</td>\n",
       "      <td>False</td>\n",
       "      <td>False</td>\n",
       "      <td>...</td>\n",
       "      <td>False</td>\n",
       "      <td>False</td>\n",
       "      <td>False</td>\n",
       "      <td>False</td>\n",
       "      <td>False</td>\n",
       "      <td>False</td>\n",
       "      <td>False</td>\n",
       "      <td>False</td>\n",
       "      <td>False</td>\n",
       "      <td>False</td>\n",
       "    </tr>\n",
       "    <tr>\n",
       "      <th>3</th>\n",
       "      <td>True</td>\n",
       "      <td>False</td>\n",
       "      <td>False</td>\n",
       "      <td>False</td>\n",
       "      <td>False</td>\n",
       "      <td>False</td>\n",
       "      <td>False</td>\n",
       "      <td>False</td>\n",
       "      <td>False</td>\n",
       "      <td>False</td>\n",
       "      <td>...</td>\n",
       "      <td>False</td>\n",
       "      <td>False</td>\n",
       "      <td>False</td>\n",
       "      <td>False</td>\n",
       "      <td>False</td>\n",
       "      <td>False</td>\n",
       "      <td>False</td>\n",
       "      <td>False</td>\n",
       "      <td>False</td>\n",
       "      <td>False</td>\n",
       "    </tr>\n",
       "  </tbody>\n",
       "</table>\n",
       "<p>3 rows × 684 columns</p>\n",
       "</div>"
      ],
      "text/plain": [
       "   7th Avenue  9th Avenue  ASF Tower  AWT Army Welfare Trust  Aashiana Road  \\\n",
       "1        True       False      False                   False          False   \n",
       "2        True       False      False                   False          False   \n",
       "3        True       False      False                   False          False   \n",
       "\n",
       "   Abdali Road  Abdalians Cooperative Housing Society  Abid Town  \\\n",
       "1        False                                  False      False   \n",
       "2        False                                  False      False   \n",
       "3        False                                  False      False   \n",
       "\n",
       "   Abul Hassan Isphani Road  Acro Green - Bankers Avenue  ...  Younas Town  \\\n",
       "1                     False                        False  ...        False   \n",
       "2                     False                        False  ...        False   \n",
       "3                     False                        False  ...        False   \n",
       "\n",
       "   Yousaf Colony  Yousaf Town  Zaheer Villas  Zaitoon - New Lahore City  \\\n",
       "1          False        False          False                      False   \n",
       "2          False        False          False                      False   \n",
       "3          False        False          False                      False   \n",
       "\n",
       "   Zamzama  Zaraj Housing Scheme  Zia Colony  Zubaida Park  other  \n",
       "1    False                 False       False         False  False  \n",
       "2    False                 False       False         False  False  \n",
       "3    False                 False       False         False  False  \n",
       "\n",
       "[3 rows x 684 columns]"
      ]
     },
     "execution_count": 138,
     "metadata": {},
     "output_type": "execute_result"
    }
   ],
   "source": [
    "dummies = pd.get_dummies(df10.location)\n",
    "dummies.head(3)"
   ]
  },
  {
   "cell_type": "code",
   "execution_count": 139,
   "id": "b81b2f46-2a59-4ad9-b39d-7f15a62ae1b9",
   "metadata": {},
   "outputs": [
    {
     "data": {
      "text/html": [
       "<div>\n",
       "<style scoped>\n",
       "    .dataframe tbody tr th:only-of-type {\n",
       "        vertical-align: middle;\n",
       "    }\n",
       "\n",
       "    .dataframe tbody tr th {\n",
       "        vertical-align: top;\n",
       "    }\n",
       "\n",
       "    .dataframe thead th {\n",
       "        text-align: right;\n",
       "    }\n",
       "</style>\n",
       "<table border=\"1\" class=\"dataframe\">\n",
       "  <thead>\n",
       "    <tr style=\"text-align: right;\">\n",
       "      <th></th>\n",
       "      <th>price</th>\n",
       "      <th>location</th>\n",
       "      <th>baths</th>\n",
       "      <th>bhk</th>\n",
       "      <th>total_sqft</th>\n",
       "      <th>7th Avenue</th>\n",
       "      <th>9th Avenue</th>\n",
       "      <th>ASF Tower</th>\n",
       "      <th>AWT Army Welfare Trust</th>\n",
       "      <th>Aashiana Road</th>\n",
       "      <th>...</th>\n",
       "      <th>Westridge</th>\n",
       "      <th>Younas Town</th>\n",
       "      <th>Yousaf Colony</th>\n",
       "      <th>Yousaf Town</th>\n",
       "      <th>Zaheer Villas</th>\n",
       "      <th>Zaitoon - New Lahore City</th>\n",
       "      <th>Zamzama</th>\n",
       "      <th>Zaraj Housing Scheme</th>\n",
       "      <th>Zia Colony</th>\n",
       "      <th>Zubaida Park</th>\n",
       "    </tr>\n",
       "  </thead>\n",
       "  <tbody>\n",
       "    <tr>\n",
       "      <th>1</th>\n",
       "      <td>0.90</td>\n",
       "      <td>7th Avenue</td>\n",
       "      <td>2</td>\n",
       "      <td>2</td>\n",
       "      <td>1742.4064</td>\n",
       "      <td>True</td>\n",
       "      <td>False</td>\n",
       "      <td>False</td>\n",
       "      <td>False</td>\n",
       "      <td>False</td>\n",
       "      <td>...</td>\n",
       "      <td>False</td>\n",
       "      <td>False</td>\n",
       "      <td>False</td>\n",
       "      <td>False</td>\n",
       "      <td>False</td>\n",
       "      <td>False</td>\n",
       "      <td>False</td>\n",
       "      <td>False</td>\n",
       "      <td>False</td>\n",
       "      <td>False</td>\n",
       "    </tr>\n",
       "    <tr>\n",
       "      <th>2</th>\n",
       "      <td>10.00</td>\n",
       "      <td>7th Avenue</td>\n",
       "      <td>8</td>\n",
       "      <td>8</td>\n",
       "      <td>10890.0400</td>\n",
       "      <td>True</td>\n",
       "      <td>False</td>\n",
       "      <td>False</td>\n",
       "      <td>False</td>\n",
       "      <td>False</td>\n",
       "      <td>...</td>\n",
       "      <td>False</td>\n",
       "      <td>False</td>\n",
       "      <td>False</td>\n",
       "      <td>False</td>\n",
       "      <td>False</td>\n",
       "      <td>False</td>\n",
       "      <td>False</td>\n",
       "      <td>False</td>\n",
       "      <td>False</td>\n",
       "      <td>False</td>\n",
       "    </tr>\n",
       "    <tr>\n",
       "      <th>3</th>\n",
       "      <td>60.00</td>\n",
       "      <td>7th Avenue</td>\n",
       "      <td>0</td>\n",
       "      <td>0</td>\n",
       "      <td>2722.5100</td>\n",
       "      <td>True</td>\n",
       "      <td>False</td>\n",
       "      <td>False</td>\n",
       "      <td>False</td>\n",
       "      <td>False</td>\n",
       "      <td>...</td>\n",
       "      <td>False</td>\n",
       "      <td>False</td>\n",
       "      <td>False</td>\n",
       "      <td>False</td>\n",
       "      <td>False</td>\n",
       "      <td>False</td>\n",
       "      <td>False</td>\n",
       "      <td>False</td>\n",
       "      <td>False</td>\n",
       "      <td>False</td>\n",
       "    </tr>\n",
       "    <tr>\n",
       "      <th>4</th>\n",
       "      <td>0.17</td>\n",
       "      <td>7th Avenue</td>\n",
       "      <td>1</td>\n",
       "      <td>2</td>\n",
       "      <td>1361.2550</td>\n",
       "      <td>True</td>\n",
       "      <td>False</td>\n",
       "      <td>False</td>\n",
       "      <td>False</td>\n",
       "      <td>False</td>\n",
       "      <td>...</td>\n",
       "      <td>False</td>\n",
       "      <td>False</td>\n",
       "      <td>False</td>\n",
       "      <td>False</td>\n",
       "      <td>False</td>\n",
       "      <td>False</td>\n",
       "      <td>False</td>\n",
       "      <td>False</td>\n",
       "      <td>False</td>\n",
       "      <td>False</td>\n",
       "    </tr>\n",
       "    <tr>\n",
       "      <th>5</th>\n",
       "      <td>1.90</td>\n",
       "      <td>7th Avenue</td>\n",
       "      <td>0</td>\n",
       "      <td>0</td>\n",
       "      <td>1361.2550</td>\n",
       "      <td>True</td>\n",
       "      <td>False</td>\n",
       "      <td>False</td>\n",
       "      <td>False</td>\n",
       "      <td>False</td>\n",
       "      <td>...</td>\n",
       "      <td>False</td>\n",
       "      <td>False</td>\n",
       "      <td>False</td>\n",
       "      <td>False</td>\n",
       "      <td>False</td>\n",
       "      <td>False</td>\n",
       "      <td>False</td>\n",
       "      <td>False</td>\n",
       "      <td>False</td>\n",
       "      <td>False</td>\n",
       "    </tr>\n",
       "  </tbody>\n",
       "</table>\n",
       "<p>5 rows × 688 columns</p>\n",
       "</div>"
      ],
      "text/plain": [
       "   price    location  baths  bhk  total_sqft  7th Avenue  9th Avenue  \\\n",
       "1   0.90  7th Avenue      2    2   1742.4064        True       False   \n",
       "2  10.00  7th Avenue      8    8  10890.0400        True       False   \n",
       "3  60.00  7th Avenue      0    0   2722.5100        True       False   \n",
       "4   0.17  7th Avenue      1    2   1361.2550        True       False   \n",
       "5   1.90  7th Avenue      0    0   1361.2550        True       False   \n",
       "\n",
       "   ASF Tower  AWT Army Welfare Trust  Aashiana Road  ...  Westridge  \\\n",
       "1      False                   False          False  ...      False   \n",
       "2      False                   False          False  ...      False   \n",
       "3      False                   False          False  ...      False   \n",
       "4      False                   False          False  ...      False   \n",
       "5      False                   False          False  ...      False   \n",
       "\n",
       "   Younas Town  Yousaf Colony  Yousaf Town  Zaheer Villas  \\\n",
       "1        False          False        False          False   \n",
       "2        False          False        False          False   \n",
       "3        False          False        False          False   \n",
       "4        False          False        False          False   \n",
       "5        False          False        False          False   \n",
       "\n",
       "   Zaitoon - New Lahore City  Zamzama  Zaraj Housing Scheme  Zia Colony  \\\n",
       "1                      False    False                 False       False   \n",
       "2                      False    False                 False       False   \n",
       "3                      False    False                 False       False   \n",
       "4                      False    False                 False       False   \n",
       "5                      False    False                 False       False   \n",
       "\n",
       "   Zubaida Park  \n",
       "1         False  \n",
       "2         False  \n",
       "3         False  \n",
       "4         False  \n",
       "5         False  \n",
       "\n",
       "[5 rows x 688 columns]"
      ]
     },
     "execution_count": 139,
     "metadata": {},
     "output_type": "execute_result"
    }
   ],
   "source": [
    "df11 = pd.concat([df10,dummies.drop('other',axis='columns')],axis='columns')\n",
    "df11.head()"
   ]
  },
  {
   "cell_type": "code",
   "execution_count": 140,
   "id": "aba45bab-b7fa-431c-8471-1bd52e066710",
   "metadata": {},
   "outputs": [
    {
     "data": {
      "text/html": [
       "<div>\n",
       "<style scoped>\n",
       "    .dataframe tbody tr th:only-of-type {\n",
       "        vertical-align: middle;\n",
       "    }\n",
       "\n",
       "    .dataframe tbody tr th {\n",
       "        vertical-align: top;\n",
       "    }\n",
       "\n",
       "    .dataframe thead th {\n",
       "        text-align: right;\n",
       "    }\n",
       "</style>\n",
       "<table border=\"1\" class=\"dataframe\">\n",
       "  <thead>\n",
       "    <tr style=\"text-align: right;\">\n",
       "      <th></th>\n",
       "      <th>price</th>\n",
       "      <th>baths</th>\n",
       "      <th>bhk</th>\n",
       "      <th>total_sqft</th>\n",
       "      <th>7th Avenue</th>\n",
       "      <th>9th Avenue</th>\n",
       "      <th>ASF Tower</th>\n",
       "      <th>AWT Army Welfare Trust</th>\n",
       "      <th>Aashiana Road</th>\n",
       "      <th>Abdali Road</th>\n",
       "      <th>...</th>\n",
       "      <th>Westridge</th>\n",
       "      <th>Younas Town</th>\n",
       "      <th>Yousaf Colony</th>\n",
       "      <th>Yousaf Town</th>\n",
       "      <th>Zaheer Villas</th>\n",
       "      <th>Zaitoon - New Lahore City</th>\n",
       "      <th>Zamzama</th>\n",
       "      <th>Zaraj Housing Scheme</th>\n",
       "      <th>Zia Colony</th>\n",
       "      <th>Zubaida Park</th>\n",
       "    </tr>\n",
       "  </thead>\n",
       "  <tbody>\n",
       "    <tr>\n",
       "      <th>1</th>\n",
       "      <td>0.9</td>\n",
       "      <td>2</td>\n",
       "      <td>2</td>\n",
       "      <td>1742.4064</td>\n",
       "      <td>True</td>\n",
       "      <td>False</td>\n",
       "      <td>False</td>\n",
       "      <td>False</td>\n",
       "      <td>False</td>\n",
       "      <td>False</td>\n",
       "      <td>...</td>\n",
       "      <td>False</td>\n",
       "      <td>False</td>\n",
       "      <td>False</td>\n",
       "      <td>False</td>\n",
       "      <td>False</td>\n",
       "      <td>False</td>\n",
       "      <td>False</td>\n",
       "      <td>False</td>\n",
       "      <td>False</td>\n",
       "      <td>False</td>\n",
       "    </tr>\n",
       "    <tr>\n",
       "      <th>2</th>\n",
       "      <td>10.0</td>\n",
       "      <td>8</td>\n",
       "      <td>8</td>\n",
       "      <td>10890.0400</td>\n",
       "      <td>True</td>\n",
       "      <td>False</td>\n",
       "      <td>False</td>\n",
       "      <td>False</td>\n",
       "      <td>False</td>\n",
       "      <td>False</td>\n",
       "      <td>...</td>\n",
       "      <td>False</td>\n",
       "      <td>False</td>\n",
       "      <td>False</td>\n",
       "      <td>False</td>\n",
       "      <td>False</td>\n",
       "      <td>False</td>\n",
       "      <td>False</td>\n",
       "      <td>False</td>\n",
       "      <td>False</td>\n",
       "      <td>False</td>\n",
       "    </tr>\n",
       "  </tbody>\n",
       "</table>\n",
       "<p>2 rows × 687 columns</p>\n",
       "</div>"
      ],
      "text/plain": [
       "   price  baths  bhk  total_sqft  7th Avenue  9th Avenue  ASF Tower  \\\n",
       "1    0.9      2    2   1742.4064        True       False      False   \n",
       "2   10.0      8    8  10890.0400        True       False      False   \n",
       "\n",
       "   AWT Army Welfare Trust  Aashiana Road  Abdali Road  ...  Westridge  \\\n",
       "1                   False          False        False  ...      False   \n",
       "2                   False          False        False  ...      False   \n",
       "\n",
       "   Younas Town  Yousaf Colony  Yousaf Town  Zaheer Villas  \\\n",
       "1        False          False        False          False   \n",
       "2        False          False        False          False   \n",
       "\n",
       "   Zaitoon - New Lahore City  Zamzama  Zaraj Housing Scheme  Zia Colony  \\\n",
       "1                      False    False                 False       False   \n",
       "2                      False    False                 False       False   \n",
       "\n",
       "   Zubaida Park  \n",
       "1         False  \n",
       "2         False  \n",
       "\n",
       "[2 rows x 687 columns]"
      ]
     },
     "execution_count": 140,
     "metadata": {},
     "output_type": "execute_result"
    }
   ],
   "source": [
    "df12 = df11.drop('location',axis='columns')\n",
    "df12.head(2)"
   ]
  },
  {
   "cell_type": "code",
   "execution_count": 141,
   "id": "09230ad9-4efa-48f3-a832-a7c5bbcd19a4",
   "metadata": {},
   "outputs": [
    {
     "data": {
      "text/plain": [
       "(64660, 687)"
      ]
     },
     "execution_count": 141,
     "metadata": {},
     "output_type": "execute_result"
    }
   ],
   "source": [
    "df12.shape"
   ]
  },
  {
   "cell_type": "code",
   "execution_count": 142,
   "id": "efbb8e70-c34d-41ff-b0e9-55e6a0fc34a9",
   "metadata": {},
   "outputs": [
    {
     "data": {
      "text/html": [
       "<div>\n",
       "<style scoped>\n",
       "    .dataframe tbody tr th:only-of-type {\n",
       "        vertical-align: middle;\n",
       "    }\n",
       "\n",
       "    .dataframe tbody tr th {\n",
       "        vertical-align: top;\n",
       "    }\n",
       "\n",
       "    .dataframe thead th {\n",
       "        text-align: right;\n",
       "    }\n",
       "</style>\n",
       "<table border=\"1\" class=\"dataframe\">\n",
       "  <thead>\n",
       "    <tr style=\"text-align: right;\">\n",
       "      <th></th>\n",
       "      <th>baths</th>\n",
       "      <th>bhk</th>\n",
       "      <th>total_sqft</th>\n",
       "      <th>7th Avenue</th>\n",
       "      <th>9th Avenue</th>\n",
       "      <th>ASF Tower</th>\n",
       "      <th>AWT Army Welfare Trust</th>\n",
       "      <th>Aashiana Road</th>\n",
       "      <th>Abdali Road</th>\n",
       "      <th>Abdalians Cooperative Housing Society</th>\n",
       "      <th>...</th>\n",
       "      <th>Westridge</th>\n",
       "      <th>Younas Town</th>\n",
       "      <th>Yousaf Colony</th>\n",
       "      <th>Yousaf Town</th>\n",
       "      <th>Zaheer Villas</th>\n",
       "      <th>Zaitoon - New Lahore City</th>\n",
       "      <th>Zamzama</th>\n",
       "      <th>Zaraj Housing Scheme</th>\n",
       "      <th>Zia Colony</th>\n",
       "      <th>Zubaida Park</th>\n",
       "    </tr>\n",
       "  </thead>\n",
       "  <tbody>\n",
       "    <tr>\n",
       "      <th>1</th>\n",
       "      <td>2</td>\n",
       "      <td>2</td>\n",
       "      <td>1742.4064</td>\n",
       "      <td>True</td>\n",
       "      <td>False</td>\n",
       "      <td>False</td>\n",
       "      <td>False</td>\n",
       "      <td>False</td>\n",
       "      <td>False</td>\n",
       "      <td>False</td>\n",
       "      <td>...</td>\n",
       "      <td>False</td>\n",
       "      <td>False</td>\n",
       "      <td>False</td>\n",
       "      <td>False</td>\n",
       "      <td>False</td>\n",
       "      <td>False</td>\n",
       "      <td>False</td>\n",
       "      <td>False</td>\n",
       "      <td>False</td>\n",
       "      <td>False</td>\n",
       "    </tr>\n",
       "    <tr>\n",
       "      <th>2</th>\n",
       "      <td>8</td>\n",
       "      <td>8</td>\n",
       "      <td>10890.0400</td>\n",
       "      <td>True</td>\n",
       "      <td>False</td>\n",
       "      <td>False</td>\n",
       "      <td>False</td>\n",
       "      <td>False</td>\n",
       "      <td>False</td>\n",
       "      <td>False</td>\n",
       "      <td>...</td>\n",
       "      <td>False</td>\n",
       "      <td>False</td>\n",
       "      <td>False</td>\n",
       "      <td>False</td>\n",
       "      <td>False</td>\n",
       "      <td>False</td>\n",
       "      <td>False</td>\n",
       "      <td>False</td>\n",
       "      <td>False</td>\n",
       "      <td>False</td>\n",
       "    </tr>\n",
       "    <tr>\n",
       "      <th>3</th>\n",
       "      <td>0</td>\n",
       "      <td>0</td>\n",
       "      <td>2722.5100</td>\n",
       "      <td>True</td>\n",
       "      <td>False</td>\n",
       "      <td>False</td>\n",
       "      <td>False</td>\n",
       "      <td>False</td>\n",
       "      <td>False</td>\n",
       "      <td>False</td>\n",
       "      <td>...</td>\n",
       "      <td>False</td>\n",
       "      <td>False</td>\n",
       "      <td>False</td>\n",
       "      <td>False</td>\n",
       "      <td>False</td>\n",
       "      <td>False</td>\n",
       "      <td>False</td>\n",
       "      <td>False</td>\n",
       "      <td>False</td>\n",
       "      <td>False</td>\n",
       "    </tr>\n",
       "  </tbody>\n",
       "</table>\n",
       "<p>3 rows × 686 columns</p>\n",
       "</div>"
      ],
      "text/plain": [
       "   baths  bhk  total_sqft  7th Avenue  9th Avenue  ASF Tower  \\\n",
       "1      2    2   1742.4064        True       False      False   \n",
       "2      8    8  10890.0400        True       False      False   \n",
       "3      0    0   2722.5100        True       False      False   \n",
       "\n",
       "   AWT Army Welfare Trust  Aashiana Road  Abdali Road  \\\n",
       "1                   False          False        False   \n",
       "2                   False          False        False   \n",
       "3                   False          False        False   \n",
       "\n",
       "   Abdalians Cooperative Housing Society  ...  Westridge  Younas Town  \\\n",
       "1                                  False  ...      False        False   \n",
       "2                                  False  ...      False        False   \n",
       "3                                  False  ...      False        False   \n",
       "\n",
       "   Yousaf Colony  Yousaf Town  Zaheer Villas  Zaitoon - New Lahore City  \\\n",
       "1          False        False          False                      False   \n",
       "2          False        False          False                      False   \n",
       "3          False        False          False                      False   \n",
       "\n",
       "   Zamzama  Zaraj Housing Scheme  Zia Colony  Zubaida Park  \n",
       "1    False                 False       False         False  \n",
       "2    False                 False       False         False  \n",
       "3    False                 False       False         False  \n",
       "\n",
       "[3 rows x 686 columns]"
      ]
     },
     "execution_count": 142,
     "metadata": {},
     "output_type": "execute_result"
    }
   ],
   "source": [
    "X = df12.drop(['price'],axis='columns')\n",
    "X.head(3)"
   ]
  },
  {
   "cell_type": "code",
   "execution_count": 143,
   "id": "5db70372-498f-4661-926e-979cd571842b",
   "metadata": {},
   "outputs": [
    {
     "data": {
      "text/plain": [
       "(64660, 686)"
      ]
     },
     "execution_count": 143,
     "metadata": {},
     "output_type": "execute_result"
    }
   ],
   "source": [
    "X.shape"
   ]
  },
  {
   "cell_type": "code",
   "execution_count": 144,
   "id": "38a270f7-2ec2-4b22-967d-176ddfe17642",
   "metadata": {},
   "outputs": [
    {
     "data": {
      "text/plain": [
       "1     0.9\n",
       "2    10.0\n",
       "3    60.0\n",
       "Name: price, dtype: float64"
      ]
     },
     "execution_count": 144,
     "metadata": {},
     "output_type": "execute_result"
    }
   ],
   "source": [
    "y = df12.price\n",
    "y.head(3)"
   ]
  },
  {
   "cell_type": "code",
   "execution_count": 145,
   "id": "431b004e-8bb9-46d3-9b97-24df8b5b4fbe",
   "metadata": {},
   "outputs": [
    {
     "data": {
      "text/plain": [
       "64660"
      ]
     },
     "execution_count": 145,
     "metadata": {},
     "output_type": "execute_result"
    }
   ],
   "source": [
    "len(y)"
   ]
  },
  {
   "cell_type": "code",
   "execution_count": 146,
   "id": "03e45f81-6b53-454d-8d5c-8b56ea254a3f",
   "metadata": {},
   "outputs": [],
   "source": [
    "from sklearn.model_selection import train_test_split\n",
    "X_train, X_test, y_train, y_test = train_test_split(X,y,test_size=0.3, random_state=70)"
   ]
  },
  {
   "cell_type": "code",
   "execution_count": 147,
   "id": "054fae6b-d036-40f3-8958-4c825148ae22",
   "metadata": {},
   "outputs": [
    {
     "data": {
      "text/plain": [
       "0.3547871112086969"
      ]
     },
     "execution_count": 147,
     "metadata": {},
     "output_type": "execute_result"
    }
   ],
   "source": [
    "from sklearn.linear_model import LinearRegression\n",
    "lr_clf = LinearRegression()\n",
    "lr_clf.fit(X_train,y_train)\n",
    "lr_clf.score(X_test,y_test)"
   ]
  },
  {
   "cell_type": "code",
   "execution_count": 148,
   "id": "72ce1acb-e150-4c85-940a-70e90b30cd90",
   "metadata": {},
   "outputs": [
    {
     "data": {
      "text/plain": [
       "array([0.35478711, 0.40753282, 0.33854318])"
      ]
     },
     "execution_count": 148,
     "metadata": {},
     "output_type": "execute_result"
    }
   ],
   "source": [
    "from sklearn.model_selection import ShuffleSplit\n",
    "from sklearn.model_selection import cross_val_score\n",
    "\n",
    "cv = ShuffleSplit(n_splits=3, test_size=0.3, random_state=70)\n",
    "\n",
    "cross_val_score(LinearRegression(), X, y, cv=cv)"
   ]
  },
  {
   "cell_type": "code",
   "execution_count": 149,
   "id": "375c79f5-00fd-46b3-a529-4d378e0f877c",
   "metadata": {},
   "outputs": [],
   "source": [
    "from sklearn.feature_selection import VarianceThreshold\n",
    "\n",
    "selector = VarianceThreshold(threshold=0.01)  # Removes columns with low variance\n",
    "X_train_reduced = selector.fit_transform(X_train)\n",
    "X_test_reduced = selector.transform(X_test)"
   ]
  },
  {
   "cell_type": "code",
   "execution_count": 150,
   "id": "7edc033a-9ead-4a6e-a427-98999e617d98",
   "metadata": {},
   "outputs": [
    {
     "name": "stderr",
     "output_type": "stream",
     "text": [
      "C:\\Users\\hassa\\AppData\\Local\\Programs\\Python\\Python312\\Lib\\site-packages\\sklearn\\feature_selection\\_univariate_selection.py:776: UserWarning: k=1000 is greater than n_features=686. All the features will be returned.\n",
      "  warnings.warn(\n"
     ]
    }
   ],
   "source": [
    "from sklearn.feature_selection import SelectKBest, f_regression\n",
    "\n",
    "selector = SelectKBest(score_func=f_regression, k=1000)  # Keep 1000 best features\n",
    "X_train_reduced = selector.fit_transform(X_train, y_train)\n",
    "X_test_reduced = selector.transform(X_test)"
   ]
  },
  {
   "cell_type": "code",
   "execution_count": 151,
   "id": "b42fe496-9a6a-41ee-9668-30b881400d49",
   "metadata": {},
   "outputs": [
    {
     "name": "stdout",
     "output_type": "stream",
     "text": [
      "Ridge Score: 0.35180102726307017\n"
     ]
    }
   ],
   "source": [
    "from sklearn.linear_model import Ridge\n",
    "\n",
    "ridge = Ridge(alpha=10)  # Adjust alpha for best performance\n",
    "ridge.fit(X_train, y_train)\n",
    "print(\"Ridge Score:\", ridge.score(X_test, y_test))"
   ]
  },
  {
   "cell_type": "code",
   "execution_count": 152,
   "id": "b59b369c-87e3-4b45-8615-6007056767bf",
   "metadata": {},
   "outputs": [
    {
     "name": "stdout",
     "output_type": "stream",
     "text": [
      "Lasso Score: 0.3382517047404018\n"
     ]
    }
   ],
   "source": [
    "from sklearn.linear_model import Lasso\n",
    "\n",
    "lasso = Lasso(alpha=0.1)  # Adjust alpha for best performance\n",
    "lasso.fit(X_train, y_train)\n",
    "print(\"Lasso Score:\", lasso.score(X_test, y_test))\n"
   ]
  },
  {
   "cell_type": "code",
   "execution_count": 154,
   "id": "4b1acbc5-fe88-4aca-885c-bfd9c5c7635a",
   "metadata": {},
   "outputs": [
    {
     "data": {
      "text/plain": [
       "price                        0\n",
       "baths                        0\n",
       "bhk                          0\n",
       "total_sqft                   0\n",
       "7th Avenue                   0\n",
       "                            ..\n",
       "Zaitoon - New Lahore City    0\n",
       "Zamzama                      0\n",
       "Zaraj Housing Scheme         0\n",
       "Zia Colony                   0\n",
       "Zubaida Park                 0\n",
       "Length: 687, dtype: int64"
      ]
     },
     "execution_count": 154,
     "metadata": {},
     "output_type": "execute_result"
    }
   ],
   "source": [
    "df12.isnull().sum()"
   ]
  },
  {
   "cell_type": "code",
   "execution_count": 156,
   "id": "eef5704b-732e-4605-9c05-4e8eb49acfd7",
   "metadata": {},
   "outputs": [],
   "source": [
    "df12.fillna(df12.mean(), inplace=True)  # For numerical columns\n",
    "df12.dropna(inplace=True) "
   ]
  },
  {
   "cell_type": "code",
   "execution_count": 160,
   "id": "2d894383-dac7-41d9-bc4e-1559e1910790",
   "metadata": {},
   "outputs": [
    {
     "data": {
      "text/plain": [
       "price                        0.0\n",
       "baths                        0.0\n",
       "bhk                          0.0\n",
       "total_sqft                   0.0\n",
       "7th Avenue                     0\n",
       "                            ... \n",
       "Zaitoon - New Lahore City      0\n",
       "Zamzama                        0\n",
       "Zaraj Housing Scheme           0\n",
       "Zia Colony                     0\n",
       "Zubaida Park                   0\n",
       "Length: 687, dtype: object"
      ]
     },
     "execution_count": 160,
     "metadata": {},
     "output_type": "execute_result"
    }
   ],
   "source": [
    "df12[~np.isfinite(df12)].sum()"
   ]
  },
  {
   "cell_type": "code",
   "execution_count": 162,
   "id": "6449dff2-565b-4aff-bdfc-25ea0067e63f",
   "metadata": {},
   "outputs": [],
   "source": [
    "df12 = df12.replace([np.inf, -np.inf], np.nan)\n",
    "df12.dropna(inplace=True)"
   ]
  },
  {
   "cell_type": "code",
   "execution_count": 165,
   "id": "39767211-50c6-47eb-9935-1585e746d0a1",
   "metadata": {},
   "outputs": [
    {
     "data": {
      "text/plain": [
       "<Axes: ylabel='price'>"
      ]
     },
     "execution_count": 165,
     "metadata": {},
     "output_type": "execute_result"
    },
    {
     "data": {
      "image/png": "[encoded data removed]",
      "text/plain": [
       "<Figure size 2000x1000 with 1 Axes>"
      ]
     },
     "metadata": {},
     "output_type": "display_data"
    }
   ],
   "source": [
    "import seaborn as sns\n",
    "sns.boxplot(df12[\"price\"])"
   ]
  },
  {
   "cell_type": "code",
   "execution_count": 169,
   "id": "e29f0297-f0bd-429d-8be8-fa119ca215ae",
   "metadata": {},
   "outputs": [
    {
     "data": {
      "text/plain": [
       "count    56067.000000\n",
       "mean        96.673857\n",
       "std         74.808391\n",
       "min          0.000010\n",
       "25%         38.000000\n",
       "50%         90.000000\n",
       "75%        140.000000\n",
       "max        293.000000\n",
       "Name: price, dtype: float64"
      ]
     },
     "execution_count": 169,
     "metadata": {},
     "output_type": "execute_result"
    }
   ],
   "source": [
    "Q1 = df12[\"price\"].quantile(0.25)\n",
    "Q3 = df12[\"price\"].quantile(0.75)\n",
    "IQR = Q3 - Q1\n",
    "df12 = df12[(df12[\"price\"] >= Q1 - 1.5 * IQR) & (df12[\"price\"] <= Q3 + 1.5 * IQR)]\n",
    "df12.price.describe()"
   ]
  },
  {
   "cell_type": "code",
   "execution_count": 170,
   "id": "f29b9159-837b-40cc-af81-bbf11e0b226a",
   "metadata": {},
   "outputs": [
    {
     "data": {
      "text/plain": [
       "(56067, 687)"
      ]
     },
     "execution_count": 170,
     "metadata": {},
     "output_type": "execute_result"
    }
   ],
   "source": [
    "df12.shape"
   ]
  },
  {
   "cell_type": "code",
   "execution_count": 171,
   "id": "743fb88e-f484-4bd4-9ea6-9c99ef00f55e",
   "metadata": {},
   "outputs": [
    {
     "data": {
      "text/html": [
       "<div>\n",
       "<style scoped>\n",
       "    .dataframe tbody tr th:only-of-type {\n",
       "        vertical-align: middle;\n",
       "    }\n",
       "\n",
       "    .dataframe tbody tr th {\n",
       "        vertical-align: top;\n",
       "    }\n",
       "\n",
       "    .dataframe thead th {\n",
       "        text-align: right;\n",
       "    }\n",
       "</style>\n",
       "<table border=\"1\" class=\"dataframe\">\n",
       "  <thead>\n",
       "    <tr style=\"text-align: right;\">\n",
       "      <th></th>\n",
       "      <th>baths</th>\n",
       "      <th>bhk</th>\n",
       "      <th>total_sqft</th>\n",
       "      <th>7th Avenue</th>\n",
       "      <th>9th Avenue</th>\n",
       "      <th>ASF Tower</th>\n",
       "      <th>AWT Army Welfare Trust</th>\n",
       "      <th>Aashiana Road</th>\n",
       "      <th>Abdali Road</th>\n",
       "      <th>Abdalians Cooperative Housing Society</th>\n",
       "      <th>...</th>\n",
       "      <th>Westridge</th>\n",
       "      <th>Younas Town</th>\n",
       "      <th>Yousaf Colony</th>\n",
       "      <th>Yousaf Town</th>\n",
       "      <th>Zaheer Villas</th>\n",
       "      <th>Zaitoon - New Lahore City</th>\n",
       "      <th>Zamzama</th>\n",
       "      <th>Zaraj Housing Scheme</th>\n",
       "      <th>Zia Colony</th>\n",
       "      <th>Zubaida Park</th>\n",
       "    </tr>\n",
       "  </thead>\n",
       "  <tbody>\n",
       "    <tr>\n",
       "      <th>1</th>\n",
       "      <td>2</td>\n",
       "      <td>2</td>\n",
       "      <td>1742.4064</td>\n",
       "      <td>True</td>\n",
       "      <td>False</td>\n",
       "      <td>False</td>\n",
       "      <td>False</td>\n",
       "      <td>False</td>\n",
       "      <td>False</td>\n",
       "      <td>False</td>\n",
       "      <td>...</td>\n",
       "      <td>False</td>\n",
       "      <td>False</td>\n",
       "      <td>False</td>\n",
       "      <td>False</td>\n",
       "      <td>False</td>\n",
       "      <td>False</td>\n",
       "      <td>False</td>\n",
       "      <td>False</td>\n",
       "      <td>False</td>\n",
       "      <td>False</td>\n",
       "    </tr>\n",
       "    <tr>\n",
       "      <th>2</th>\n",
       "      <td>8</td>\n",
       "      <td>8</td>\n",
       "      <td>10890.0400</td>\n",
       "      <td>True</td>\n",
       "      <td>False</td>\n",
       "      <td>False</td>\n",
       "      <td>False</td>\n",
       "      <td>False</td>\n",
       "      <td>False</td>\n",
       "      <td>False</td>\n",
       "      <td>...</td>\n",
       "      <td>False</td>\n",
       "      <td>False</td>\n",
       "      <td>False</td>\n",
       "      <td>False</td>\n",
       "      <td>False</td>\n",
       "      <td>False</td>\n",
       "      <td>False</td>\n",
       "      <td>False</td>\n",
       "      <td>False</td>\n",
       "      <td>False</td>\n",
       "    </tr>\n",
       "    <tr>\n",
       "      <th>3</th>\n",
       "      <td>0</td>\n",
       "      <td>0</td>\n",
       "      <td>2722.5100</td>\n",
       "      <td>True</td>\n",
       "      <td>False</td>\n",
       "      <td>False</td>\n",
       "      <td>False</td>\n",
       "      <td>False</td>\n",
       "      <td>False</td>\n",
       "      <td>False</td>\n",
       "      <td>...</td>\n",
       "      <td>False</td>\n",
       "      <td>False</td>\n",
       "      <td>False</td>\n",
       "      <td>False</td>\n",
       "      <td>False</td>\n",
       "      <td>False</td>\n",
       "      <td>False</td>\n",
       "      <td>False</td>\n",
       "      <td>False</td>\n",
       "      <td>False</td>\n",
       "    </tr>\n",
       "  </tbody>\n",
       "</table>\n",
       "<p>3 rows × 686 columns</p>\n",
       "</div>"
      ],
      "text/plain": [
       "   baths  bhk  total_sqft  7th Avenue  9th Avenue  ASF Tower  \\\n",
       "1      2    2   1742.4064        True       False      False   \n",
       "2      8    8  10890.0400        True       False      False   \n",
       "3      0    0   2722.5100        True       False      False   \n",
       "\n",
       "   AWT Army Welfare Trust  Aashiana Road  Abdali Road  \\\n",
       "1                   False          False        False   \n",
       "2                   False          False        False   \n",
       "3                   False          False        False   \n",
       "\n",
       "   Abdalians Cooperative Housing Society  ...  Westridge  Younas Town  \\\n",
       "1                                  False  ...      False        False   \n",
       "2                                  False  ...      False        False   \n",
       "3                                  False  ...      False        False   \n",
       "\n",
       "   Yousaf Colony  Yousaf Town  Zaheer Villas  Zaitoon - New Lahore City  \\\n",
       "1          False        False          False                      False   \n",
       "2          False        False          False                      False   \n",
       "3          False        False          False                      False   \n",
       "\n",
       "   Zamzama  Zaraj Housing Scheme  Zia Colony  Zubaida Park  \n",
       "1    False                 False       False         False  \n",
       "2    False                 False       False         False  \n",
       "3    False                 False       False         False  \n",
       "\n",
       "[3 rows x 686 columns]"
      ]
     },
     "execution_count": 171,
     "metadata": {},
     "output_type": "execute_result"
    }
   ],
   "source": [
    "X = df12.drop(['price'],axis='columns')\n",
    "X.head(3)"
   ]
  },
  {
   "cell_type": "code",
   "execution_count": 172,
   "id": "160098b9-d4b5-4b7a-af22-e42f977e96e5",
   "metadata": {},
   "outputs": [
    {
     "data": {
      "text/plain": [
       "1     0.90\n",
       "2    10.00\n",
       "3    60.00\n",
       "4     0.17\n",
       "5     1.90\n",
       "Name: price, dtype: float64"
      ]
     },
     "execution_count": 172,
     "metadata": {},
     "output_type": "execute_result"
    }
   ],
   "source": [
    "y = df12.price\n",
    "y.head()"
   ]
  },
  {
   "cell_type": "code",
   "execution_count": 173,
   "id": "c90eaff5-d774-4d03-bea0-95cf342b68e6",
   "metadata": {},
   "outputs": [
    {
     "data": {
      "text/plain": [
       "(56067, 686)"
      ]
     },
     "execution_count": 173,
     "metadata": {},
     "output_type": "execute_result"
    }
   ],
   "source": [
    "X.shape"
   ]
  },
  {
   "cell_type": "code",
   "execution_count": 174,
   "id": "64a8c8e7-e72d-48d0-8504-b293a96384e7",
   "metadata": {},
   "outputs": [
    {
     "data": {
      "text/plain": [
       "56067"
      ]
     },
     "execution_count": 174,
     "metadata": {},
     "output_type": "execute_result"
    }
   ],
   "source": [
    "len(y)"
   ]
  },
  {
   "cell_type": "code",
   "execution_count": 191,
   "id": "d34be3f6-434a-4587-9eab-e8116d861fac",
   "metadata": {},
   "outputs": [],
   "source": [
    "from sklearn.model_selection import train_test_split\n",
    "X_train, X_test, y_train, y_test = train_test_split(X,y,test_size=0.3, random_state=30)"
   ]
  },
  {
   "cell_type": "code",
   "execution_count": 192,
   "id": "d51f2b75-bf47-45a8-8454-0807a0486609",
   "metadata": {},
   "outputs": [
    {
     "data": {
      "text/plain": [
       "0.6101850078406348"
      ]
     },
     "execution_count": 192,
     "metadata": {},
     "output_type": "execute_result"
    }
   ],
   "source": [
    "from sklearn.linear_model import LinearRegression\n",
    "lr_clf = LinearRegression()\n",
    "lr_clf.fit(X_train,y_train)\n",
    "lr_clf.score(X_test,y_test)"
   ]
  },
  {
   "cell_type": "code",
   "execution_count": 193,
   "id": "42eeeded-95be-4c3a-a9bc-10d7f13fd928",
   "metadata": {},
   "outputs": [
    {
     "data": {
      "text/html": [
       "<div>\n",
       "<style scoped>\n",
       "    .dataframe tbody tr th:only-of-type {\n",
       "        vertical-align: middle;\n",
       "    }\n",
       "\n",
       "    .dataframe tbody tr th {\n",
       "        vertical-align: top;\n",
       "    }\n",
       "\n",
       "    .dataframe thead th {\n",
       "        text-align: right;\n",
       "    }\n",
       "</style>\n",
       "<table border=\"1\" class=\"dataframe\">\n",
       "  <thead>\n",
       "    <tr style=\"text-align: right;\">\n",
       "      <th></th>\n",
       "      <th>model</th>\n",
       "      <th>best_score</th>\n",
       "      <th>best_params</th>\n",
       "    </tr>\n",
       "  </thead>\n",
       "  <tbody>\n",
       "    <tr>\n",
       "      <th>0</th>\n",
       "      <td>linear_regression</td>\n",
       "      <td>-1.772508e+10</td>\n",
       "      <td>{'fit_intercept': True}</td>\n",
       "    </tr>\n",
       "    <tr>\n",
       "      <th>1</th>\n",
       "      <td>lasso</td>\n",
       "      <td>3.216248e-01</td>\n",
       "      <td>{'alpha': 1, 'selection': 'cyclic'}</td>\n",
       "    </tr>\n",
       "    <tr>\n",
       "      <th>2</th>\n",
       "      <td>decision_tree</td>\n",
       "      <td>8.429550e-01</td>\n",
       "      <td>{'criterion': 'squared_error', 'splitter': 'ra...</td>\n",
       "    </tr>\n",
       "  </tbody>\n",
       "</table>\n",
       "</div>"
      ],
      "text/plain": [
       "               model    best_score  \\\n",
       "0  linear_regression -1.772508e+10   \n",
       "1              lasso  3.216248e-01   \n",
       "2      decision_tree  8.429550e-01   \n",
       "\n",
       "                                         best_params  \n",
       "0                            {'fit_intercept': True}  \n",
       "1                {'alpha': 1, 'selection': 'cyclic'}  \n",
       "2  {'criterion': 'squared_error', 'splitter': 'ra...  "
      ]
     },
     "execution_count": 193,
     "metadata": {},
     "output_type": "execute_result"
    }
   ],
   "source": [
    "from sklearn.model_selection import GridSearchCV\n",
    "\n",
    "from sklearn.linear_model import Lasso\n",
    "from sklearn.tree import DecisionTreeRegressor\n",
    "\n",
    "# Funtion for grid search CV, and the code defined beneath is also called hyper parameter tuning\n",
    "\n",
    "def find_best_model_using_gridsearchcv(X,y):\n",
    "    algos = {\n",
    "        'linear_regression': {\n",
    "            'model': LinearRegression(),\n",
    "            'params':{\n",
    "                'fit_intercept':[True, False]\n",
    "            }\n",
    "        },\n",
    "        'lasso':{\n",
    "            'model': Lasso(),\n",
    "            'params': {\n",
    "                'alpha': [1,2],\n",
    "                'selection': ['random','cyclic']\n",
    "            }\n",
    "        },\n",
    "        'decision_tree': {\n",
    "            'model': DecisionTreeRegressor(),\n",
    "            'params': {\n",
    "                'criterion': ['squared_error','friedman_mse'],\n",
    "                'splitter': ['best','random']\n",
    "            }\n",
    "        }\n",
    "    }\n",
    "    scores = []\n",
    "    cv = ShuffleSplit(n_splits=5, test_size=0.2, random_state=0)\n",
    "    for algo_name, config in algos.items():\n",
    "        gs = GridSearchCV(config['model'], config['params'], cv=cv, return_train_score=False)\n",
    "        gs.fit(X,y)\n",
    "        scores.append({\n",
    "            'model': algo_name,\n",
    "            'best_score': gs.best_score_,\n",
    "            'best_params': gs.best_params_\n",
    "        })\n",
    "    return pd.DataFrame(scores, columns=['model','best_score','best_params'])\n",
    "\n",
    "find_best_model_using_gridsearchcv(X,y)"
   ]
  },
  {
   "cell_type": "code",
   "execution_count": 218,
   "id": "59ca1814-6562-4e49-93eb-16b72ff3aee7",
   "metadata": {},
   "outputs": [],
   "source": [
    "def predict_price(location,sqft,baths,bhk):\n",
    "    if location in X.columns:\n",
    "        loc_index = np.where(X.columns==location)[0][0]\n",
    "    else:\n",
    "        loc_index = -1\n",
    "        \n",
    "    x = np.zeros(len(X.columns))\n",
    "    x[0] = sqft\n",
    "    x[1] = baths\n",
    "    x[2] = bhk\n",
    "    if loc_index >= 0:\n",
    "        x[loc_index] = 1\n",
    "\n",
    "    x_df = pd.DataFrame([x], columns=X.columns)\n",
    "\n",
    "    return model.predict(x_df)[0]\n",
    "\n",
    "    # return lr_clf.predict([x])[0]"
   ]
  },
  {
   "cell_type": "code",
   "execution_count": 219,
   "id": "1e7f79d2-b0ef-4444-bfda-57ae50063b3e",
   "metadata": {},
   "outputs": [
    {
     "ename": "ValueError",
     "evalue": "The feature names should match those that were passed during fit.\nFeature names unseen at fit time:\n- Bahria Town\n- G-15\n",
     "output_type": "error",
     "traceback": [
      "\u001b[1;31m---------------------------------------------------------------------------\u001b[0m",
      "\u001b[1;31mValueError\u001b[0m                                Traceback (most recent call last)",
      "Cell \u001b[1;32mIn[219], line 1\u001b[0m\n\u001b[1;32m----> 1\u001b[0m \u001b[43mpredict_price\u001b[49m\u001b[43m(\u001b[49m\u001b[38;5;124;43m'\u001b[39;49m\u001b[38;5;124;43mE-11\u001b[39;49m\u001b[38;5;124;43m'\u001b[39;49m\u001b[43m,\u001b[49m\u001b[38;5;241;43m4\u001b[39;49m\u001b[43m,\u001b[49m\u001b[38;5;241;43m4\u001b[39;49m\u001b[43m,\u001b[49m\u001b[38;5;241;43m1524.6056\u001b[39;49m\u001b[43m)\u001b[49m\n",
      "Cell \u001b[1;32mIn[218], line 16\u001b[0m, in \u001b[0;36mpredict_price\u001b[1;34m(location, sqft, baths, bhk)\u001b[0m\n\u001b[0;32m     12\u001b[0m     x[loc_index] \u001b[38;5;241m=\u001b[39m \u001b[38;5;241m1\u001b[39m\n\u001b[0;32m     14\u001b[0m x_df \u001b[38;5;241m=\u001b[39m pd\u001b[38;5;241m.\u001b[39mDataFrame([x], columns\u001b[38;5;241m=\u001b[39mX\u001b[38;5;241m.\u001b[39mcolumns)\n\u001b[1;32m---> 16\u001b[0m \u001b[38;5;28;01mreturn\u001b[39;00m \u001b[43mmodel\u001b[49m\u001b[38;5;241;43m.\u001b[39;49m\u001b[43mpredict\u001b[49m\u001b[43m(\u001b[49m\u001b[43mx_df\u001b[49m\u001b[43m)\u001b[49m[\u001b[38;5;241m0\u001b[39m]\n",
      "File \u001b[1;32m~\\AppData\\Local\\Programs\\Python\\Python312\\Lib\\site-packages\\sklearn\\linear_model\\_base.py:382\u001b[0m, in \u001b[0;36mLinearClassifierMixin.predict\u001b[1;34m(self, X)\u001b[0m\n\u001b[0;32m    368\u001b[0m \u001b[38;5;250m\u001b[39m\u001b[38;5;124;03m\"\"\"\u001b[39;00m\n\u001b[0;32m    369\u001b[0m \u001b[38;5;124;03mPredict class labels for samples in X.\u001b[39;00m\n\u001b[0;32m    370\u001b[0m \n\u001b[1;32m   (...)\u001b[0m\n\u001b[0;32m    379\u001b[0m \u001b[38;5;124;03m    Vector containing the class labels for each sample.\u001b[39;00m\n\u001b[0;32m    380\u001b[0m \u001b[38;5;124;03m\"\"\"\u001b[39;00m\n\u001b[0;32m    381\u001b[0m xp, _ \u001b[38;5;241m=\u001b[39m get_namespace(X)\n\u001b[1;32m--> 382\u001b[0m scores \u001b[38;5;241m=\u001b[39m \u001b[38;5;28;43mself\u001b[39;49m\u001b[38;5;241;43m.\u001b[39;49m\u001b[43mdecision_function\u001b[49m\u001b[43m(\u001b[49m\u001b[43mX\u001b[49m\u001b[43m)\u001b[49m\n\u001b[0;32m    383\u001b[0m \u001b[38;5;28;01mif\u001b[39;00m \u001b[38;5;28mlen\u001b[39m(scores\u001b[38;5;241m.\u001b[39mshape) \u001b[38;5;241m==\u001b[39m \u001b[38;5;241m1\u001b[39m:\n\u001b[0;32m    384\u001b[0m     indices \u001b[38;5;241m=\u001b[39m xp\u001b[38;5;241m.\u001b[39mastype(scores \u001b[38;5;241m>\u001b[39m \u001b[38;5;241m0\u001b[39m, indexing_dtype(xp))\n",
      "File \u001b[1;32m~\\AppData\\Local\\Programs\\Python\\Python312\\Lib\\site-packages\\sklearn\\linear_model\\_base.py:363\u001b[0m, in \u001b[0;36mLinearClassifierMixin.decision_function\u001b[1;34m(self, X)\u001b[0m\n\u001b[0;32m    360\u001b[0m check_is_fitted(\u001b[38;5;28mself\u001b[39m)\n\u001b[0;32m    361\u001b[0m xp, _ \u001b[38;5;241m=\u001b[39m get_namespace(X)\n\u001b[1;32m--> 363\u001b[0m X \u001b[38;5;241m=\u001b[39m \u001b[38;5;28;43mself\u001b[39;49m\u001b[38;5;241;43m.\u001b[39;49m\u001b[43m_validate_data\u001b[49m\u001b[43m(\u001b[49m\u001b[43mX\u001b[49m\u001b[43m,\u001b[49m\u001b[43m \u001b[49m\u001b[43maccept_sparse\u001b[49m\u001b[38;5;241;43m=\u001b[39;49m\u001b[38;5;124;43m\"\u001b[39;49m\u001b[38;5;124;43mcsr\u001b[39;49m\u001b[38;5;124;43m\"\u001b[39;49m\u001b[43m,\u001b[49m\u001b[43m \u001b[49m\u001b[43mreset\u001b[49m\u001b[38;5;241;43m=\u001b[39;49m\u001b[38;5;28;43;01mFalse\u001b[39;49;00m\u001b[43m)\u001b[49m\n\u001b[0;32m    364\u001b[0m scores \u001b[38;5;241m=\u001b[39m safe_sparse_dot(X, \u001b[38;5;28mself\u001b[39m\u001b[38;5;241m.\u001b[39mcoef_\u001b[38;5;241m.\u001b[39mT, dense_output\u001b[38;5;241m=\u001b[39m\u001b[38;5;28;01mTrue\u001b[39;00m) \u001b[38;5;241m+\u001b[39m \u001b[38;5;28mself\u001b[39m\u001b[38;5;241m.\u001b[39mintercept_\n\u001b[0;32m    365\u001b[0m \u001b[38;5;28;01mreturn\u001b[39;00m xp\u001b[38;5;241m.\u001b[39mreshape(scores, (\u001b[38;5;241m-\u001b[39m\u001b[38;5;241m1\u001b[39m,)) \u001b[38;5;28;01mif\u001b[39;00m scores\u001b[38;5;241m.\u001b[39mshape[\u001b[38;5;241m1\u001b[39m] \u001b[38;5;241m==\u001b[39m \u001b[38;5;241m1\u001b[39m \u001b[38;5;28;01melse\u001b[39;00m scores\n",
      "File \u001b[1;32m~\\AppData\\Local\\Programs\\Python\\Python312\\Lib\\site-packages\\sklearn\\base.py:608\u001b[0m, in \u001b[0;36mBaseEstimator._validate_data\u001b[1;34m(self, X, y, reset, validate_separately, cast_to_ndarray, **check_params)\u001b[0m\n\u001b[0;32m    537\u001b[0m \u001b[38;5;28;01mdef\u001b[39;00m \u001b[38;5;21m_validate_data\u001b[39m(\n\u001b[0;32m    538\u001b[0m     \u001b[38;5;28mself\u001b[39m,\n\u001b[0;32m    539\u001b[0m     X\u001b[38;5;241m=\u001b[39m\u001b[38;5;124m\"\u001b[39m\u001b[38;5;124mno_validation\u001b[39m\u001b[38;5;124m\"\u001b[39m,\n\u001b[1;32m   (...)\u001b[0m\n\u001b[0;32m    544\u001b[0m     \u001b[38;5;241m*\u001b[39m\u001b[38;5;241m*\u001b[39mcheck_params,\n\u001b[0;32m    545\u001b[0m ):\n\u001b[0;32m    546\u001b[0m \u001b[38;5;250m    \u001b[39m\u001b[38;5;124;03m\"\"\"Validate input data and set or check the `n_features_in_` attribute.\u001b[39;00m\n\u001b[0;32m    547\u001b[0m \n\u001b[0;32m    548\u001b[0m \u001b[38;5;124;03m    Parameters\u001b[39;00m\n\u001b[1;32m   (...)\u001b[0m\n\u001b[0;32m    606\u001b[0m \u001b[38;5;124;03m        validated.\u001b[39;00m\n\u001b[0;32m    607\u001b[0m \u001b[38;5;124;03m    \"\"\"\u001b[39;00m\n\u001b[1;32m--> 608\u001b[0m     \u001b[38;5;28;43mself\u001b[39;49m\u001b[38;5;241;43m.\u001b[39;49m\u001b[43m_check_feature_names\u001b[49m\u001b[43m(\u001b[49m\u001b[43mX\u001b[49m\u001b[43m,\u001b[49m\u001b[43m \u001b[49m\u001b[43mreset\u001b[49m\u001b[38;5;241;43m=\u001b[39;49m\u001b[43mreset\u001b[49m\u001b[43m)\u001b[49m\n\u001b[0;32m    610\u001b[0m     \u001b[38;5;28;01mif\u001b[39;00m y \u001b[38;5;129;01mis\u001b[39;00m \u001b[38;5;28;01mNone\u001b[39;00m \u001b[38;5;129;01mand\u001b[39;00m \u001b[38;5;28mself\u001b[39m\u001b[38;5;241m.\u001b[39m_get_tags()[\u001b[38;5;124m\"\u001b[39m\u001b[38;5;124mrequires_y\u001b[39m\u001b[38;5;124m\"\u001b[39m]:\n\u001b[0;32m    611\u001b[0m         \u001b[38;5;28;01mraise\u001b[39;00m \u001b[38;5;167;01mValueError\u001b[39;00m(\n\u001b[0;32m    612\u001b[0m             \u001b[38;5;124mf\u001b[39m\u001b[38;5;124m\"\u001b[39m\u001b[38;5;124mThis \u001b[39m\u001b[38;5;132;01m{\u001b[39;00m\u001b[38;5;28mself\u001b[39m\u001b[38;5;241m.\u001b[39m\u001b[38;5;18m__class__\u001b[39m\u001b[38;5;241m.\u001b[39m\u001b[38;5;18m__name__\u001b[39m\u001b[38;5;132;01m}\u001b[39;00m\u001b[38;5;124m estimator \u001b[39m\u001b[38;5;124m\"\u001b[39m\n\u001b[0;32m    613\u001b[0m             \u001b[38;5;124m\"\u001b[39m\u001b[38;5;124mrequires y to be passed, but the target y is None.\u001b[39m\u001b[38;5;124m\"\u001b[39m\n\u001b[0;32m    614\u001b[0m         )\n",
      "File \u001b[1;32m~\\AppData\\Local\\Programs\\Python\\Python312\\Lib\\site-packages\\sklearn\\base.py:535\u001b[0m, in \u001b[0;36mBaseEstimator._check_feature_names\u001b[1;34m(self, X, reset)\u001b[0m\n\u001b[0;32m    530\u001b[0m \u001b[38;5;28;01mif\u001b[39;00m \u001b[38;5;129;01mnot\u001b[39;00m missing_names \u001b[38;5;129;01mand\u001b[39;00m \u001b[38;5;129;01mnot\u001b[39;00m unexpected_names:\n\u001b[0;32m    531\u001b[0m     message \u001b[38;5;241m+\u001b[39m\u001b[38;5;241m=\u001b[39m (\n\u001b[0;32m    532\u001b[0m         \u001b[38;5;124m\"\u001b[39m\u001b[38;5;124mFeature names must be in the same order as they were in fit.\u001b[39m\u001b[38;5;130;01m\\n\u001b[39;00m\u001b[38;5;124m\"\u001b[39m\n\u001b[0;32m    533\u001b[0m     )\n\u001b[1;32m--> 535\u001b[0m \u001b[38;5;28;01mraise\u001b[39;00m \u001b[38;5;167;01mValueError\u001b[39;00m(message)\n",
      "\u001b[1;31mValueError\u001b[0m: The feature names should match those that were passed during fit.\nFeature names unseen at fit time:\n- Bahria Town\n- G-15\n"
     ]
    }
   ],
   "source": [
    "predict_price('E-11',4,4,1524.6056)"
   ]
  },
  {
   "cell_type": "code",
   "execution_count": 205,
   "id": "10641ae5-fe18-4538-8dc4-09cc8f92f5da",
   "metadata": {},
   "outputs": [
    {
     "data": {
      "text/plain": [
       "Index(['baths', 'bhk', 'total_sqft', '7th Avenue', '9th Avenue', 'ASF Tower',\n",
       "       'AWT Army Welfare Trust', 'Aashiana Road', 'Abdali Road',\n",
       "       'Abdalians Cooperative Housing Society',\n",
       "       ...\n",
       "       'Westridge', 'Younas Town', 'Yousaf Colony', 'Yousaf Town',\n",
       "       'Zaheer Villas', 'Zaitoon - New Lahore City', 'Zamzama',\n",
       "       'Zaraj Housing Scheme', 'Zia Colony', 'Zubaida Park'],\n",
       "      dtype='object', length=686)"
      ]
     },
     "execution_count": 205,
     "metadata": {},
     "output_type": "execute_result"
    }
   ],
   "source": [
    "X.columns"
   ]
  },
  {
   "cell_type": "code",
   "execution_count": 206,
   "id": "e5cf1773-95dd-4a6f-b3b6-e98230bd20d5",
   "metadata": {},
   "outputs": [
    {
     "data": {
      "text/plain": [
       "np.int64(6)"
      ]
     },
     "execution_count": 206,
     "metadata": {},
     "output_type": "execute_result"
    }
   ],
   "source": [
    "np.where(X.columns=='AWT Army Welfare Trust')[0][0]"
   ]
  },
  {
   "cell_type": "code",
   "execution_count": 211,
   "id": "b52448d1-53d2-4085-aaf4-356bc5a6b9b1",
   "metadata": {},
   "outputs": [
    {
     "data": {
      "text/html": [
       "<div>\n",
       "<style scoped>\n",
       "    .dataframe tbody tr th:only-of-type {\n",
       "        vertical-align: middle;\n",
       "    }\n",
       "\n",
       "    .dataframe tbody tr th {\n",
       "        vertical-align: top;\n",
       "    }\n",
       "\n",
       "    .dataframe thead th {\n",
       "        text-align: right;\n",
       "    }\n",
       "</style>\n",
       "<table border=\"1\" class=\"dataframe\">\n",
       "  <thead>\n",
       "    <tr style=\"text-align: right;\">\n",
       "      <th></th>\n",
       "      <th>price</th>\n",
       "      <th>location</th>\n",
       "      <th>baths</th>\n",
       "      <th>bhk</th>\n",
       "      <th>total_sqft</th>\n",
       "      <th>price_per_sqft</th>\n",
       "    </tr>\n",
       "  </thead>\n",
       "  <tbody>\n",
       "    <tr>\n",
       "      <th>0</th>\n",
       "      <td>100.0</td>\n",
       "      <td>G-10</td>\n",
       "      <td>2</td>\n",
       "      <td>2</td>\n",
       "      <td>1089.0040</td>\n",
       "      <td>9182.702727</td>\n",
       "    </tr>\n",
       "    <tr>\n",
       "      <th>1</th>\n",
       "      <td>69.0</td>\n",
       "      <td>E-11</td>\n",
       "      <td>3</td>\n",
       "      <td>3</td>\n",
       "      <td>1524.6056</td>\n",
       "      <td>4525.760630</td>\n",
       "    </tr>\n",
       "    <tr>\n",
       "      <th>2</th>\n",
       "      <td>165.0</td>\n",
       "      <td>G-15</td>\n",
       "      <td>6</td>\n",
       "      <td>5</td>\n",
       "      <td>2178.0080</td>\n",
       "      <td>7575.729749</td>\n",
       "    </tr>\n",
       "  </tbody>\n",
       "</table>\n",
       "</div>"
      ],
      "text/plain": [
       "   price location  baths  bhk  total_sqft  price_per_sqft\n",
       "0  100.0     G-10      2    2   1089.0040     9182.702727\n",
       "1   69.0     E-11      3    3   1524.6056     4525.760630\n",
       "2  165.0     G-15      6    5   2178.0080     7575.729749"
      ]
     },
     "execution_count": 211,
     "metadata": {},
     "output_type": "execute_result"
    }
   ],
   "source": [
    "df4.head(3)"
   ]
  },
  {
   "cell_type": "code",
   "execution_count": 209,
   "id": "4c7226d2-23f3-4bf1-bfd7-f0e98ce0a5e7",
   "metadata": {},
   "outputs": [],
   "source": [
    "import pickle\n",
    "\n",
    "with open('pakistan_home_prices_model.pickle','wb') as f:\n",
    "    pickle.dump(lr_clf,f)"
   ]
  },
  {
   "cell_type": "code",
   "execution_count": 210,
   "id": "5d0e3762-6562-4b04-b907-9240c9f978f3",
   "metadata": {},
   "outputs": [],
   "source": [
    "import json\n",
    "\n",
    "columns = {\n",
    "    'data_columns': [col.lower() for col in X.columns]\n",
    "}\n",
    "\n",
    "with open('columns.json','w') as f:\n",
    "    f.write(json.dumps(columns))"
   ]
  },
  {
   "cell_type": "code",
   "execution_count": null,
   "id": "94a2556f-22b9-4a40-8057-9b75f0bbc7ec",
   "metadata": {},
   "outputs": [],
   "source": []
  }
 ],
 "metadata": {
  "kernelspec": {
   "display_name": "Python 3 (ipykernel)",
   "language": "python",
   "name": "python3"
  },
  "language_info": {
   "codemirror_mode": {
    "name": "ipython",
    "version": 3
   },
   "file_extension": ".py",
   "mimetype": "text/x-python",
   "name": "python",
   "nbconvert_exporter": "python",
   "pygments_lexer": "ipython3",
   "version": "3.12.6"
  }
 },
 "nbformat": 4,
 "nbformat_minor": 5
}
