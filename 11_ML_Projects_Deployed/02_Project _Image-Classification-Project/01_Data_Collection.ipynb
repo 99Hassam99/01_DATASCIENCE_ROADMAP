{
 "cells": [
  {
   "cell_type": "markdown",
   "id": "2c9fa388-e54e-4078-a0cb-5bcdebe2a6d7",
   "metadata": {},
   "source": [
    "# Data Collection\n",
    "\n",
    "When we do supervised learning we need alot of truth data. Truth data is basically like we have an image which we can call as X or an independent variable and then we have a label or a class label which will tell that this image is of a celebrity so this label is called Y or a target variable.\n",
    "\n",
    "We need alot of images to train a classifier. There are 4 different ways of collecting these images:\n",
    "\n",
    "1. Manualy downloading images from Google ( time consuming )\n",
    "2. Use python and web scrapping ( automated test software )\n",
    "3. Fatkun chrome Extenstion tool\n",
    "4. Buy data from 3rd party vendors"
   ]
  }
 ],
 "metadata": {
  "kernelspec": {
   "display_name": "Python 3 (ipykernel)",
   "language": "python",
   "name": "python3"
  },
  "language_info": {
   "codemirror_mode": {
    "name": "ipython",
    "version": 3
   },
   "file_extension": ".py",
   "mimetype": "text/x-python",
   "name": "python",
   "nbconvert_exporter": "python",
   "pygments_lexer": "ipython3",
   "version": "3.12.6"
  }
 },
 "nbformat": 4,
 "nbformat_minor": 5
}
