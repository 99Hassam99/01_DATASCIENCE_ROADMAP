{
 "cells": [
  {
   "cell_type": "markdown",
   "id": "e0028891-17d4-41f9-9f27-0a98950e89cb",
   "metadata": {},
   "source": [
    "# What is Hypothesis Testing?"
   ]
  },
  {
   "cell_type": "markdown",
   "id": "6ed6df05-d72e-4b40-8af9-6f05083fa10c",
   "metadata": {},
   "source": [
    "Let's say there is Pharma company called Aqtliq Pharmaceuticals and they have a drug A which is a very popular drug fro treating headache, so if you have a headge and you take drug A, it cures it within few hours and it it being used by millions of people, a very of popular drug.\n",
    "\n",
    "Now the scientists in this company invest a new drug called drug B and they claim that drug B takes less time to cure headache compare to drug A. So, the claim is that total number of hours that are needed to cure the headache are less if you take drug B vs drug A, now how do you prove that, you cant roll out that drug B and give it to million of people. You need to test it first like do a clinical trial.\n",
    "\n",
    "How about you get 10 volunteers who are having headache and give drug A to 5 volunteer and drug B to remaining 5 and kind of measure a time. Lets assume drug A takes 4 hours to cure headache drug B takes 3 hours. Did we prove that drug B is effectiv than A, well the answer is NO. why because our sample size is very small, in statistics, since you cant test certain things on the entire population we take a sample and here sample was 10 volunteers and 10 volunteers vs millions of people is definitly a very small sample.\n",
    "\n",
    "We can say that maybe it happened because of a random chance, or the sample is not good enough to give you confidence that B is more effective than A then what do you do? When you increase the sample size lets say you take 1000 volunteers maybe 500 for A and 500 for B, again A take 4 hours and B take 3 hours to get rid of headache completely, did we prove that B is effective? and are we in a position to roll it out to millions of people? Maybe not sure because thousand VS Millions and millions of people and 1k is still not a big enough size. The other problem is what if the 500 people on whome you tested B are all young folks who had better immune system and remaining 500 on whom you tested A are old folks who had underlying condition,with a little weak immunity.\n",
    "\n",
    "So it depends on the 2 factors:\n",
    "1) One is Sample Size.\n",
    "2) How much Variation you have in that sample. Do you have people from all age groups, different medical condition,different ethnicity, you need to consider alot of factors in order to conduct an effective test."
   ]
  },
  {
   "cell_type": "markdown",
   "id": "b5328746-bab0-4625-b6e3-b155cd178ebc",
   "metadata": {},
   "source": [
    "Another example is of coin flipping. If we have coin lets flip it 7 times and usually you will expect that you will get head and tails equal numbers of times lets say first four times i got head and i started thinking that maybe there is something wrong with this coin maybe it is counterfiet and maybe it is favouring head so you can try this experiment too, try flipping the coin so many times and many times you will find that 4,5,6 and even 7 times in a sequence you might get head or tail and you will think there is something wrong with the coin but the reality is that nature tricks you and it tricks you in a way that you will start thinking that there is an underlying reason behind an event or phenomena whereas the fact is that it is pure randomness. This is the nature law.\n",
    "\n",
    "Another example is of successfull astrologist who try to predict your future, you know that there was an astrologist who used to say that at age 35 you will have unexpected monetary benefit or maybe you will win a lottery or you will get it from like bonus or something etc. Now if you make that claim to 100 people maybe 20 or 30 people will get it right and that is just because of pure randomness, but then people think that no this astrologist knows how to see a future, so they think of randomness actually you know the underlying course is randomness but the way events are happening in nature it makes you that there is an underlying reason and the purpose of **Hypythesis testing** is to get rid of this element of randomness.\n",
    "\n",
    "Basically it is to figure out that observed result is not because of a random chance and there is a strong reason behind it.\n",
    "\n",
    "So in our case drug B is more effective than A and in our case the test that we are performing (hypthesis testing) allows you to rule out the element of randomness, so if you do Hypothesis testing you can scientifically prove that drug B is more effective than A and how exactly hypothesis testing is conducted, is beyond the scope of this lecture but we will discuss about some of the methods.\n",
    "\n",
    "1) Now in our case drug B being more effective than drug A is called **Alternate Hypothesis**. An alternate hypothesis is represented using $H_a$. So $H_a$ means the claim you want to prove and,\n",
    "2)  we always come up with the opposite hypothesis which is also called **NULL hypothesis**, which is drug B is not more effective than drug A.\n",
    "3)  So drug B not more effective than drug A is **Null Hypothesis** and null and alternate hypothesis are exactly opposite of one another.\n",
    "\n",
    "Now why do we need null hypothesis, why cant we prove directly that drug B is more effective than drug A.\n",
    "\n",
    "Well null hypothesis first of all represents the established fact. What is **established Fact**? Well drug A is the more effective drug by AtliQ Pharma in market, so drug A is being used by million of people since past five years and it is the established fact and if someone is coming with drug B and saying that drug B is more effective then we wants to play **Devil's advocate**,we want to look at that claim with lot of skepticism and start our inquiry by saying that no drug B is not more effective than drug A. Drug A has been very effective since past five years, so many have used it so i dont believe that drug B is more effective than A so we want to start with the established fact, you know whatever is true as of now and then we do couple of tests, you know using H.Testing and try to prove that my null hypothesis is wrong or we try to reject the null hypothesis basically. We try to reject that drug B is not more effective than A. When you reject that you automatically prove that drug B is actually effective than drug A. It is like going to a courtroom you know someone committed a murder but we always say innocent until proven guilty, so in the court we will always start with us by saying that this person is innocent, they have not committed a murder and then the lawyers on the opposite end will try to reject that statement.\n",
    "\n",
    "So null hypothesis is the person who is not guilty and the lawyers on the opposite side will try to prove that this statement that the person is not guilty is wrong and by doing that they proved that the person is guilty. There are many examples of null and alternate hypothesis.\n",
    "\n",
    "Back in time, it is used to believe that the sun rotates around the earth so people back in days used to believe earth is static at the place means not moving and sun rotates around it. Then **Copernicus** came up with the theory that no that is not true, so the null hypothesis at that time was sun rotates around the earth, it was the widely accepted belief for many years and then someone comes and says that no this is not true that sun rotates around the earth and when you reject that claim, automatically the second most claim that is there becomes kind of established truth/fact.\n",
    "\n",
    "So the way it works is that the claim that you are trying to prove, you cannot say for sure that this is the truth so whatever is the opposite you try to reject it and then this 2nd established thing kind of becomes the truth.\n",
    "\n",
    "It is like **Rojer Federer** was the number one tennis player, so the null hypothesis is Roger Federer is the best tennis player, Then **Djokovic** came in and now you want to say Djokovis is better player than Federer but instead of proving that what if you prove that Federer is not the best player or he is not the number 1 player and when you do that automatically number 2 who is Djokovic becomes number 1 and you dont want to say that Djokovic is the best player because tomorrow someone else might come in so that the statement that Djokovic is the best player, it is hard to prove you know it is not an absoulte fact, things are always changing so someone can come and say some new player will come and they can became the best player.\n",
    "\n",
    "That is the whole idea behind having null hypothesis so in HTesting when you have a claim that you want to prove is called alternate Hypothesis and you go with the alternate claim which is an established fact or widely acceptes phenomena and you try to reject that.\n",
    "\n",
    "Another example is you know uptil now before pandemic(covid) the belief was like employees are more productive in office now that is how the world has been and everyone knows that and that is my null hypothesis and some HR people are coming up with a theory that emp can be more productive at home also, so basically the opposite is not like that emp have to be in the office in order to become more productive now that is the new thing that we have not experience it much maybe one and half year into pandemic and now we know little bit but people working from office has been like that since thousands of years so that is our null hypo and my new alternate hypothesis is employee can be more productive working from home as well.\n",
    "\n",
    "3rd example, irritable bowel disease has no relationship with food that you eat that is an accepted believe right now in medical science and some new scientists comes up with a theory that no by eating certain food it can cause irritable bowel disease so then the null hypo which is irritable bowel disease has no relation with food you can reject that and if you reject that you kind of established the fact that these 2 have a relation.\n",
    "\n",
    "Lets say you are a data scientist working in Amazon, where you have build this recommendation engine which shows product recommendation in website below the desire products when open and there is a ML model behind it and that ML model is A and amazon has been using this model for maybe 2-3 years so many peoples are using it so model A is something that established fact that is something being used by  many people  and now DS working at Amazon comes up with a new model B and they claim that model B is better than A they provide better product recommendation so in order to prove that you have to come up with null hypo which will be like B is not better than A and you try to reject that when you reject it you auto prove that B is better than A.\n",
    "\n",
    "So now the question is how do you exactly conduct Hypo testing?\n",
    "\n",
    "There are many techniques:\n",
    "1) Z-Test\n",
    "2) T-Test\n",
    "3) Anova\n",
    "4) Chi-Square test\n",
    "5) Ghi-Square test\n",
    "\n",
    "So there are so many techniques that allows you to eliminate the factor of randomness from the claim that you are testing"
   ]
  },
  {
   "cell_type": "code",
   "execution_count": null,
   "id": "7a00e4bc-4acb-454b-9d65-384b1db4440b",
   "metadata": {},
   "outputs": [],
   "source": []
  }
 ],
 "metadata": {
  "kernelspec": {
   "display_name": "Python 3 (ipykernel)",
   "language": "python",
   "name": "python3"
  },
  "language_info": {
   "codemirror_mode": {
    "name": "ipython",
    "version": 3
   },
   "file_extension": ".py",
   "mimetype": "text/x-python",
   "name": "python",
   "nbconvert_exporter": "python",
   "pygments_lexer": "ipython3",
   "version": "3.12.6"
  }
 },
 "nbformat": 4,
 "nbformat_minor": 5
}
