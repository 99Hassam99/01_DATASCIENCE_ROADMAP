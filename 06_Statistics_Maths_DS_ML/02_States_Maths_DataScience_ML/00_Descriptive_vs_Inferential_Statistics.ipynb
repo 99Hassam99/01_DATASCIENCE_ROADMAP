{
 "cells": [
  {
   "cell_type": "markdown",
   "id": "0532f8ef-9f01-4b06-bdb4-de3e2b0643a0",
   "metadata": {},
   "source": [
    "# Descriptive vs. Inferential Statistics"
   ]
  },
  {
   "cell_type": "markdown",
   "id": "414555a2-47e8-4e45-bcd2-423cd60d2d2b",
   "metadata": {},
   "source": [
    "Let's say you are conducting an exit poll for the election in news website. You might be seeing all these articles prior to election that party A is expected to win and we conducted this exit poll so the way poll works is that they go to a population and they survey few people, they cant ofcourse survey all the people, lets say you are doing a country level polling and it is impossible to talk to everyone who is going to what?\n",
    "\n",
    "Therefore, you talk to few thousands people in the entire country. Lets assume the country population is 20Crore out of that you talk to only 10lac people and by doing that you will get an idea by asking them questions, like are they going to vote for A or B party, so this 1million population where you conducted your survey is called **sample** and the entire circle which is 20 crore is called **population** so that is the difference between sample and population.\n",
    "\n",
    "lets say the results are that there are 2 candidates, Bob and John and the people in the selected survey i-e 1million, out of which 38% said they will vote for Bob & 62% of them said they will vote for john, so in this context, once again, the entire population will cover every single voter in the country whereas the sample will be the people whome you have surveyed so usually this election polls will try to infer the results of this sample on entire population, they will say that in my survey, i found that 62% of people are going to vote for John hence john is going to win the elections, but in reality things might be a little different but thet will try to make this survey as accurate as possible by using statistics so what they will do is they will randomely pick people they will cover all different kind of demographics, different kind of income levels, they will go to villages,cities, different areas or diff age groups and try to get a truly random sampling and the idea is whatever results they have got on that sample that result will be applicable to the entire population now if the test are conducted properly, the results might look similar or they may vary too. \n",
    "\n",
    "**So this process of analyzing sample data to make predictions or influences on population is called inferential statistics.**\n",
    "\n",
    "As the term inferential indicates inference, this is called inferential states.\n",
    "\n",
    "**Descriptive statistics is the process of describing the characteristics of a given data or dataset** for example you survey every single person in the country and you found that 53% people are going to vote for john and 47% are going to vote for Bob, so that will be called descriptive statistics because you are not trying to infer anything, you already talk to every single person and you are just describing that i talk to every single person and 53% of them are saying that they're going to vote for john, so you are just describing you are not making any prediction or inferences where as in the previous case you talk to only few people and based on that you are trying to predict that Ok, maybe entire population will vote in this particular way.\n",
    "\n",
    "Another example is that lets you have a shoe brand or store called Mochi and you are the owner then you might be interested in looking at the daily sales number so lets say you have prepared an Excel file where you are putting all your daily sales and you are looking at the daily sales of last three months and you might come up with some statistics such as **What is my average daily sales?**/**what is my highest daily sales or lowest daily sales** so this is just describing your current existing data therefore this is called descrviptive statistics, once again you are not making any prediction or inferences, you have a dataset, you are studying the dataset, and you are calculating average, mean, std dev, variance all these different things and you are putting the numbers together to get an idea. So as a business person, it would be good to know that my average daily sales is $3200 and my highest sales is 8700 in last three months so that is descriptive states but lets say a festivel season is coming and you want to run some kids of spatial offer and you are creating this sales strategy where you are offering discount A & B but you are not sure which discount is going to work better, so you might run Discount A for 15 days then B for another 15 days and you can do AB testing or some kind of hypothesis testing to say that B works better than A and once you have conducted that testing for one month you do that test and then you can apply that discount B lets say B comes out tobe good during that one month you can apply that B for next six months or one year. That is called inferential statistics. You are saying that since B worked in this particular month, it is also going to work for next 12 months, so you are predicting that it has worked for this particular time window  therefore it will for the future and there is a discipline way in states to do all of that and it is called AB Testing or Hypothesis testing."
   ]
  },
  {
   "cell_type": "markdown",
   "id": "6cc7ebe7-9619-4d77-b3b4-56e227966454",
   "metadata": {},
   "source": [
    "# kind of things that we study under descriptive and inferential Statistics are:\n",
    "1) Under descriptive we study:\n",
    "\n",
    "    .) average, mean, median, max, variance, std dev etc\n",
    "   \n",
    "   .) Purpose of this states is to summarize Data.\n",
    "\n",
    "   .) Study for this is conducted on samples or entire population\n",
    "   \n",
    "   \n",
    "3) Under inferential we study:\n",
    "\n",
    "   .) Hypothesis testing, confidence, intervals, regression\n",
    "\n",
    "   .) Purpose of this is to make predictions.\n",
    "\n",
    "   .) Study for this is conducted on samples only\n",
    "   "
   ]
  },
  {
   "cell_type": "markdown",
   "id": "a8d3e076-b8f6-4a7e-adb1-6c5562d1e279",
   "metadata": {},
   "source": [
    "# Continuous vs. Discrete Data\n",
    "**Continuous Data**\n",
    "\n",
    "Definition: Data that can take any value within a range, including decimals or fractions.\n",
    "\n",
    "Examples:\n",
    "\n",
    "Height (e.g., 170.5 cm).\n",
    "\n",
    "Weight (e.g., 68.7 kg).\n",
    "\n",
    "Temperature (e.g., 36.6°C).\n",
    "\n",
    "Characteristics:\n",
    "\n",
    "Infinite possible values within a range.\n",
    "\n",
    "Often measured.\n",
    "\n",
    "**Discrete Data**\n",
    "\n",
    "Definition: Data that can only take specific values, often whole numbers.\n",
    "\n",
    "Examples:\n",
    "\n",
    "Number of students in a class (e.g., 25).\n",
    "\n",
    "Number of cars in a parking lot (e.g., 50).\n",
    "\n",
    "Characteristics:\n",
    "\n",
    "Finite, countable values.\n",
    "\n",
    "Often counted."
   ]
  },
  {
   "cell_type": "markdown",
   "id": "937dcbf1-9a9e-454c-be28-c5c6a341d13e",
   "metadata": {},
   "source": [
    "# Nominal vs. Ordinal Data\n",
    "\n",
    "**Nominal Data**\n",
    "\n",
    "Definition: Categorical data where the categories have no inherent order.\n",
    "\n",
    "Examples:\n",
    "\n",
    "Gender (Male, Female).\n",
    "\n",
    "Eye color (Blue, Green, Brown).\n",
    "\n",
    "Nationality (American, Pakistani, Canadian).\n",
    "\n",
    "Characteristics:\n",
    "\n",
    "No logical ranking or ordering.\n",
    "\n",
    "Used for classification or labeling.\n",
    "\n",
    "**Ordinal Data**\n",
    "\n",
    "Definition: Categorical data where the categories have a meaningful order or ranking.\n",
    "\n",
    "Examples:\n",
    "\n",
    "Education level (High School, Bachelor’s, Master’s, PhD).\n",
    "\n",
    "Customer satisfaction ratings (Poor, Fair, Good, Excellent).\n",
    "\n",
    "Characteristics:\n",
    "\n",
    "The order matters, but the intervals between categories are not necessarily equal.\n"
   ]
  },
  {
   "cell_type": "code",
   "execution_count": null,
   "id": "249cb927-b2f1-4079-9f85-febb226756c5",
   "metadata": {},
   "outputs": [],
   "source": []
  }
 ],
 "metadata": {
  "kernelspec": {
   "display_name": "Python 3 (ipykernel)",
   "language": "python",
   "name": "python3"
  },
  "language_info": {
   "codemirror_mode": {
    "name": "ipython",
    "version": 3
   },
   "file_extension": ".py",
   "mimetype": "text/x-python",
   "name": "python",
   "nbconvert_exporter": "python",
   "pygments_lexer": "ipython3",
   "version": "3.12.6"
  }
 },
 "nbformat": 4,
 "nbformat_minor": 5
}
