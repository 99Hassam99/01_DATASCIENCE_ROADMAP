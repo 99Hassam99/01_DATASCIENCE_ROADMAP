{
 "cells": [
  {
   "cell_type": "markdown",
   "id": "956ae47b-f582-40dd-ae7a-fadccdf4764d",
   "metadata": {},
   "source": [
    "# A/B Testing\n",
    "\n",
    "We have 2 options like option A and option B & we dont know which option is performing better.\n",
    "\n",
    "A and B testing is a technique that allows you to decide that.\n",
    "\n",
    "For example: AtliQ tech. is a software company owned by Dhaval patel. They have a contact button at the top right side of thier website. This button allows them to generate sales lead because a website visitor. If they want to develop a software they will click on this button. Now business manager in AtliQ proposes that we should move the contact button in the middle because that way it will generate sales lead. Now we live in a world of Data and we dont use intuition. So what AtliQ will do is they will prepare an alternate version of the website where the contact button is in the middle and they will run both the versions in paraller for lets say 10 days where the traffic is divicided equally between both the versions. Let say website is getting 10k users every day, now 5k users are visiting version A where the contact button is at the top right and the remaining 5k users are visiting version B where the button is in the middle. At the end of the day they calculate the sales lead let say 10 days version A got 300 sales leads version B got 400 sales lead.\n",
    "\n",
    "Now they can calculate that version B is better because that allowed them to generate more sales lead.\n",
    "\n",
    "Now it is not as simple as it looks because you need to consider number of factors:\n",
    "1) Factor 1 is that is there a sampling bias. What i mean by that is the 5k users who are visiting version B maybe they were from the same area where AtliQ already has an established name and that would be a case of sampling bias. You need to distribute your load randomly, so that people from the random region are visiting the participating in version A and B in an equal way that way there is no bias.\n",
    "2) You also need to make sure that there are enough samples (under coverage bias). You cant run this experiment for one hour and lets say 500 user visits your website, based on that you make a conclusion that will also not work.\n",
    "3) We will cover all these things in detail including what is called statistical significance. But the point is you want to make sure you are not arriving at the conclusion just by a random chance. Now A B testing is something that is used by most of the websites, whenever thet make changes in their layout for example: Amazon repetitively uses A B testing and We'll be providing a research paper where they have shown how they use A B testing to design the Tabs, you know the product category tabs in amazon website beside this linkedin,facebook and anyother website whenever they want to make a layout change they use A B testing.\n",
    "4) A B testing is used heavily in Data Science and ML as well. Product recommendation on Amazon is a classic case. Lets say you are a data scientist working in Amazon and you have built a machine learning model that makes product recommendations. So if you are visiting one product you see some other product recommendation at the bottom.\n",
    "5) Now you are deploying a new version of this ML Model. You wont go ahead and just directly deploy that, for this you will do AB testing which means you will deploy your algorithm on a separate instance and you will have a percentage of your traffic going to the new version for some days. It doesnt have to be 50 50 percent, maybe 70 percent goes to the current version and 30 goes to the new version then you measure the success of the new version after certain amount of days and again you have to take into account the random chance and all of that is done by HYPOTHESIS testing.\n",
    "6) At the end of the day now you will make a conclusion that version B is better or not and based on that you can deploy that to pretty much to all the users.\n",
    "7) Now why only A B testing and why not A B C or A B C D testing. Well we can do it too. Like the contact button of AtliQ website, we can do it the middle we can put it in the bottom left and right side and maybe run 3 or 4 versions and called that as A B C or D testing and that is perfectly valid but AB testing is more popular because when we have 2 options it becomes very easy to test things out as you had more options, your experiment and experimental design gets very very complicated.\n",
    "8) Hence, AB Testing till date remains the very simple and very powerful technique and people use it throughut the industry.\n",
    "9) Facebook Ad compaign for example, social media ad compaign is another classical case example where you will run your ad compaign.\n",
    "10) Lets say i have for example 50k$ budget for my product to spend on socual media ad compaign what i might do is i will run maybe 2 ad compaign on facebook 25k dollars each or lets say initial phase 10k or 5k dollars each and i will design 2 separate compaigns which will have separate ad layout. Maybe my demographics configuration is a little different and by run those experiments, i can figure out which ad compaign is performing best and then i can deploy the rest of my advertisement money on my ad compaign so it is a very powerful technique"
   ]
  },
  {
   "cell_type": "code",
   "execution_count": null,
   "id": "23ea1e39-22d9-4c44-8339-466f0563aeaa",
   "metadata": {},
   "outputs": [],
   "source": []
  }
 ],
 "metadata": {
  "kernelspec": {
   "display_name": "Python 3 (ipykernel)",
   "language": "python",
   "name": "python3"
  },
  "language_info": {
   "codemirror_mode": {
    "name": "ipython",
    "version": 3
   },
   "file_extension": ".py",
   "mimetype": "text/x-python",
   "name": "python",
   "nbconvert_exporter": "python",
   "pygments_lexer": "ipython3",
   "version": "3.12.6"
  }
 },
 "nbformat": 4,
 "nbformat_minor": 5
}
