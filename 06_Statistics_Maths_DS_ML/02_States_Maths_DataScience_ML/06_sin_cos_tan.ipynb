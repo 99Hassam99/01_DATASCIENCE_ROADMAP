{
 "cells": [
  {
   "cell_type": "markdown",
   "id": "62be8289-4147-4bd5-9315-6db7532d10e3",
   "metadata": {},
   "source": [
    "# What is sin, cosine and tangent?\n",
    "\n",
    "Let us take an example to understand it.\n",
    "\n",
    "A forest officer who wants to measure a height of a tree, the tree is very big so he does not want to climb on it because it is just too much work and for that reason he is going to use the knowledge of sin cosine and tan to come up with the height of this tree very easily.\n",
    "\n",
    "So first he will measure the distance between himself and the tree lets say it is 50 feet then he has an instrument using which he can measure an angle between the ground and the top/notch of the tree from where he's looking: let's that angle is 30.\n",
    "\n",
    "Having this knowledge now you can find out what's the height of the tree.\n",
    "\n",
    "Just consider this as a right angle triangle.\n",
    "RAT is something where there is an angle of 90 degree and lets consider the height is 3 and the base is 4 for such a triangle the angle on other side will always be 36.87 degree 06_fig that is like a law of nature well what is law of nature? like 2+3=5 that is law of nature which cannot be changed.\n",
    "\n",
    "\n",
    "If height and base is 4 the angle will always be 45 and if base is 5 and height is 4 the angle will always be 38.65 so it is kind of a fix mapping that nature has.\n",
    "\n",
    "Can we represent the relation between this angle and these 2 sides in a mathematical form: $$ 36.87^0 ~ 3,4 $$\n",
    "\n",
    "That is what mathematicians do, they conduct scientific experiments and then they find some relationship and they just give a name to those relationships, so sintheta, costheta is not a rocket science really it is just a relationship. It is a name that they gave to some natural law so 36.87 is related to 3 and 4.\n",
    "\n",
    "We can also say that 36.87 is related to the ratio between 3/4 becuase if you change this ratio this angle will change and if the ratio is constant lets say if 3/4 is 0.75 then this realtionship is kind of constant so mathematicians give this relationship a name called:\n",
    "Tangent $$ 36.87^0  =  0.75$$\n",
    "\n",
    "They called this tan theta.\n",
    "\n",
    "so 10 of 36.87 is 0.75 and 0.75 is the opposite side divided by adjacent side:\n",
    "\n",
    "$$ tan0 = \\frac{Opposite-side}{Adjacent-side} $$ "
   ]
  },
  {
   "cell_type": "code",
   "execution_count": null,
   "id": "89412b51-5748-4f7a-a352-3b7ba79a9b22",
   "metadata": {},
   "outputs": [],
   "source": []
  },
  {
   "cell_type": "markdown",
   "id": "f321d541-69eb-4eeb-b643-5955717d0412",
   "metadata": {},
   "source": [
    "if you do different mapping like height is 0.704 and base is 4 then the angle will be: $ tan 10^0 $\n",
    "\n",
    "i-e $$tan 10^0 = 0.176 $$\n",
    "\n",
    "similarly if base and height are 4 i-e\n",
    "$$tan 45^0 = 1 $$ \n",
    "\n",
    "It will always be one.\n",
    "\n",
    "So we can create this kind of mapping table.\n",
    "\n",
    "$$\n",
    "tan 0^0 = 0,--  tan 1^0 = 0.0174,--tan 2^0 = 0.0349,--  tan 30 ^0 = 0.577,--  tan 45^0 = 1\n",
    "$$\n",
    "\n",
    "It is always like fix mapping."
   ]
  },
  {
   "cell_type": "code",
   "execution_count": null,
   "id": "4733b007-dfb0-41dd-ad80-0b8cd9dd1357",
   "metadata": {},
   "outputs": [],
   "source": []
  },
  {
   "cell_type": "markdown",
   "id": "1258b9e9-d1f9-4724-b3bc-c781507068a4",
   "metadata": {},
   "source": [
    "Now let's use that to solve our problem\n",
    "\n",
    "30 degree and 50 feet to find the height of tree.\n",
    "\n",
    "$$ tan0 = \\frac{Opposite-side}{adjacent-side}$$\n",
    "\n",
    "$$tan30^0 = \\frac{x}{50} $$ ~ tan30 = 0.577 put it in the equation\n",
    "\n",
    "$$0.577 = \\frac{x}{50} $$\n",
    "\n",
    "$$50*0.577 = X $$\n",
    "\n",
    "$$X = 28.85 $$"
   ]
  },
  {
   "cell_type": "code",
   "execution_count": null,
   "id": "6d70602d-a9f9-4955-b709-34421d509201",
   "metadata": {},
   "outputs": [],
   "source": []
  },
  {
   "cell_type": "markdown",
   "id": "a039f728-7ba2-4442-a958-eb9411f281cf",
   "metadata": {},
   "source": [
    "# It was all about tan and tantheta.\n",
    "\n",
    "# Now lets move to sin and cos."
   ]
  },
  {
   "cell_type": "markdown",
   "id": "ccd62401-0ba8-4182-9391-e67ed38cb986",
   "metadata": {},
   "source": [
    "In order to understand sin and cos we need to understand the pythagoras theorem. Pythagras a man invested this theorem which says that the square of hypotenuse is equal to the square individual sides and you just sum it up like:\n",
    "\n",
    "$$x^2 = 3^2 + 4^2 $$\n",
    "$$x^2 = 9 + 16 $$\n",
    "$$x^2 = 25$$\n",
    "\n",
    "Here the square of individual side is **25** and the **Hypotenuse is 5** basically.\n",
    "\n",
    "As show in fig 06_fig1"
   ]
  },
  {
   "cell_type": "markdown",
   "id": "e2e50842-4d5f-4898-856d-8a91b7377544",
   "metadata": {},
   "source": [
    "Now lets understand sin and cos (pythagoras theorem) by taking a real life example:\n",
    "\n",
    "Let's consider you have a heavy package lying infront of your home and you want to drag it inside your room let's consider that the surface is flat, so you can attach a rope to it and can try lifting it now let's say you are putting a 10 newton force **(newton is the unit of measure for force)**\n",
    "$$Total_f = 10  newton $$\n",
    "and then there is some angle lets consider that this angle between the rope and earth is 30 degree now part of this force goes into x direction and part of that force goes into y direction also and x(f) direction is nothing but the component of force that is used to pull the box or package in a horizontal position and y(f) direction is the force that is used to lift the package a little bit. You need to lift it a little bit so you address the friction between the backage and the ground, if we keep the rope very in a straight direction like horizontal then it might be hard to pull the packge.(Shown in 06_fig2).\n",
    "\n",
    "Now to find the components i-e the 10_newton force has 2 components X(f) and Y(f), we can find this by using sin and cosine.\n",
    "\n",
    "So now here's a situation and first let me find the components that really is used to pull this package up.\n",
    "\n",
    "We again know that it is the law of nature so this can be represented with the help of a right angle triangle i-e like 10n xf yf etc they are all related. It is also the law of nature that if we know this 10 newton and 30 degree angle then we can actually find the yf and that law is expressed as **sin**\n",
    "\n",
    "~ refer to fig (06_fig3)\n",
    "\n",
    "so sintheta is basically:\n",
    "$$ sin(0) = \\frac{opposite-side}{Hypotenuse}  $$\n",
    "so if we do sin 30\n",
    "$$sin(30^0) =\\frac{y_f}{10} $$ ~ it is fix mapping as sin30 is always 0.5\n",
    "\n",
    "$$ 0.5 = \\frac{y_f}{10}$$\n",
    "$$ 0.5*10 = y_f$$\n",
    "$$ y_f = 5 $$\n",
    "\n",
    "We find that the vertical component with 30 degree will be **5 newton** so sintheta has been find.\n",
    "\n",
    "Now x(f) ~ (costheta) which has a different relationship and it is called cosine.\n",
    "\n",
    "Cosine is always:\n",
    "$$ cos(0) = \\frac{adjacent-side}{Hypotenuse}$$\n",
    "\n",
    "$$cos(30^0) =\\frac{x_f}{10} $$ ~ it is fix mapping as cos30 is always 0.866\n",
    "\n",
    "$$ 0.866 = \\frac{x_f}{10}$$\n",
    "$$0.866*10 = X_f $$\n",
    "$$ X_f = 8.66$$\n",
    "\n",
    "~ refer to (06_fig4)"
   ]
  },
  {
   "cell_type": "code",
   "execution_count": null,
   "id": "48c5ae21-1862-4503-beec-d729fd82cdd7",
   "metadata": {},
   "outputs": [],
   "source": []
  }
 ],
 "metadata": {
  "kernelspec": {
   "display_name": "Python 3 (ipykernel)",
   "language": "python",
   "name": "python3"
  },
  "language_info": {
   "codemirror_mode": {
    "name": "ipython",
    "version": 3
   },
   "file_extension": ".py",
   "mimetype": "text/x-python",
   "name": "python",
   "nbconvert_exporter": "python",
   "pygments_lexer": "ipython3",
   "version": "3.12.6"
  }
 },
 "nbformat": 4,
 "nbformat_minor": 5
}
