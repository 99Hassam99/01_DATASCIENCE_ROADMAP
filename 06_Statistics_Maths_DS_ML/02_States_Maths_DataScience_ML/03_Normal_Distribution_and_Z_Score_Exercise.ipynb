{
 "cells": [
  {
   "cell_type": "markdown",
   "id": "ab5d9e04-0866-4ad0-8591-520759cc000a",
   "metadata": {},
   "source": [
    "**Exercise**\n",
    "\n",
    "You are given bhp.csv which contains property prices in the city of banglore, India. You need to examine price_per_sqft column and do following,\n",
    "\n",
    "(1) Remove outliers using percentile technique first. Use [0.001, 0.999] for lower and upper bound percentiles\n",
    "\n",
    "(2) After removing outliers in step 1, you get a new dataframe.\n",
    "\n",
    "(3) On step(2) dataframe, use 4 standard deviation to remove outliers\n",
    "\n",
    "(4) Plot histogram for new dataframe that is generated after step (3). Also plot bell curve on same histogram\n",
    "\n",
    "(5) On step(2) dataframe, use zscore of 4 to remove outliers. This is quite similar to step (3) and you will get exact same result\n",
    "\n",
    " "
   ]
  },
  {
   "cell_type": "code",
   "execution_count": 8,
   "id": "ea13a49d-cf58-4e22-9613-e0cafdb461bd",
   "metadata": {},
   "outputs": [],
   "source": [
    "import pandas as pd\n",
    "import matplotlib.pyplot as plt\n",
    "%matplotlib inline\n",
    "# matplotlib.rcParams['figure.figsize'] = (12,8)"
   ]
  },
  {
   "cell_type": "code",
   "execution_count": 2,
   "id": "710ab6b6-43ae-4344-8d62-be7a0e244b2d",
   "metadata": {},
   "outputs": [
    {
     "data": {
      "text/html": [
       "<div>\n",
       "<style scoped>\n",
       "    .dataframe tbody tr th:only-of-type {\n",
       "        vertical-align: middle;\n",
       "    }\n",
       "\n",
       "    .dataframe tbody tr th {\n",
       "        vertical-align: top;\n",
       "    }\n",
       "\n",
       "    .dataframe thead th {\n",
       "        text-align: right;\n",
       "    }\n",
       "</style>\n",
       "<table border=\"1\" class=\"dataframe\">\n",
       "  <thead>\n",
       "    <tr style=\"text-align: right;\">\n",
       "      <th></th>\n",
       "      <th>location</th>\n",
       "      <th>size</th>\n",
       "      <th>total_sqft</th>\n",
       "      <th>bath</th>\n",
       "      <th>price</th>\n",
       "      <th>bhk</th>\n",
       "      <th>price_per_sqft</th>\n",
       "    </tr>\n",
       "  </thead>\n",
       "  <tbody>\n",
       "    <tr>\n",
       "      <th>0</th>\n",
       "      <td>Electronic City Phase II</td>\n",
       "      <td>2 BHK</td>\n",
       "      <td>1056.0</td>\n",
       "      <td>2.0</td>\n",
       "      <td>39.07</td>\n",
       "      <td>2</td>\n",
       "      <td>3699</td>\n",
       "    </tr>\n",
       "    <tr>\n",
       "      <th>1</th>\n",
       "      <td>Chikka Tirupathi</td>\n",
       "      <td>4 Bedroom</td>\n",
       "      <td>2600.0</td>\n",
       "      <td>5.0</td>\n",
       "      <td>120.00</td>\n",
       "      <td>4</td>\n",
       "      <td>4615</td>\n",
       "    </tr>\n",
       "    <tr>\n",
       "      <th>2</th>\n",
       "      <td>Uttarahalli</td>\n",
       "      <td>3 BHK</td>\n",
       "      <td>1440.0</td>\n",
       "      <td>2.0</td>\n",
       "      <td>62.00</td>\n",
       "      <td>3</td>\n",
       "      <td>4305</td>\n",
       "    </tr>\n",
       "    <tr>\n",
       "      <th>3</th>\n",
       "      <td>Lingadheeranahalli</td>\n",
       "      <td>3 BHK</td>\n",
       "      <td>1521.0</td>\n",
       "      <td>3.0</td>\n",
       "      <td>95.00</td>\n",
       "      <td>3</td>\n",
       "      <td>6245</td>\n",
       "    </tr>\n",
       "    <tr>\n",
       "      <th>4</th>\n",
       "      <td>Kothanur</td>\n",
       "      <td>2 BHK</td>\n",
       "      <td>1200.0</td>\n",
       "      <td>2.0</td>\n",
       "      <td>51.00</td>\n",
       "      <td>2</td>\n",
       "      <td>4250</td>\n",
       "    </tr>\n",
       "  </tbody>\n",
       "</table>\n",
       "</div>"
      ],
      "text/plain": [
       "                   location       size  total_sqft  bath   price  bhk  \\\n",
       "0  Electronic City Phase II      2 BHK      1056.0   2.0   39.07    2   \n",
       "1          Chikka Tirupathi  4 Bedroom      2600.0   5.0  120.00    4   \n",
       "2               Uttarahalli      3 BHK      1440.0   2.0   62.00    3   \n",
       "3        Lingadheeranahalli      3 BHK      1521.0   3.0   95.00    3   \n",
       "4                  Kothanur      2 BHK      1200.0   2.0   51.00    2   \n",
       "\n",
       "   price_per_sqft  \n",
       "0            3699  \n",
       "1            4615  \n",
       "2            4305  \n",
       "3            6245  \n",
       "4            4250  "
      ]
     },
     "execution_count": 2,
     "metadata": {},
     "output_type": "execute_result"
    }
   ],
   "source": [
    "df = pd.read_csv('03_bhp.csv')\n",
    "df.head()"
   ]
  },
  {
   "cell_type": "code",
   "execution_count": 3,
   "id": "0718f8dc-b3a5-4d2f-b854-ad5a958225aa",
   "metadata": {},
   "outputs": [
    {
     "data": {
      "text/plain": [
       "count    1.320000e+04\n",
       "mean     7.920337e+03\n",
       "std      1.067272e+05\n",
       "min      2.670000e+02\n",
       "25%      4.267000e+03\n",
       "50%      5.438000e+03\n",
       "75%      7.317000e+03\n",
       "max      1.200000e+07\n",
       "Name: price_per_sqft, dtype: float64"
      ]
     },
     "execution_count": 3,
     "metadata": {},
     "output_type": "execute_result"
    }
   ],
   "source": [
    "# examine price_per_sqft column for mean median std max\n",
    "df.price_per_sqft.describe()"
   ]
  },
  {
   "cell_type": "markdown",
   "id": "52e4b027-6211-4b2e-b651-ed05f734dbec",
   "metadata": {},
   "source": [
    "The max is 1.2 crore which is too much price for price_per_sqft. It is an outlier and hence can be remove by using percentile and zscore"
   ]
  },
  {
   "cell_type": "code",
   "execution_count": 10,
   "id": "41903bde-a96d-4023-a15a-83bcee3d060d",
   "metadata": {},
   "outputs": [
    {
     "data": {
      "image/png": "[encoded data removed]",
      "text/plain": [
       "<Figure size 640x480 with 1 Axes>"
      ]
     },
     "metadata": {},
     "output_type": "display_data"
    }
   ],
   "source": [
    "# Plotting histogram\n",
    "\n",
    "plt.hist(df.price_per_sqft , bins=20, rwidth=0.8)\n",
    "plt.xlabel('Price per square feet')\n",
    "plt.ylabel('Count')\n",
    "plt.show()"
   ]
  },
  {
   "cell_type": "markdown",
   "id": "171c0940-9f44-4e75-89e6-e83f35018fc1",
   "metadata": {},
   "source": [
    "Above chart confirms our understanding that this dataset has some bad outliers. Because we see only one bar with more than 12000 data points but on the right hand side there are data points that have higher value for price per sqft but count of these data points is very tiny compared to 12000 hence we can hardly see any bar\n",
    "\n",
    "Using log scale can make visualization little better"
   ]
  },
  {
   "cell_type": "code",
   "execution_count": 11,
   "id": "cb26d86c-236b-424e-92c5-37c93f9ec6ae",
   "metadata": {},
   "outputs": [
    {
     "data": {
      "image/png": "[encoded data removed]",
      "text/plain": [
       "<Figure size 640x480 with 1 Axes>"
      ]
     },
     "metadata": {},
     "output_type": "display_data"
    }
   ],
   "source": [
    "\n",
    "plt.hist(df.price_per_sqft , bins=20, rwidth=0.8)\n",
    "plt.xlabel('Price per square feet')\n",
    "plt.ylabel('Count')\n",
    "plt.yscale('log')\n",
    "plt.show()"
   ]
  },
  {
   "cell_type": "markdown",
   "id": "750a0691-6982-4a5e-a8b0-e41b5616f611",
   "metadata": {},
   "source": [
    "You see atleast few bars on right hand side of our highest building at least."
   ]
  },
  {
   "cell_type": "markdown",
   "id": "811003cd-42d3-46a8-8bcb-d8399cfba0ad",
   "metadata": {},
   "source": [
    "# (1) Remove outliers using percentile technique first. Use [0.001, 0.999] for lower and upper bound percentiles"
   ]
  },
  {
   "cell_type": "code",
   "execution_count": 13,
   "id": "6d898cf7-e906-409f-a8f6-17439425e122",
   "metadata": {},
   "outputs": [
    {
     "data": {
      "text/plain": [
       "(1366.184, 50959.36200000098)"
      ]
     },
     "execution_count": 13,
     "metadata": {},
     "output_type": "execute_result"
    }
   ],
   "source": [
    "lower_limit, upper_limit = df.price_per_sqft.quantile([0.001,0.999])\n",
    "lower_limit, upper_limit"
   ]
  },
  {
   "cell_type": "code",
   "execution_count": 20,
   "id": "c95888a9-e306-446d-99a5-7bc4e5838644",
   "metadata": {},
   "outputs": [
    {
     "data": {
      "text/html": [
       "<div>\n",
       "<style scoped>\n",
       "    .dataframe tbody tr th:only-of-type {\n",
       "        vertical-align: middle;\n",
       "    }\n",
       "\n",
       "    .dataframe tbody tr th {\n",
       "        vertical-align: top;\n",
       "    }\n",
       "\n",
       "    .dataframe thead th {\n",
       "        text-align: right;\n",
       "    }\n",
       "</style>\n",
       "<table border=\"1\" class=\"dataframe\">\n",
       "  <thead>\n",
       "    <tr style=\"text-align: right;\">\n",
       "      <th></th>\n",
       "      <th>location</th>\n",
       "      <th>size</th>\n",
       "      <th>total_sqft</th>\n",
       "      <th>bath</th>\n",
       "      <th>price</th>\n",
       "      <th>bhk</th>\n",
       "      <th>price_per_sqft</th>\n",
       "    </tr>\n",
       "  </thead>\n",
       "  <tbody>\n",
       "    <tr>\n",
       "      <th>11447</th>\n",
       "      <td>Whitefield</td>\n",
       "      <td>4 Bedroom</td>\n",
       "      <td>60.0</td>\n",
       "      <td>4.0</td>\n",
       "      <td>218.0</td>\n",
       "      <td>4</td>\n",
       "      <td>363333</td>\n",
       "    </tr>\n",
       "    <tr>\n",
       "      <th>8300</th>\n",
       "      <td>Kengeri</td>\n",
       "      <td>1 BHK</td>\n",
       "      <td>1200.0</td>\n",
       "      <td>1.0</td>\n",
       "      <td>14.0</td>\n",
       "      <td>1</td>\n",
       "      <td>1166</td>\n",
       "    </tr>\n",
       "    <tr>\n",
       "      <th>1106</th>\n",
       "      <td>other</td>\n",
       "      <td>5 Bedroom</td>\n",
       "      <td>24.0</td>\n",
       "      <td>2.0</td>\n",
       "      <td>150.0</td>\n",
       "      <td>5</td>\n",
       "      <td>625000</td>\n",
       "    </tr>\n",
       "    <tr>\n",
       "      <th>1005</th>\n",
       "      <td>other</td>\n",
       "      <td>1 BHK</td>\n",
       "      <td>15.0</td>\n",
       "      <td>1.0</td>\n",
       "      <td>30.0</td>\n",
       "      <td>1</td>\n",
       "      <td>200000</td>\n",
       "    </tr>\n",
       "    <tr>\n",
       "      <th>5343</th>\n",
       "      <td>other</td>\n",
       "      <td>9 BHK</td>\n",
       "      <td>42000.0</td>\n",
       "      <td>8.0</td>\n",
       "      <td>175.0</td>\n",
       "      <td>9</td>\n",
       "      <td>416</td>\n",
       "    </tr>\n",
       "    <tr>\n",
       "      <th>11635</th>\n",
       "      <td>Begur</td>\n",
       "      <td>3 BHK</td>\n",
       "      <td>2400.0</td>\n",
       "      <td>3.0</td>\n",
       "      <td>12.0</td>\n",
       "      <td>3</td>\n",
       "      <td>500</td>\n",
       "    </tr>\n",
       "    <tr>\n",
       "      <th>7012</th>\n",
       "      <td>other</td>\n",
       "      <td>1 BHK</td>\n",
       "      <td>650.0</td>\n",
       "      <td>1.0</td>\n",
       "      <td>500.0</td>\n",
       "      <td>1</td>\n",
       "      <td>76923</td>\n",
       "    </tr>\n",
       "    <tr>\n",
       "      <th>7575</th>\n",
       "      <td>other</td>\n",
       "      <td>1 BHK</td>\n",
       "      <td>425.0</td>\n",
       "      <td>1.0</td>\n",
       "      <td>750.0</td>\n",
       "      <td>1</td>\n",
       "      <td>176470</td>\n",
       "    </tr>\n",
       "    <tr>\n",
       "      <th>5417</th>\n",
       "      <td>Ulsoor</td>\n",
       "      <td>4 BHK</td>\n",
       "      <td>36000.0</td>\n",
       "      <td>4.0</td>\n",
       "      <td>450.0</td>\n",
       "      <td>4</td>\n",
       "      <td>1250</td>\n",
       "    </tr>\n",
       "    <tr>\n",
       "      <th>5597</th>\n",
       "      <td>JP Nagar</td>\n",
       "      <td>2 BHK</td>\n",
       "      <td>1100.0</td>\n",
       "      <td>1.0</td>\n",
       "      <td>15.0</td>\n",
       "      <td>2</td>\n",
       "      <td>1363</td>\n",
       "    </tr>\n",
       "    <tr>\n",
       "      <th>1867</th>\n",
       "      <td>other</td>\n",
       "      <td>3 Bedroom</td>\n",
       "      <td>52272.0</td>\n",
       "      <td>2.0</td>\n",
       "      <td>140.0</td>\n",
       "      <td>3</td>\n",
       "      <td>267</td>\n",
       "    </tr>\n",
       "    <tr>\n",
       "      <th>12328</th>\n",
       "      <td>other</td>\n",
       "      <td>4 Bedroom</td>\n",
       "      <td>4350.0</td>\n",
       "      <td>8.0</td>\n",
       "      <td>2600.0</td>\n",
       "      <td>4</td>\n",
       "      <td>59770</td>\n",
       "    </tr>\n",
       "    <tr>\n",
       "      <th>345</th>\n",
       "      <td>other</td>\n",
       "      <td>3 Bedroom</td>\n",
       "      <td>11.0</td>\n",
       "      <td>3.0</td>\n",
       "      <td>74.0</td>\n",
       "      <td>3</td>\n",
       "      <td>672727</td>\n",
       "    </tr>\n",
       "    <tr>\n",
       "      <th>665</th>\n",
       "      <td>Yelahanka</td>\n",
       "      <td>3 BHK</td>\n",
       "      <td>35000.0</td>\n",
       "      <td>3.0</td>\n",
       "      <td>130.0</td>\n",
       "      <td>3</td>\n",
       "      <td>371</td>\n",
       "    </tr>\n",
       "    <tr>\n",
       "      <th>798</th>\n",
       "      <td>other</td>\n",
       "      <td>4 Bedroom</td>\n",
       "      <td>10961.0</td>\n",
       "      <td>4.0</td>\n",
       "      <td>80.0</td>\n",
       "      <td>4</td>\n",
       "      <td>729</td>\n",
       "    </tr>\n",
       "    <tr>\n",
       "      <th>7166</th>\n",
       "      <td>Yelahanka</td>\n",
       "      <td>1 Bedroom</td>\n",
       "      <td>26136.0</td>\n",
       "      <td>1.0</td>\n",
       "      <td>150.0</td>\n",
       "      <td>1</td>\n",
       "      <td>573</td>\n",
       "    </tr>\n",
       "    <tr>\n",
       "      <th>9144</th>\n",
       "      <td>other</td>\n",
       "      <td>4 Bedroom</td>\n",
       "      <td>10961.0</td>\n",
       "      <td>4.0</td>\n",
       "      <td>80.0</td>\n",
       "      <td>4</td>\n",
       "      <td>729</td>\n",
       "    </tr>\n",
       "    <tr>\n",
       "      <th>5911</th>\n",
       "      <td>Mysore Road</td>\n",
       "      <td>1 Bedroom</td>\n",
       "      <td>45.0</td>\n",
       "      <td>1.0</td>\n",
       "      <td>23.0</td>\n",
       "      <td>1</td>\n",
       "      <td>51111</td>\n",
       "    </tr>\n",
       "    <tr>\n",
       "      <th>4044</th>\n",
       "      <td>Sarjapur  Road</td>\n",
       "      <td>4 Bedroom</td>\n",
       "      <td>1.0</td>\n",
       "      <td>4.0</td>\n",
       "      <td>120.0</td>\n",
       "      <td>4</td>\n",
       "      <td>12000000</td>\n",
       "    </tr>\n",
       "    <tr>\n",
       "      <th>12355</th>\n",
       "      <td>other</td>\n",
       "      <td>4 BHK</td>\n",
       "      <td>16335.0</td>\n",
       "      <td>4.0</td>\n",
       "      <td>149.0</td>\n",
       "      <td>4</td>\n",
       "      <td>912</td>\n",
       "    </tr>\n",
       "    <tr>\n",
       "      <th>2392</th>\n",
       "      <td>other</td>\n",
       "      <td>4 Bedroom</td>\n",
       "      <td>2000.0</td>\n",
       "      <td>3.0</td>\n",
       "      <td>25.0</td>\n",
       "      <td>4</td>\n",
       "      <td>1250</td>\n",
       "    </tr>\n",
       "    <tr>\n",
       "      <th>6356</th>\n",
       "      <td>Bommenahalli</td>\n",
       "      <td>4 Bedroom</td>\n",
       "      <td>2940.0</td>\n",
       "      <td>3.0</td>\n",
       "      <td>2250.0</td>\n",
       "      <td>4</td>\n",
       "      <td>76530</td>\n",
       "    </tr>\n",
       "    <tr>\n",
       "      <th>9436</th>\n",
       "      <td>Indira Nagar</td>\n",
       "      <td>4 Bedroom</td>\n",
       "      <td>2400.0</td>\n",
       "      <td>5.0</td>\n",
       "      <td>1250.0</td>\n",
       "      <td>4</td>\n",
       "      <td>52083</td>\n",
       "    </tr>\n",
       "    <tr>\n",
       "      <th>7862</th>\n",
       "      <td>JP Nagar</td>\n",
       "      <td>3 BHK</td>\n",
       "      <td>20000.0</td>\n",
       "      <td>3.0</td>\n",
       "      <td>175.0</td>\n",
       "      <td>3</td>\n",
       "      <td>875</td>\n",
       "    </tr>\n",
       "    <tr>\n",
       "      <th>7799</th>\n",
       "      <td>other</td>\n",
       "      <td>4 BHK</td>\n",
       "      <td>2000.0</td>\n",
       "      <td>3.0</td>\n",
       "      <td>1063.0</td>\n",
       "      <td>4</td>\n",
       "      <td>53150</td>\n",
       "    </tr>\n",
       "    <tr>\n",
       "      <th>8307</th>\n",
       "      <td>Bannerghatta Road</td>\n",
       "      <td>5 BHK</td>\n",
       "      <td>2500.0</td>\n",
       "      <td>4.0</td>\n",
       "      <td>1400.0</td>\n",
       "      <td>5</td>\n",
       "      <td>56000</td>\n",
       "    </tr>\n",
       "    <tr>\n",
       "      <th>3934</th>\n",
       "      <td>other</td>\n",
       "      <td>1 BHK</td>\n",
       "      <td>1500.0</td>\n",
       "      <td>1.0</td>\n",
       "      <td>19.5</td>\n",
       "      <td>1</td>\n",
       "      <td>1300</td>\n",
       "    </tr>\n",
       "    <tr>\n",
       "      <th>4924</th>\n",
       "      <td>other</td>\n",
       "      <td>7 BHK</td>\n",
       "      <td>5.0</td>\n",
       "      <td>7.0</td>\n",
       "      <td>115.0</td>\n",
       "      <td>7</td>\n",
       "      <td>2300000</td>\n",
       "    </tr>\n",
       "  </tbody>\n",
       "</table>\n",
       "</div>"
      ],
      "text/plain": [
       "                location       size  total_sqft  bath   price  bhk  \\\n",
       "11447         Whitefield  4 Bedroom        60.0   4.0   218.0    4   \n",
       "8300             Kengeri      1 BHK      1200.0   1.0    14.0    1   \n",
       "1106               other  5 Bedroom        24.0   2.0   150.0    5   \n",
       "1005               other      1 BHK        15.0   1.0    30.0    1   \n",
       "5343               other      9 BHK     42000.0   8.0   175.0    9   \n",
       "11635              Begur      3 BHK      2400.0   3.0    12.0    3   \n",
       "7012               other      1 BHK       650.0   1.0   500.0    1   \n",
       "7575               other      1 BHK       425.0   1.0   750.0    1   \n",
       "5417              Ulsoor      4 BHK     36000.0   4.0   450.0    4   \n",
       "5597            JP Nagar      2 BHK      1100.0   1.0    15.0    2   \n",
       "1867               other  3 Bedroom     52272.0   2.0   140.0    3   \n",
       "12328              other  4 Bedroom      4350.0   8.0  2600.0    4   \n",
       "345                other  3 Bedroom        11.0   3.0    74.0    3   \n",
       "665            Yelahanka      3 BHK     35000.0   3.0   130.0    3   \n",
       "798                other  4 Bedroom     10961.0   4.0    80.0    4   \n",
       "7166           Yelahanka  1 Bedroom     26136.0   1.0   150.0    1   \n",
       "9144               other  4 Bedroom     10961.0   4.0    80.0    4   \n",
       "5911         Mysore Road  1 Bedroom        45.0   1.0    23.0    1   \n",
       "4044      Sarjapur  Road  4 Bedroom         1.0   4.0   120.0    4   \n",
       "12355              other      4 BHK     16335.0   4.0   149.0    4   \n",
       "2392               other  4 Bedroom      2000.0   3.0    25.0    4   \n",
       "6356        Bommenahalli  4 Bedroom      2940.0   3.0  2250.0    4   \n",
       "9436        Indira Nagar  4 Bedroom      2400.0   5.0  1250.0    4   \n",
       "7862            JP Nagar      3 BHK     20000.0   3.0   175.0    3   \n",
       "7799               other      4 BHK      2000.0   3.0  1063.0    4   \n",
       "8307   Bannerghatta Road      5 BHK      2500.0   4.0  1400.0    5   \n",
       "3934               other      1 BHK      1500.0   1.0    19.5    1   \n",
       "4924               other      7 BHK         5.0   7.0   115.0    7   \n",
       "\n",
       "       price_per_sqft  \n",
       "11447          363333  \n",
       "8300             1166  \n",
       "1106           625000  \n",
       "1005           200000  \n",
       "5343              416  \n",
       "11635             500  \n",
       "7012            76923  \n",
       "7575           176470  \n",
       "5417             1250  \n",
       "5597             1363  \n",
       "1867              267  \n",
       "12328           59770  \n",
       "345            672727  \n",
       "665               371  \n",
       "798               729  \n",
       "7166              573  \n",
       "9144              729  \n",
       "5911            51111  \n",
       "4044         12000000  \n",
       "12355             912  \n",
       "2392             1250  \n",
       "6356            76530  \n",
       "9436            52083  \n",
       "7862              875  \n",
       "7799            53150  \n",
       "8307            56000  \n",
       "3934             1300  \n",
       "4924          2300000  "
      ]
     },
     "execution_count": 20,
     "metadata": {},
     "output_type": "execute_result"
    }
   ],
   "source": [
    "outliers = df[ (df.price_per_sqft>upper_limit) | (df.price_per_sqft<lower_limit) ]\n",
    "outliers.sample(28)"
   ]
  },
  {
   "cell_type": "markdown",
   "id": "c010ffab-068a-4d7a-b69d-8975c6424460",
   "metadata": {},
   "source": [
    "Above shows properties that has price_per_sqft value such as 500 rs which is very very low for the city of banglore. You would be very lucky if you can find such as property :) Also we have properties that has price per sqft value such as 12000000 which is way too high. It seems almost impossible and even if it is legitimate it can help data analysis process if we remove such a data point"
   ]
  },
  {
   "cell_type": "code",
   "execution_count": 16,
   "id": "f157ce7b-1ec4-492b-a86c-973864299a52",
   "metadata": {},
   "outputs": [
    {
     "data": {
      "text/plain": [
       "(13172, 7)"
      ]
     },
     "execution_count": 16,
     "metadata": {},
     "output_type": "execute_result"
    }
   ],
   "source": [
    "df2 = df[ (df.price_per_sqft<upper_limit) & (df.price_per_sqft>lower_limit) ]\n",
    "df2.shape"
   ]
  },
  {
   "cell_type": "code",
   "execution_count": 17,
   "id": "2207cd9c-b2a4-4a8d-8a18-250f5bdb4bff",
   "metadata": {},
   "outputs": [
    {
     "data": {
      "text/plain": [
       "(13200, 7)"
      ]
     },
     "execution_count": 17,
     "metadata": {},
     "output_type": "execute_result"
    }
   ],
   "source": [
    "df.shape"
   ]
  },
  {
   "cell_type": "code",
   "execution_count": 21,
   "id": "c1316224-9132-4570-9063-b3373f4a841a",
   "metadata": {},
   "outputs": [
    {
     "data": {
      "text/plain": [
       "28"
      ]
     },
     "execution_count": 21,
     "metadata": {},
     "output_type": "execute_result"
    }
   ],
   "source": [
    "df.shape[0] - df2.shape[0]"
   ]
  },
  {
   "cell_type": "markdown",
   "id": "d7a179d0-7840-4c7a-8e99-4105c8d350c7",
   "metadata": {},
   "source": [
    "**We removed total 28 outliers**"
   ]
  },
  {
   "cell_type": "markdown",
   "id": "f12595d0-6ec7-4d54-8ef9-1de978637bb7",
   "metadata": {},
   "source": [
    "# (2) Now remove outliers using 4 standard deviation"
   ]
  },
  {
   "cell_type": "code",
   "execution_count": 22,
   "id": "23215fbd-5745-49d1-bce2-b45369d69e66",
   "metadata": {},
   "outputs": [
    {
     "data": {
      "text/plain": [
       "(np.float64(23227.73653589432), np.float64(-9900.429065502582))"
      ]
     },
     "execution_count": 22,
     "metadata": {},
     "output_type": "execute_result"
    }
   ],
   "source": [
    "max_limit = df2.price_per_sqft.mean() + 4*df2.price_per_sqft.std()\n",
    "min_limit = df2.price_per_sqft.mean() - 4*df2.price_per_sqft.std()\n",
    "max_limit , min_limit"
   ]
  },
  {
   "cell_type": "code",
   "execution_count": 23,
   "id": "cf62280b-94f7-4fff-8c1c-a6c725b17b10",
   "metadata": {},
   "outputs": [
    {
     "data": {
      "text/html": [
       "<div>\n",
       "<style scoped>\n",
       "    .dataframe tbody tr th:only-of-type {\n",
       "        vertical-align: middle;\n",
       "    }\n",
       "\n",
       "    .dataframe tbody tr th {\n",
       "        vertical-align: top;\n",
       "    }\n",
       "\n",
       "    .dataframe thead th {\n",
       "        text-align: right;\n",
       "    }\n",
       "</style>\n",
       "<table border=\"1\" class=\"dataframe\">\n",
       "  <thead>\n",
       "    <tr style=\"text-align: right;\">\n",
       "      <th></th>\n",
       "      <th>location</th>\n",
       "      <th>size</th>\n",
       "      <th>total_sqft</th>\n",
       "      <th>bath</th>\n",
       "      <th>price</th>\n",
       "      <th>bhk</th>\n",
       "      <th>price_per_sqft</th>\n",
       "    </tr>\n",
       "  </thead>\n",
       "  <tbody>\n",
       "    <tr>\n",
       "      <th>733</th>\n",
       "      <td>Cunningham Road</td>\n",
       "      <td>4 BHK</td>\n",
       "      <td>5270.0</td>\n",
       "      <td>4.0</td>\n",
       "      <td>1250.0</td>\n",
       "      <td>4</td>\n",
       "      <td>23719</td>\n",
       "    </tr>\n",
       "    <tr>\n",
       "      <th>6134</th>\n",
       "      <td>Basavangudi</td>\n",
       "      <td>6 Bedroom</td>\n",
       "      <td>1754.0</td>\n",
       "      <td>6.0</td>\n",
       "      <td>650.0</td>\n",
       "      <td>6</td>\n",
       "      <td>37058</td>\n",
       "    </tr>\n",
       "    <tr>\n",
       "      <th>45</th>\n",
       "      <td>HSR Layout</td>\n",
       "      <td>8 Bedroom</td>\n",
       "      <td>600.0</td>\n",
       "      <td>9.0</td>\n",
       "      <td>200.0</td>\n",
       "      <td>8</td>\n",
       "      <td>33333</td>\n",
       "    </tr>\n",
       "    <tr>\n",
       "      <th>2825</th>\n",
       "      <td>HBR Layout</td>\n",
       "      <td>9 Bedroom</td>\n",
       "      <td>1200.0</td>\n",
       "      <td>6.0</td>\n",
       "      <td>280.0</td>\n",
       "      <td>9</td>\n",
       "      <td>23333</td>\n",
       "    </tr>\n",
       "    <tr>\n",
       "      <th>5747</th>\n",
       "      <td>other</td>\n",
       "      <td>5 Bedroom</td>\n",
       "      <td>1200.0</td>\n",
       "      <td>5.0</td>\n",
       "      <td>300.0</td>\n",
       "      <td>5</td>\n",
       "      <td>25000</td>\n",
       "    </tr>\n",
       "    <tr>\n",
       "      <th>8082</th>\n",
       "      <td>Nagarbhavi</td>\n",
       "      <td>4 Bedroom</td>\n",
       "      <td>1200.0</td>\n",
       "      <td>3.0</td>\n",
       "      <td>340.0</td>\n",
       "      <td>4</td>\n",
       "      <td>28333</td>\n",
       "    </tr>\n",
       "    <tr>\n",
       "      <th>3752</th>\n",
       "      <td>other</td>\n",
       "      <td>4 Bedroom</td>\n",
       "      <td>1200.0</td>\n",
       "      <td>4.0</td>\n",
       "      <td>300.0</td>\n",
       "      <td>4</td>\n",
       "      <td>25000</td>\n",
       "    </tr>\n",
       "    <tr>\n",
       "      <th>1721</th>\n",
       "      <td>other</td>\n",
       "      <td>5 Bedroom</td>\n",
       "      <td>2400.0</td>\n",
       "      <td>5.0</td>\n",
       "      <td>625.0</td>\n",
       "      <td>5</td>\n",
       "      <td>26041</td>\n",
       "    </tr>\n",
       "    <tr>\n",
       "      <th>4357</th>\n",
       "      <td>other</td>\n",
       "      <td>4 Bedroom</td>\n",
       "      <td>3250.0</td>\n",
       "      <td>5.0</td>\n",
       "      <td>850.0</td>\n",
       "      <td>4</td>\n",
       "      <td>26153</td>\n",
       "    </tr>\n",
       "    <tr>\n",
       "      <th>5654</th>\n",
       "      <td>other</td>\n",
       "      <td>4 Bedroom</td>\n",
       "      <td>4920.0</td>\n",
       "      <td>5.0</td>\n",
       "      <td>1150.0</td>\n",
       "      <td>4</td>\n",
       "      <td>23373</td>\n",
       "    </tr>\n",
       "  </tbody>\n",
       "</table>\n",
       "</div>"
      ],
      "text/plain": [
       "             location       size  total_sqft  bath   price  bhk  \\\n",
       "733   Cunningham Road      4 BHK      5270.0   4.0  1250.0    4   \n",
       "6134      Basavangudi  6 Bedroom      1754.0   6.0   650.0    6   \n",
       "45         HSR Layout  8 Bedroom       600.0   9.0   200.0    8   \n",
       "2825       HBR Layout  9 Bedroom      1200.0   6.0   280.0    9   \n",
       "5747            other  5 Bedroom      1200.0   5.0   300.0    5   \n",
       "8082       Nagarbhavi  4 Bedroom      1200.0   3.0   340.0    4   \n",
       "3752            other  4 Bedroom      1200.0   4.0   300.0    4   \n",
       "1721            other  5 Bedroom      2400.0   5.0   625.0    5   \n",
       "4357            other  4 Bedroom      3250.0   5.0   850.0    4   \n",
       "5654            other  4 Bedroom      4920.0   5.0  1150.0    4   \n",
       "\n",
       "      price_per_sqft  \n",
       "733            23719  \n",
       "6134           37058  \n",
       "45             33333  \n",
       "2825           23333  \n",
       "5747           25000  \n",
       "8082           28333  \n",
       "3752           25000  \n",
       "1721           26041  \n",
       "4357           26153  \n",
       "5654           23373  "
      ]
     },
     "execution_count": 23,
     "metadata": {},
     "output_type": "execute_result"
    }
   ],
   "source": [
    "df2[(df2.price_per_sqft>max_limit)| (df2.price_per_sqft<min_limit)].sample(10)"
   ]
  },
  {
   "cell_type": "code",
   "execution_count": 24,
   "id": "41213831-cd04-42df-b663-87dd2cb71f30",
   "metadata": {},
   "outputs": [
    {
     "data": {
      "text/plain": [
       "(13047, 7)"
      ]
     },
     "execution_count": 24,
     "metadata": {},
     "output_type": "execute_result"
    }
   ],
   "source": [
    "df3 = df2[(df2.price_per_sqft>min_limit) & (df2.price_per_sqft<max_limit)]\n",
    "df3.shape"
   ]
  },
  {
   "cell_type": "code",
   "execution_count": 25,
   "id": "7c1a83c7-9370-4706-b33b-9ad9465afc7f",
   "metadata": {},
   "outputs": [
    {
     "data": {
      "text/plain": [
       "125"
      ]
     },
     "execution_count": 25,
     "metadata": {},
     "output_type": "execute_result"
    }
   ],
   "source": [
    "df2.shape[0]-df3.shape[0]"
   ]
  },
  {
   "cell_type": "markdown",
   "id": "67812080-c5b7-42d3-847f-a31496010e48",
   "metadata": {},
   "source": [
    "In this step we removed total 125 outliers"
   ]
  },
  {
   "cell_type": "code",
   "execution_count": 26,
   "id": "5a858b76-f2a1-49e7-9884-58ee803496e1",
   "metadata": {},
   "outputs": [
    {
     "data": {
      "image/png": "[encoded data removed]",
      "text/plain": [
       "<Figure size 640x480 with 1 Axes>"
      ]
     },
     "metadata": {},
     "output_type": "display_data"
    }
   ],
   "source": [
    "plt.hist(df3.price_per_sqft, bins=20, rwidth=0.8)\n",
    "plt.xlabel('Price per square ft')\n",
    "plt.ylabel('Count')\n",
    "plt.show()"
   ]
  },
  {
   "cell_type": "code",
   "execution_count": 28,
   "id": "7c8b5ac1-f43a-434c-b954-6bed2e53db4f",
   "metadata": {},
   "outputs": [
    {
     "data": {
      "text/plain": [
       "[<matplotlib.lines.Line2D at 0x183bfbf9700>]"
      ]
     },
     "execution_count": 28,
     "metadata": {},
     "output_type": "execute_result"
    },
    {
     "data": {
      "image/png": "[encoded data removed]",
      "text/plain": [
       "<Figure size 640x480 with 1 Axes>"
      ]
     },
     "metadata": {},
     "output_type": "display_data"
    }
   ],
   "source": [
    "from scipy.stats import norm\n",
    "import numpy as np\n",
    "\n",
    "plt.hist(df3.price_per_sqft, bins=20, rwidth=0.8, density=True)\n",
    "plt.xlabel('Height inches')\n",
    "plt.ylabel('Count')\n",
    "\n",
    "rng = np.arange(-5000, df3.price_per_sqft.max(), 100)\n",
    "\n",
    "plt.plot(rng, norm.pdf(rng, df3.price_per_sqft.mean(), df3.price_per_sqft.std()))"
   ]
  },
  {
   "cell_type": "markdown",
   "id": "02971bbc-1698-4052-800d-ce6cd33f8631",
   "metadata": {},
   "source": [
    "# (3) Now remove outliers using z score. Use z score of 4 as your thresold"
   ]
  },
  {
   "cell_type": "code",
   "execution_count": 29,
   "id": "1f9d97ec-42e1-45db-928e-7873c08fcfba",
   "metadata": {},
   "outputs": [
    {
     "name": "stderr",
     "output_type": "stream",
     "text": [
      "C:\\Users\\hassa\\AppData\\Local\\Temp\\ipykernel_14520\\722868599.py:1: SettingWithCopyWarning: \n",
      "A value is trying to be set on a copy of a slice from a DataFrame.\n",
      "Try using .loc[row_indexer,col_indexer] = value instead\n",
      "\n",
      "See the caveats in the documentation: https://pandas.pydata.org/pandas-docs/stable/user_guide/indexing.html#returning-a-view-versus-a-copy\n",
      "  df2['zscore'] = (df2.price_per_sqft-df2.price_per_sqft.mean())/df2.price_per_sqft.std()\n"
     ]
    },
    {
     "data": {
      "text/html": [
       "<div>\n",
       "<style scoped>\n",
       "    .dataframe tbody tr th:only-of-type {\n",
       "        vertical-align: middle;\n",
       "    }\n",
       "\n",
       "    .dataframe tbody tr th {\n",
       "        vertical-align: top;\n",
       "    }\n",
       "\n",
       "    .dataframe thead th {\n",
       "        text-align: right;\n",
       "    }\n",
       "</style>\n",
       "<table border=\"1\" class=\"dataframe\">\n",
       "  <thead>\n",
       "    <tr style=\"text-align: right;\">\n",
       "      <th></th>\n",
       "      <th>location</th>\n",
       "      <th>size</th>\n",
       "      <th>total_sqft</th>\n",
       "      <th>bath</th>\n",
       "      <th>price</th>\n",
       "      <th>bhk</th>\n",
       "      <th>price_per_sqft</th>\n",
       "      <th>zscore</th>\n",
       "    </tr>\n",
       "  </thead>\n",
       "  <tbody>\n",
       "    <tr>\n",
       "      <th>5488</th>\n",
       "      <td>Sahakara Nagar</td>\n",
       "      <td>4 BHK</td>\n",
       "      <td>2500.0</td>\n",
       "      <td>4.0</td>\n",
       "      <td>200.0</td>\n",
       "      <td>4</td>\n",
       "      <td>8000</td>\n",
       "      <td>0.322709</td>\n",
       "    </tr>\n",
       "    <tr>\n",
       "      <th>4866</th>\n",
       "      <td>Kaggalipura</td>\n",
       "      <td>2 BHK</td>\n",
       "      <td>950.0</td>\n",
       "      <td>2.0</td>\n",
       "      <td>47.0</td>\n",
       "      <td>2</td>\n",
       "      <td>4947</td>\n",
       "      <td>-0.414548</td>\n",
       "    </tr>\n",
       "    <tr>\n",
       "      <th>6039</th>\n",
       "      <td>other</td>\n",
       "      <td>3 BHK</td>\n",
       "      <td>1455.0</td>\n",
       "      <td>2.0</td>\n",
       "      <td>55.0</td>\n",
       "      <td>3</td>\n",
       "      <td>3780</td>\n",
       "      <td>-0.696363</td>\n",
       "    </tr>\n",
       "    <tr>\n",
       "      <th>285</th>\n",
       "      <td>other</td>\n",
       "      <td>2 BHK</td>\n",
       "      <td>1084.0</td>\n",
       "      <td>2.0</td>\n",
       "      <td>50.0</td>\n",
       "      <td>2</td>\n",
       "      <td>4612</td>\n",
       "      <td>-0.495446</td>\n",
       "    </tr>\n",
       "    <tr>\n",
       "      <th>192</th>\n",
       "      <td>Marathahalli</td>\n",
       "      <td>2 BHK</td>\n",
       "      <td>1200.0</td>\n",
       "      <td>2.0</td>\n",
       "      <td>60.0</td>\n",
       "      <td>2</td>\n",
       "      <td>5000</td>\n",
       "      <td>-0.401750</td>\n",
       "    </tr>\n",
       "    <tr>\n",
       "      <th>158</th>\n",
       "      <td>other</td>\n",
       "      <td>3 BHK</td>\n",
       "      <td>1350.0</td>\n",
       "      <td>2.0</td>\n",
       "      <td>48.0</td>\n",
       "      <td>3</td>\n",
       "      <td>3555</td>\n",
       "      <td>-0.750697</td>\n",
       "    </tr>\n",
       "    <tr>\n",
       "      <th>8293</th>\n",
       "      <td>Amruthahalli</td>\n",
       "      <td>3 BHK</td>\n",
       "      <td>1450.0</td>\n",
       "      <td>2.0</td>\n",
       "      <td>85.0</td>\n",
       "      <td>3</td>\n",
       "      <td>5862</td>\n",
       "      <td>-0.193588</td>\n",
       "    </tr>\n",
       "    <tr>\n",
       "      <th>3505</th>\n",
       "      <td>Narayanapura</td>\n",
       "      <td>3 BHK</td>\n",
       "      <td>1485.0</td>\n",
       "      <td>3.0</td>\n",
       "      <td>85.0</td>\n",
       "      <td>3</td>\n",
       "      <td>5723</td>\n",
       "      <td>-0.227155</td>\n",
       "    </tr>\n",
       "    <tr>\n",
       "      <th>2933</th>\n",
       "      <td>Yelahanka New Town</td>\n",
       "      <td>3 BHK</td>\n",
       "      <td>1610.0</td>\n",
       "      <td>3.0</td>\n",
       "      <td>92.0</td>\n",
       "      <td>3</td>\n",
       "      <td>5714</td>\n",
       "      <td>-0.229328</td>\n",
       "    </tr>\n",
       "    <tr>\n",
       "      <th>8852</th>\n",
       "      <td>Whitefield</td>\n",
       "      <td>4 Bedroom</td>\n",
       "      <td>1920.0</td>\n",
       "      <td>5.0</td>\n",
       "      <td>250.0</td>\n",
       "      <td>4</td>\n",
       "      <td>13020</td>\n",
       "      <td>1.534971</td>\n",
       "    </tr>\n",
       "  </tbody>\n",
       "</table>\n",
       "</div>"
      ],
      "text/plain": [
       "                location       size  total_sqft  bath  price  bhk  \\\n",
       "5488      Sahakara Nagar      4 BHK      2500.0   4.0  200.0    4   \n",
       "4866         Kaggalipura      2 BHK       950.0   2.0   47.0    2   \n",
       "6039               other      3 BHK      1455.0   2.0   55.0    3   \n",
       "285                other      2 BHK      1084.0   2.0   50.0    2   \n",
       "192         Marathahalli      2 BHK      1200.0   2.0   60.0    2   \n",
       "158                other      3 BHK      1350.0   2.0   48.0    3   \n",
       "8293        Amruthahalli      3 BHK      1450.0   2.0   85.0    3   \n",
       "3505        Narayanapura      3 BHK      1485.0   3.0   85.0    3   \n",
       "2933  Yelahanka New Town      3 BHK      1610.0   3.0   92.0    3   \n",
       "8852          Whitefield  4 Bedroom      1920.0   5.0  250.0    4   \n",
       "\n",
       "      price_per_sqft    zscore  \n",
       "5488            8000  0.322709  \n",
       "4866            4947 -0.414548  \n",
       "6039            3780 -0.696363  \n",
       "285             4612 -0.495446  \n",
       "192             5000 -0.401750  \n",
       "158             3555 -0.750697  \n",
       "8293            5862 -0.193588  \n",
       "3505            5723 -0.227155  \n",
       "2933            5714 -0.229328  \n",
       "8852           13020  1.534971  "
      ]
     },
     "execution_count": 29,
     "metadata": {},
     "output_type": "execute_result"
    }
   ],
   "source": [
    "df2['zscore'] = (df2.price_per_sqft-df2.price_per_sqft.mean())/df2.price_per_sqft.std()\n",
    "df2.sample(10)"
   ]
  },
  {
   "cell_type": "code",
   "execution_count": 31,
   "id": "2559a6df-5711-40dc-9012-5b498f95b461",
   "metadata": {},
   "outputs": [
    {
     "data": {
      "text/plain": [
       "(125, 8)"
      ]
     },
     "execution_count": 31,
     "metadata": {},
     "output_type": "execute_result"
    }
   ],
   "source": [
    "outliers_z = df2[(df2.zscore < -4) | (df2.zscore > 4) ]\n",
    "outliers_z.shape"
   ]
  },
  {
   "cell_type": "code",
   "execution_count": 32,
   "id": "452aa837-77f1-4bea-ba43-0864aa22ed71",
   "metadata": {},
   "outputs": [
    {
     "data": {
      "text/html": [
       "<div>\n",
       "<style scoped>\n",
       "    .dataframe tbody tr th:only-of-type {\n",
       "        vertical-align: middle;\n",
       "    }\n",
       "\n",
       "    .dataframe tbody tr th {\n",
       "        vertical-align: top;\n",
       "    }\n",
       "\n",
       "    .dataframe thead th {\n",
       "        text-align: right;\n",
       "    }\n",
       "</style>\n",
       "<table border=\"1\" class=\"dataframe\">\n",
       "  <thead>\n",
       "    <tr style=\"text-align: right;\">\n",
       "      <th></th>\n",
       "      <th>location</th>\n",
       "      <th>size</th>\n",
       "      <th>total_sqft</th>\n",
       "      <th>bath</th>\n",
       "      <th>price</th>\n",
       "      <th>bhk</th>\n",
       "      <th>price_per_sqft</th>\n",
       "      <th>zscore</th>\n",
       "    </tr>\n",
       "  </thead>\n",
       "  <tbody>\n",
       "    <tr>\n",
       "      <th>190</th>\n",
       "      <td>Bellandur</td>\n",
       "      <td>4 Bedroom</td>\n",
       "      <td>1200.0</td>\n",
       "      <td>5.0</td>\n",
       "      <td>325.0</td>\n",
       "      <td>4</td>\n",
       "      <td>27083</td>\n",
       "      <td>4.930994</td>\n",
       "    </tr>\n",
       "    <tr>\n",
       "      <th>6959</th>\n",
       "      <td>Raja Rajeshwari Nagar</td>\n",
       "      <td>4 Bedroom</td>\n",
       "      <td>1350.0</td>\n",
       "      <td>4.0</td>\n",
       "      <td>340.0</td>\n",
       "      <td>4</td>\n",
       "      <td>25185</td>\n",
       "      <td>4.472652</td>\n",
       "    </tr>\n",
       "    <tr>\n",
       "      <th>733</th>\n",
       "      <td>Cunningham Road</td>\n",
       "      <td>4 BHK</td>\n",
       "      <td>5270.0</td>\n",
       "      <td>4.0</td>\n",
       "      <td>1250.0</td>\n",
       "      <td>4</td>\n",
       "      <td>23719</td>\n",
       "      <td>4.118633</td>\n",
       "    </tr>\n",
       "    <tr>\n",
       "      <th>12051</th>\n",
       "      <td>Malleshwaram</td>\n",
       "      <td>5 Bedroom</td>\n",
       "      <td>3000.0</td>\n",
       "      <td>4.0</td>\n",
       "      <td>900.0</td>\n",
       "      <td>5</td>\n",
       "      <td>30000</td>\n",
       "      <td>5.635409</td>\n",
       "    </tr>\n",
       "    <tr>\n",
       "      <th>760</th>\n",
       "      <td>other</td>\n",
       "      <td>9 Bedroom</td>\n",
       "      <td>600.0</td>\n",
       "      <td>9.0</td>\n",
       "      <td>190.0</td>\n",
       "      <td>9</td>\n",
       "      <td>31666</td>\n",
       "      <td>6.037725</td>\n",
       "    </tr>\n",
       "  </tbody>\n",
       "</table>\n",
       "</div>"
      ],
      "text/plain": [
       "                    location       size  total_sqft  bath   price  bhk  \\\n",
       "190                Bellandur  4 Bedroom      1200.0   5.0   325.0    4   \n",
       "6959   Raja Rajeshwari Nagar  4 Bedroom      1350.0   4.0   340.0    4   \n",
       "733          Cunningham Road      4 BHK      5270.0   4.0  1250.0    4   \n",
       "12051           Malleshwaram  5 Bedroom      3000.0   4.0   900.0    5   \n",
       "760                    other  9 Bedroom       600.0   9.0   190.0    9   \n",
       "\n",
       "       price_per_sqft    zscore  \n",
       "190             27083  4.930994  \n",
       "6959            25185  4.472652  \n",
       "733             23719  4.118633  \n",
       "12051           30000  5.635409  \n",
       "760             31666  6.037725  "
      ]
     },
     "execution_count": 32,
     "metadata": {},
     "output_type": "execute_result"
    }
   ],
   "source": [
    "outliers_z.sample(5)"
   ]
  },
  {
   "cell_type": "code",
   "execution_count": 33,
   "id": "63a3884b-160e-4845-84b9-0883f493646d",
   "metadata": {},
   "outputs": [
    {
     "data": {
      "text/plain": [
       "(13047, 8)"
      ]
     },
     "execution_count": 33,
     "metadata": {},
     "output_type": "execute_result"
    }
   ],
   "source": [
    "df4=df2[ (df2.zscore>-4 ) & (df2.zscore < 4 ) ]\n",
    "df4.shape"
   ]
  },
  {
   "cell_type": "code",
   "execution_count": 34,
   "id": "c1bab74e-15ad-498f-a9ad-077813545476",
   "metadata": {},
   "outputs": [
    {
     "data": {
      "text/plain": [
       "125"
      ]
     },
     "execution_count": 34,
     "metadata": {},
     "output_type": "execute_result"
    }
   ],
   "source": [
    "df2.shape[0] - df4.shape[0]"
   ]
  },
  {
   "cell_type": "markdown",
   "id": "c790208b-0fe5-432c-b7bb-cb7604c71876",
   "metadata": {},
   "source": [
    "In this step also we removed 125 outliers. The result would be exactly same as 4 standard deviation"
   ]
  },
  {
   "cell_type": "code",
   "execution_count": null,
   "id": "5de0402c-5c9f-478e-af35-3dd154cc9250",
   "metadata": {},
   "outputs": [],
   "source": []
  }
 ],
 "metadata": {
  "kernelspec": {
   "display_name": "Python 3 (ipykernel)",
   "language": "python",
   "name": "python3"
  },
  "language_info": {
   "codemirror_mode": {
    "name": "ipython",
    "version": 3
   },
   "file_extension": ".py",
   "mimetype": "text/x-python",
   "name": "python",
   "nbconvert_exporter": "python",
   "pygments_lexer": "ipython3",
   "version": "3.12.6"
  }
 },
 "nbformat": 4,
 "nbformat_minor": 5
}
