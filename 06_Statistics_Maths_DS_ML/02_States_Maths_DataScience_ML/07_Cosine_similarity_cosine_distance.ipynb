{
 "cells": [
  {
   "cell_type": "markdown",
   "id": "f3e82dce-91e5-4965-bd63-334317b786f7",
   "metadata": {},
   "source": [
    "# Cosine similarity\n",
    "\n",
    "How it used in data science?\n",
    "\n",
    "Lets say you are a data scientist and you are working for some financial company and where on the google drive you have a bunch of financial documents.\n",
    "\n",
    "Now you dont know what is the company associated with each of these documents but when you open it and read it you can kind of figure out that this is probably about apple why because iphone is mentioned so many times.\n",
    "\n",
    "So when you are reading about apple financial reports they might mention galaxy as well because that's thier main competitor but here at 07_fig the ratio of iphone to galaxy is 3:1 i-e iphone is mentioned 3 times while galaxy is mentioned 1 times. So you know overall you see Iphone occurance much more than Galaxy.\n",
    "\n",
    "If you are reading about samsung document then obviously this doc will have mention of galaxy than apple.(07_fig1)\n",
    "\n",
    "Now lets say new doc comes in and you dont know what is the company associated with it. Here again you count iphone and galaxy and you find that iphone is 6 and galaxy is 2 times mentioned in doc.(07_fig2). Looking at the situation as a data scientist, you can figure out a simple formula that whenever a ratio of iphone to galaxy is 3:1 it should be an apple doc. so now you can auto annotate apple as a company, this is a common problem in financial institute where you have a document and you want to tag some metadata to it and we can use some automation,some rules,some coding to auto annotate, you know we can manually annotate it too but using this particular formula you can automate the annotation process. as show in (07_fig3).\n",
    "\n",
    "Unfortunately things in real life are quite different, in our doc. You know there might be mention of iPad, Google pixel etc so now how do you come up with your formula, maybe you say iphone to galaxy ratio has to be 3:1 and iphone to pixel ratio has to be 3:1 and iPad to pixel ratio has to be 2:1 well it is pretty confusing as shown in (07_fig4). Well to remove such confusions, the Vector mathematics comes at rescue, this thing can be represented as a vector and using vector mathematics we can figure out documents similarity.(07_fig5).\n",
    "\n",
    "\n",
    "Lets go back to the problem earlier we discuss in 07_fig3, so how do we represent that as a vector so it has shown in figure you can refer to it by name 07_fig6. In that figure we have on x-axis iphone word count and on y-axis we have galaxy word count. The line in figure represent the vector 3:1 ratio, this vector has magnitude and direction both and when we post the 2nd problem 6:2 the angle between both the ratio is zero(0), so the angle determines the document similarity, if the angle is zero means the documents are very similar we might have another green document with 5:1, here the angle is little changed but it is still not that much high so we can say that these docs are still similar (07_fig7).\n",
    "\n",
    "But when we have an apple and galaxy docs where ratio between apple to samsung is 3:1 and  galaxy to iPhone, so here the angle is much bigger, so when we have a bigger angle we can then say that these docs are not similar (07_fig8).\n",
    "\n",
    "Let's say the angle between 2 apples documents is 17 degree, we can use this angle to define the document similarity, but 17 degree is also quite confusing like it is not a good way to represent docs similarity (07_fig9), what if we represent the similarity between some numbers lets say 0-1 when we say docs similarity is 0.9 that means they are 90% similar and when it is 1 they are higly similar but if it is 0 then they are very different. So how can we transform that degree angle into range because range seems like a good convention (07_fig10).\n",
    "\n",
    "For this we just take the cosine, so cosine of 17 degree is 0.95. so documents similarity here is 0.95 (07_fig11).\n",
    "\n",
    "**Cosine similarity** is nothing but a **cosine** of an **angle** between the **2 vectors**.\n",
    "$$Cosine-Similarity = Cos(0) = Cos 0 = 1 $$\n",
    "\n",
    "The great part about math is we looked that at very simple scenario of 2-D vector in real life, we will have 100 Dimensions and these dimensions are basically the features, so our docs might have 100 features and we can present those as a vector and still do the math, see that is the beauty of math, we cannot visualize 100-Dimensions but the math will work to continue.\n",
    "\n",
    "The academic formula of Cosine similarity is:\n",
    "$$Cosine-Similarity = \\frac{A.B}{||A||.||B||} $$\n",
    "\n",
    "between A and B these are the 2 vectors and the cosine similarity between these 2 vectors is dot product which is A dot B divide by magnitude of A, magnitude of B.\n",
    "\n",
    "A dot B is usually B cos thetha so:\n",
    "$$Cosine-Similarity = \\frac{||A||.||B|| * Cos(0)}{||A||.||B||} $$\n",
    "\n",
    "Cosine similarity is nothing cos theta.\n",
    "\n",
    "Now if we have arrows pointing in the same direction then the cosine similarity is 1 whichs means thos docs are quite similar, if they are 90 means the similarity is zero, they are very different and if it is 180 then similarity is -1 which means they represent opposite concept (07_fig12).\n",
    "\n",
    "# Cosine Distance\n",
    "\n",
    "Now cosine Distance is a very simple concept, it is used to represent the same thing, as it is 1-cosine i-e $$ Cosine.Distance = 1 - Cosine Similariy $$\n",
    "\n",
    "So here when 2 arrows are pointing in the same direction when you are talking about the same vector the cosine distance will be zero so when you say distance is zero which means they are similar they are closer, when 2 vectors at 90 degree cosine distance is 1 which means they are very different.\n",
    "\n",
    "Cosine distance is all represented only in a positive space, thats why we are not moving to 180 as distance is always measure in positive and not negative as show in figure(07_fig13).\n",
    "\n",
    "That's all about theoratical concepts now lets move towards python code:"
   ]
  },
  {
   "cell_type": "code",
   "execution_count": 2,
   "id": "04fc3627-e2d3-4aee-96e6-1ee198e3b044",
   "metadata": {},
   "outputs": [],
   "source": [
    "from sklearn.metrics.pairwise import cosine_similarity, cosine_distances"
   ]
  },
  {
   "cell_type": "markdown",
   "id": "6006dc9d-85eb-4fbf-b3fa-df6a042de441",
   "metadata": {},
   "source": [
    "we will be using escalent module for importing cosine similarity method here and when we have this method it expects 2 vectors and thos 2 vectors are going to be the case that we look at for apple docs as shown in theoratical part 07_fig1-3 that was 3:1 and 6:2"
   ]
  },
  {
   "cell_type": "code",
   "execution_count": 3,
   "id": "815e810f-ed1c-407d-95a6-e39a59e6b270",
   "metadata": {},
   "outputs": [
    {
     "data": {
      "text/plain": [
       "array([[1.]])"
      ]
     },
     "execution_count": 3,
     "metadata": {},
     "output_type": "execute_result"
    }
   ],
   "source": [
    "cosine_similarity ([[3,1]],[[6,2]])"
   ]
  },
  {
   "cell_type": "markdown",
   "id": "bb37de99-156f-415c-9bb4-c6d2f09e7880",
   "metadata": {},
   "source": [
    "Similarity is 1 means the documents are very similar."
   ]
  },
  {
   "cell_type": "code",
   "execution_count": 5,
   "id": "a4b8c004-ed3a-4059-80e8-c21358d15cf4",
   "metadata": {},
   "outputs": [
    {
     "data": {
      "text/plain": [
       "array([[1.11022302e-16]])"
      ]
     },
     "execution_count": 5,
     "metadata": {},
     "output_type": "execute_result"
    }
   ],
   "source": [
    "cosine_distances([[3,1]],[[6,2]])"
   ]
  },
  {
   "cell_type": "markdown",
   "id": "f67d48da-7335-4df9-8746-4196bf1e38f4",
   "metadata": {},
   "source": [
    "It is very close to zero means they are similar indeed."
   ]
  },
  {
   "cell_type": "code",
   "execution_count": 6,
   "id": "14e10f97-2de9-40e9-935e-4305d03c61ce",
   "metadata": {},
   "outputs": [
    {
     "data": {
      "text/plain": [
       "array([[0.96476382]])"
      ]
     },
     "execution_count": 6,
     "metadata": {},
     "output_type": "execute_result"
    }
   ],
   "source": [
    "cosine_similarity ([[3,1]],[[3,2]])"
   ]
  },
  {
   "cell_type": "markdown",
   "id": "8c7e54d9-b4af-4d6b-a5ad-da021b360914",
   "metadata": {},
   "source": [
    "They are almost similar."
   ]
  },
  {
   "cell_type": "code",
   "execution_count": 7,
   "id": "574a9aff-480b-45d3-8561-868b7f3ab1ee",
   "metadata": {},
   "outputs": [
    {
     "data": {
      "text/plain": [
       "array([[0.03523618]])"
      ]
     },
     "execution_count": 7,
     "metadata": {},
     "output_type": "execute_result"
    }
   ],
   "source": [
    "cosine_distances([[3,1]],[[3,2]])"
   ]
  },
  {
   "cell_type": "markdown",
   "id": "afde7e3d-e943-4dd6-955d-e10ff4cdab4d",
   "metadata": {},
   "source": [
    "Now lets look at some real docs.\n",
    "\n",
    "Lets create some variables with financial docs strings."
   ]
  },
  {
   "cell_type": "code",
   "execution_count": 8,
   "id": "1661a347-8a0a-4fb2-aa81-90538e4482cd",
   "metadata": {},
   "outputs": [],
   "source": [
    "doc1 = \"\"\"\n",
    "iphone sales contributed to 70% of revenue. iphone demand is increasing by 20% yoy. \n",
    "the main competitor phone galaxy recorded 5% less growth compared to iphone\"\n",
    "\"\"\"\n",
    "\n",
    "doc2 = \"\"\"\n",
    "The upside pressure on volumes for the iPhone 12 series, historical outperformance \n",
    "in the July-September time period heading into launch event, and further catalysts in relation\n",
    "to outperformance for iPhone 13 volumes relative to lowered investor expectations implies a \n",
    "very attractive set up for the shares.\n",
    "\"\"\"\n",
    "\n",
    "doc3 = \"\"\"\n",
    "samsung's flagship product galaxy is able to penetrate more into asian markets compared to\n",
    "iphone. galaxy is redesigned with new look that appeals young demographics. 60% of samsung revenues\n",
    "are coming from galaxy phone sales\n",
    "\"\"\"\n",
    "\n",
    "doc4 = \"\"\"\n",
    "Samsung Electronics unveils its Galaxy S21 flagship, with modest spec improvements \n",
    "and a significantly lower price point. Galaxy S21 price is lower by ~20% (much like the iPhone 12A), \n",
    "which highlights Samsung's focus on boosting shipments and regaining market share.\n",
    "\"\"\""
   ]
  },
  {
   "cell_type": "code",
   "execution_count": 9,
   "id": "6cfe8e1d-f65a-4bf1-9589-2578838613f3",
   "metadata": {},
   "outputs": [
    {
     "data": {
      "text/html": [
       "<div>\n",
       "<style scoped>\n",
       "    .dataframe tbody tr th:only-of-type {\n",
       "        vertical-align: middle;\n",
       "    }\n",
       "\n",
       "    .dataframe tbody tr th {\n",
       "        vertical-align: top;\n",
       "    }\n",
       "\n",
       "    .dataframe thead th {\n",
       "        text-align: right;\n",
       "    }\n",
       "</style>\n",
       "<table border=\"1\" class=\"dataframe\">\n",
       "  <thead>\n",
       "    <tr style=\"text-align: right;\">\n",
       "      <th></th>\n",
       "      <th>iPhone</th>\n",
       "      <th>galaxy</th>\n",
       "    </tr>\n",
       "  </thead>\n",
       "  <tbody>\n",
       "    <tr>\n",
       "      <th>doc1</th>\n",
       "      <td>3</td>\n",
       "      <td>1</td>\n",
       "    </tr>\n",
       "    <tr>\n",
       "      <th>doc2</th>\n",
       "      <td>2</td>\n",
       "      <td>0</td>\n",
       "    </tr>\n",
       "    <tr>\n",
       "      <th>doc3</th>\n",
       "      <td>1</td>\n",
       "      <td>3</td>\n",
       "    </tr>\n",
       "    <tr>\n",
       "      <th>doc4</th>\n",
       "      <td>1</td>\n",
       "      <td>2</td>\n",
       "    </tr>\n",
       "  </tbody>\n",
       "</table>\n",
       "</div>"
      ],
      "text/plain": [
       "      iPhone  galaxy\n",
       "doc1       3       1\n",
       "doc2       2       0\n",
       "doc3       1       3\n",
       "doc4       1       2"
      ]
     },
     "execution_count": 9,
     "metadata": {},
     "output_type": "execute_result"
    }
   ],
   "source": [
    "import pandas as pd\n",
    "df = pd.DataFrame([\n",
    "        {'iPhone':3,'galaxy':1},\n",
    "        {'iPhone':2,'galaxy':0},\n",
    "        {'iPhone':1,'galaxy':3},\n",
    "        {'iPhone':1,'galaxy':2},\n",
    "    ],\n",
    "    index = [\n",
    "        'doc1',\n",
    "        'doc2',\n",
    "        'doc3',\n",
    "        'doc4',\n",
    "    ]\n",
    ")\n",
    "df"
   ]
  },
  {
   "cell_type": "code",
   "execution_count": 10,
   "id": "935179e9-89d2-49c7-a899-a90f2b73958c",
   "metadata": {},
   "outputs": [
    {
     "data": {
      "text/html": [
       "<div>\n",
       "<style scoped>\n",
       "    .dataframe tbody tr th:only-of-type {\n",
       "        vertical-align: middle;\n",
       "    }\n",
       "\n",
       "    .dataframe tbody tr th {\n",
       "        vertical-align: top;\n",
       "    }\n",
       "\n",
       "    .dataframe thead th {\n",
       "        text-align: right;\n",
       "    }\n",
       "</style>\n",
       "<table border=\"1\" class=\"dataframe\">\n",
       "  <thead>\n",
       "    <tr style=\"text-align: right;\">\n",
       "      <th></th>\n",
       "      <th>iPhone</th>\n",
       "      <th>galaxy</th>\n",
       "    </tr>\n",
       "  </thead>\n",
       "  <tbody>\n",
       "    <tr>\n",
       "      <th>doc1</th>\n",
       "      <td>3</td>\n",
       "      <td>1</td>\n",
       "    </tr>\n",
       "  </tbody>\n",
       "</table>\n",
       "</div>"
      ],
      "text/plain": [
       "      iPhone  galaxy\n",
       "doc1       3       1"
      ]
     },
     "execution_count": 10,
     "metadata": {},
     "output_type": "execute_result"
    }
   ],
   "source": [
    "df.loc['doc1':'doc1']\n",
    "# by doing this it returns first doc but it is 2-D array or a dataframe"
   ]
  },
  {
   "cell_type": "code",
   "execution_count": 11,
   "id": "5695f8d1-0d7f-4e6d-babc-720b10a29aac",
   "metadata": {},
   "outputs": [
    {
     "data": {
      "text/plain": [
       "array([[0.9486833]])"
      ]
     },
     "execution_count": 11,
     "metadata": {},
     "output_type": "execute_result"
    }
   ],
   "source": [
    "cosine_similarity(df.loc['doc1':'doc1'],df.loc['doc2':'doc2'])"
   ]
  },
  {
   "cell_type": "code",
   "execution_count": 12,
   "id": "fca16b17-6572-4b5a-b450-fc8e4ae4a625",
   "metadata": {},
   "outputs": [
    {
     "data": {
      "text/plain": [
       "array([[0.6]])"
      ]
     },
     "execution_count": 12,
     "metadata": {},
     "output_type": "execute_result"
    }
   ],
   "source": [
    "cosine_similarity(df.loc['doc1':'doc1'],df.loc['doc3':'doc3'])"
   ]
  },
  {
   "cell_type": "code",
   "execution_count": 13,
   "id": "bf2bc4ee-5680-4c85-93ce-308c07c4b094",
   "metadata": {},
   "outputs": [
    {
     "data": {
      "text/plain": [
       "array([[0.98994949]])"
      ]
     },
     "execution_count": 13,
     "metadata": {},
     "output_type": "execute_result"
    }
   ],
   "source": [
    "cosine_similarity(df.loc['doc3':'doc3'],df.loc['doc4':'doc4'])"
   ]
  },
  {
   "cell_type": "code",
   "execution_count": 14,
   "id": "46a6dcc3-5694-4f5f-8781-d1e59e96f17d",
   "metadata": {},
   "outputs": [
    {
     "data": {
      "text/plain": [
       "array([[0.70710678]])"
      ]
     },
     "execution_count": 14,
     "metadata": {},
     "output_type": "execute_result"
    }
   ],
   "source": [
    "cosine_similarity(df.loc['doc1':'doc1'],df.loc['doc4':'doc4'])"
   ]
  },
  {
   "cell_type": "code",
   "execution_count": 15,
   "id": "79135427-2163-44ef-9d65-216dc09a69a1",
   "metadata": {},
   "outputs": [
    {
     "data": {
      "text/plain": [
       "array([[0.01005051]])"
      ]
     },
     "execution_count": 15,
     "metadata": {},
     "output_type": "execute_result"
    }
   ],
   "source": [
    "cosine_distances(df.loc['doc3':'doc3'],df.loc['doc4':'doc4'])"
   ]
  },
  {
   "cell_type": "code",
   "execution_count": null,
   "id": "897f4ed9-573e-44b5-98aa-cc791c63ecf6",
   "metadata": {},
   "outputs": [],
   "source": []
  }
 ],
 "metadata": {
  "kernelspec": {
   "display_name": "Python 3 (ipykernel)",
   "language": "python",
   "name": "python3"
  },
  "language_info": {
   "codemirror_mode": {
    "name": "ipython",
    "version": 3
   },
   "file_extension": ".py",
   "mimetype": "text/x-python",
   "name": "python",
   "nbconvert_exporter": "python",
   "pygments_lexer": "ipython3",
   "version": "3.12.6"
  }
 },
 "nbformat": 4,
 "nbformat_minor": 5
}
