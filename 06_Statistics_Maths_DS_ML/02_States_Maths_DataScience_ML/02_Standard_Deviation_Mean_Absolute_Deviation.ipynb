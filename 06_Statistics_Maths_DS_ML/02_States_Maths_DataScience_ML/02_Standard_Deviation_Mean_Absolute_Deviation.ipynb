{
 "cells": [
  {
   "cell_type": "markdown",
   "id": "c3c015af-04da-497b-9a7a-91e4e5a5c014",
   "metadata": {},
   "source": [
    "# What is Mean Absolute Daviation and standard Daviation?"
   ]
  },
  {
   "cell_type": "markdown",
   "id": "fc2db4dc-6bd2-43bc-b04a-81636e82f566",
   "metadata": {},
   "source": [
    "Let us say we have history test record of 6 people {75,72,68,65,67,73} in which the average is 70 but in math test scores are {93,96,43,47,51,90} it also had an average of 70."
   ]
  },
  {
   "cell_type": "code",
   "execution_count": 1,
   "id": "f31150e2-80e6-4d90-885b-0accc2e24ce6",
   "metadata": {},
   "outputs": [],
   "source": [
    "import pandas as pd\n",
    "import matplotlib.pyplot as plt"
   ]
  },
  {
   "cell_type": "code",
   "execution_count": 13,
   "id": "a9cb4c49-2821-4b95-94f9-3c0f9c242ee2",
   "metadata": {},
   "outputs": [
    {
     "data": {
      "text/html": [
       "<div>\n",
       "<style scoped>\n",
       "    .dataframe tbody tr th:only-of-type {\n",
       "        vertical-align: middle;\n",
       "    }\n",
       "\n",
       "    .dataframe tbody tr th {\n",
       "        vertical-align: top;\n",
       "    }\n",
       "\n",
       "    .dataframe thead th {\n",
       "        text-align: right;\n",
       "    }\n",
       "</style>\n",
       "<table border=\"1\" class=\"dataframe\">\n",
       "  <thead>\n",
       "    <tr style=\"text-align: right;\">\n",
       "      <th></th>\n",
       "      <th>Students</th>\n",
       "      <th>h_score</th>\n",
       "    </tr>\n",
       "  </thead>\n",
       "  <tbody>\n",
       "    <tr>\n",
       "      <th>0</th>\n",
       "      <td>a</td>\n",
       "      <td>75</td>\n",
       "    </tr>\n",
       "    <tr>\n",
       "      <th>1</th>\n",
       "      <td>b</td>\n",
       "      <td>72</td>\n",
       "    </tr>\n",
       "    <tr>\n",
       "      <th>2</th>\n",
       "      <td>c</td>\n",
       "      <td>68</td>\n",
       "    </tr>\n",
       "    <tr>\n",
       "      <th>3</th>\n",
       "      <td>d</td>\n",
       "      <td>65</td>\n",
       "    </tr>\n",
       "    <tr>\n",
       "      <th>4</th>\n",
       "      <td>e</td>\n",
       "      <td>67</td>\n",
       "    </tr>\n",
       "    <tr>\n",
       "      <th>5</th>\n",
       "      <td>f</td>\n",
       "      <td>73</td>\n",
       "    </tr>\n",
       "  </tbody>\n",
       "</table>\n",
       "</div>"
      ],
      "text/plain": [
       "  Students  h_score\n",
       "0        a       75\n",
       "1        b       72\n",
       "2        c       68\n",
       "3        d       65\n",
       "4        e       67\n",
       "5        f       73"
      ]
     },
     "execution_count": 13,
     "metadata": {},
     "output_type": "execute_result"
    }
   ],
   "source": [
    "df1 = pd.DataFrame({\n",
    "    'Students':['a','b','c','d','e','f'],\n",
    "    'h_score':[75,72,68,65,67,73]\n",
    "})\n",
    "df1"
   ]
  },
  {
   "cell_type": "code",
   "execution_count": 21,
   "id": "666d3b28-29cf-41da-b104-30c60e7cc23c",
   "metadata": {},
   "outputs": [
    {
     "data": {
      "text/plain": [
       "np.float64(70.0)"
      ]
     },
     "execution_count": 21,
     "metadata": {},
     "output_type": "execute_result"
    }
   ],
   "source": [
    "mean_score=df1.h_score.mean()\n",
    "mean_score"
   ]
  },
  {
   "cell_type": "code",
   "execution_count": 23,
   "id": "2dec06b1-ae2b-48e9-96bd-d17c70adc238",
   "metadata": {},
   "outputs": [
    {
     "data": {
      "image/png": "[encoded data removed]",
      "text/plain": [
       "<Figure size 800x200 with 1 Axes>"
      ]
     },
     "metadata": {},
     "output_type": "display_data"
    }
   ],
   "source": [
    "plt.figure(figsize=(8, 2))\n",
    "plt.scatter(df1['h_score'], [1]*len(df1), color='orange', s=100)  # Scatter plot with points at y=1\n",
    "\n",
    "# Add mean and median lines\n",
    "plt.axvline(mean_score, color='yellow', linestyle='-', linewidth=2, label=f'Mean ({mean_score:.2f})')\n",
    "\n",
    "# Customize the plot to match the style\n",
    "plt.yticks([])  # Hide y-axis labels\n",
    "plt.xticks(sorted(df1['h_score'].unique()))  # Only show values on the x-axis\n",
    "plt.legend()\n",
    "plt.title(\"Students' h_score with Mean and Median Lines\")\n",
    "\n",
    "# Show the plot\n",
    "plt.show()"
   ]
  },
  {
   "cell_type": "code",
   "execution_count": 32,
   "id": "d9d49ae6-5db8-46f2-8f7d-6e5fbb6bfc16",
   "metadata": {},
   "outputs": [
    {
     "data": {
      "text/plain": [
       "0    5.0\n",
       "1    2.0\n",
       "2   -2.0\n",
       "3   -5.0\n",
       "4   -3.0\n",
       "5    3.0\n",
       "Name: h_score, dtype: float64"
      ]
     },
     "execution_count": 32,
     "metadata": {},
     "output_type": "execute_result"
    }
   ],
   "source": [
    "df1_d = df1['h_score']-mean_score\n",
    "df1_d"
   ]
  },
  {
   "cell_type": "markdown",
   "id": "626cd879-2bbf-43ad-839e-6cb9de2430dd",
   "metadata": {},
   "source": [
    "The mean of the difference is **3.16**"
   ]
  },
  {
   "cell_type": "code",
   "execution_count": 15,
   "id": "944ac638-331d-4ef2-90ac-3e28f7806ab3",
   "metadata": {},
   "outputs": [
    {
     "data": {
      "text/html": [
       "<div>\n",
       "<style scoped>\n",
       "    .dataframe tbody tr th:only-of-type {\n",
       "        vertical-align: middle;\n",
       "    }\n",
       "\n",
       "    .dataframe tbody tr th {\n",
       "        vertical-align: top;\n",
       "    }\n",
       "\n",
       "    .dataframe thead th {\n",
       "        text-align: right;\n",
       "    }\n",
       "</style>\n",
       "<table border=\"1\" class=\"dataframe\">\n",
       "  <thead>\n",
       "    <tr style=\"text-align: right;\">\n",
       "      <th></th>\n",
       "      <th>Students</th>\n",
       "      <th>M_score</th>\n",
       "    </tr>\n",
       "  </thead>\n",
       "  <tbody>\n",
       "    <tr>\n",
       "      <th>0</th>\n",
       "      <td>a</td>\n",
       "      <td>93</td>\n",
       "    </tr>\n",
       "    <tr>\n",
       "      <th>1</th>\n",
       "      <td>b</td>\n",
       "      <td>96</td>\n",
       "    </tr>\n",
       "    <tr>\n",
       "      <th>2</th>\n",
       "      <td>c</td>\n",
       "      <td>43</td>\n",
       "    </tr>\n",
       "    <tr>\n",
       "      <th>3</th>\n",
       "      <td>d</td>\n",
       "      <td>47</td>\n",
       "    </tr>\n",
       "    <tr>\n",
       "      <th>4</th>\n",
       "      <td>e</td>\n",
       "      <td>51</td>\n",
       "    </tr>\n",
       "    <tr>\n",
       "      <th>5</th>\n",
       "      <td>f</td>\n",
       "      <td>90</td>\n",
       "    </tr>\n",
       "  </tbody>\n",
       "</table>\n",
       "</div>"
      ],
      "text/plain": [
       "  Students  M_score\n",
       "0        a       93\n",
       "1        b       96\n",
       "2        c       43\n",
       "3        d       47\n",
       "4        e       51\n",
       "5        f       90"
      ]
     },
     "execution_count": 15,
     "metadata": {},
     "output_type": "execute_result"
    }
   ],
   "source": [
    "df2 = pd.DataFrame({\n",
    "    'Students':['a','b','c','d','e','f'],\n",
    "    'M_score':[93,96,43,47,51,90]\n",
    "})\n",
    "df2"
   ]
  },
  {
   "cell_type": "code",
   "execution_count": 24,
   "id": "84015e7b-e37a-4237-abe8-9dfe8ffeb5f7",
   "metadata": {},
   "outputs": [
    {
     "data": {
      "text/plain": [
       "np.float64(70.0)"
      ]
     },
     "execution_count": 24,
     "metadata": {},
     "output_type": "execute_result"
    }
   ],
   "source": [
    "mean_score1=df2.M_score.mean()\n",
    "mean_score1"
   ]
  },
  {
   "cell_type": "code",
   "execution_count": 26,
   "id": "60d9ef49-b59f-494c-bf1e-4c0bba62744f",
   "metadata": {},
   "outputs": [
    {
     "data": {
      "image/png": "[encoded data removed]",
      "text/plain": [
       "<Figure size 800x200 with 1 Axes>"
      ]
     },
     "metadata": {},
     "output_type": "display_data"
    }
   ],
   "source": [
    "plt.figure(figsize=(8, 2))\n",
    "plt.scatter(df2['M_score'], [1]*len(df2), color='orange', s=100)  # Scatter plot with points at y=1\n",
    "\n",
    "# Add mean and median lines\n",
    "plt.axvline(mean_score, color='yellow', linestyle='-', linewidth=2, label=f'Mean ({mean_score1:.2f})')\n",
    "\n",
    "# Customize the plot to match the style\n",
    "plt.yticks([])  # Hide y-axis labels\n",
    "plt.xticks(sorted(df2['M_score'].unique()))  # Only show values on the x-axis\n",
    "plt.legend()\n",
    "plt.title(\"Students' M_score with Mean and Median Lines\")\n",
    "\n",
    "# Show the plot\n",
    "plt.show()"
   ]
  },
  {
   "cell_type": "markdown",
   "id": "1c1a2065-2b4f-4bef-904c-2207ab983cd3",
   "metadata": {},
   "source": [
    "so if we compare df1 and df2 plots the df1 plots have lower variance which is good but df2 variance is very high which is not good and can cause several exception"
   ]
  },
  {
   "cell_type": "code",
   "execution_count": 34,
   "id": "5ccac1da-8c02-45ce-838a-6851392f24f6",
   "metadata": {},
   "outputs": [
    {
     "data": {
      "text/plain": [
       "0    23.0\n",
       "1    26.0\n",
       "2   -27.0\n",
       "3   -23.0\n",
       "4   -19.0\n",
       "5    20.0\n",
       "Name: M_score, dtype: float64"
      ]
     },
     "execution_count": 34,
     "metadata": {},
     "output_type": "execute_result"
    }
   ],
   "source": [
    "df2_d = df2['M_score']-mean_score\n",
    "df2_d"
   ]
  },
  {
   "cell_type": "markdown",
   "id": "e071be7e-3d40-4288-bd0e-5e995357db70",
   "metadata": {},
   "source": [
    "the mean of difference is **23**"
   ]
  },
  {
   "cell_type": "markdown",
   "id": "7463c30f-a669-48c9-a750-23b38792e67b",
   "metadata": {},
   "source": [
    "It seems interesting because History test differ mean is 3.16 while differ mean for math test is 23.\n",
    "\n",
    "And this 23 math differ mean tells us that wide spread out with respect to average or mean number.\n",
    "\n",
    "And this mean number is nothing but Mean Absolute Deviation(MAD)(3.16, 23).\n",
    "\n",
    "MAD could be quite significant or useful metrix that represent how spread your data points are, but there could be a scenario where using MAD might not be enough"
   ]
  },
  {
   "cell_type": "markdown",
   "id": "f70be002-3675-432c-8a7b-7f8dd18e55e7",
   "metadata": {},
   "source": [
    "As we see df1 and df2 plot charts the MAD for df1 is not quite enough because the values are not quite spread, they are all at one place, while in df2 they are all wide spread.\n",
    "\n",
    "Like df2 range is from 40-90 while df1 range is from 65-75.\n",
    "\n",
    "So for df1 we can come up with another strategy called **standard deviation** which is nothing but the **square** of **MAD** or differ mean."
   ]
  },
  {
   "cell_type": "markdown",
   "id": "7af59125-a820-4311-8de6-bbc516802f7c",
   "metadata": {},
   "source": [
    "After squaring it we find average and then take square root.\n",
    "\n",
    "We find that if we do these step for both df1 and df2 the answer will be quite different"
   ]
  },
  {
   "cell_type": "code",
   "execution_count": 36,
   "id": "cf0918ee-4ad5-4fa1-b7d2-558ad352ca05",
   "metadata": {},
   "outputs": [
    {
     "data": {
      "text/plain": [
       "0    25.0\n",
       "1     4.0\n",
       "2     4.0\n",
       "3    25.0\n",
       "4     9.0\n",
       "5     9.0\n",
       "Name: h_score, dtype: float64"
      ]
     },
     "execution_count": 36,
     "metadata": {},
     "output_type": "execute_result"
    }
   ],
   "source": [
    "s_df1_d = df1_d*df1_d\n",
    "s_df1_d"
   ]
  },
  {
   "cell_type": "code",
   "execution_count": 37,
   "id": "4d64f918-c8ed-4c8e-8da8-b827a40c73f0",
   "metadata": {},
   "outputs": [
    {
     "data": {
      "text/plain": [
       "0    529.0\n",
       "1    676.0\n",
       "2    729.0\n",
       "3    529.0\n",
       "4    361.0\n",
       "5    400.0\n",
       "Name: M_score, dtype: float64"
      ]
     },
     "execution_count": 37,
     "metadata": {},
     "output_type": "execute_result"
    }
   ],
   "source": [
    "s_df2_d = df2_d*df2_d\n",
    "s_df2_d"
   ]
  },
  {
   "cell_type": "code",
   "execution_count": 40,
   "id": "52ebbc41-8743-4d5b-93fa-5f3cbbc1c68e",
   "metadata": {},
   "outputs": [
    {
     "data": {
      "text/plain": [
       "np.float64(12.666666666666666)"
      ]
     },
     "execution_count": 40,
     "metadata": {},
     "output_type": "execute_result"
    }
   ],
   "source": [
    "s_df1_d.mean()"
   ]
  },
  {
   "cell_type": "code",
   "execution_count": 41,
   "id": "b2e5eec8-992c-4b49-9a5e-5f7fb5e61672",
   "metadata": {},
   "outputs": [
    {
     "data": {
      "text/plain": [
       "np.float64(537.3333333333334)"
      ]
     },
     "execution_count": 41,
     "metadata": {},
     "output_type": "execute_result"
    }
   ],
   "source": [
    "s_df2_d.mean()"
   ]
  },
  {
   "cell_type": "code",
   "execution_count": 42,
   "id": "7343b5da-9463-403d-971f-66fb0f83d4d9",
   "metadata": {},
   "outputs": [],
   "source": [
    "import numpy as np"
   ]
  },
  {
   "cell_type": "code",
   "execution_count": 44,
   "id": "a9cb1b8e-5394-4741-93ff-d2a4ad2143f8",
   "metadata": {},
   "outputs": [
    {
     "data": {
      "text/plain": [
       "np.float64(3.559026084010437)"
      ]
     },
     "execution_count": 44,
     "metadata": {},
     "output_type": "execute_result"
    }
   ],
   "source": [
    "sqrt1 = np.sqrt(s_df1_d.mean())\n",
    "sqrt1"
   ]
  },
  {
   "cell_type": "code",
   "execution_count": 45,
   "id": "5b08362a-f4dc-441e-989b-bf3320e070b6",
   "metadata": {},
   "outputs": [
    {
     "data": {
      "text/plain": [
       "np.float64(23.18045153428495)"
      ]
     },
     "execution_count": 45,
     "metadata": {},
     "output_type": "execute_result"
    }
   ],
   "source": [
    "sqrt2 = np.sqrt(s_df2_d.mean())\n",
    "sqrt2"
   ]
  },
  {
   "cell_type": "markdown",
   "id": "afef775a-e893-4a01-a9f1-34f987c89acb",
   "metadata": {},
   "source": [
    "This square root is called standard daviation so df1 SD is 3.55 while df2 SD is 23.1"
   ]
  },
  {
   "cell_type": "code",
   "execution_count": null,
   "id": "e6522378-a5d9-4873-b012-3c4407ee66a1",
   "metadata": {},
   "outputs": [],
   "source": []
  }
 ],
 "metadata": {
  "kernelspec": {
   "display_name": "Python 3 (ipykernel)",
   "language": "python",
   "name": "python3"
  },
  "language_info": {
   "codemirror_mode": {
    "name": "ipython",
    "version": 3
   },
   "file_extension": ".py",
   "mimetype": "text/x-python",
   "name": "python",
   "nbconvert_exporter": "python",
   "pygments_lexer": "ipython3",
   "version": "3.12.6"
  }
 },
 "nbformat": 4,
 "nbformat_minor": 5
}
