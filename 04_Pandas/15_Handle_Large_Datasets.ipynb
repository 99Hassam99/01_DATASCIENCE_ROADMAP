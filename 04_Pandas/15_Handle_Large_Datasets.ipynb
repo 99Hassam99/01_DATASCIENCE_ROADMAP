{
 "cells": [
  {
   "cell_type": "markdown",
   "id": "8a962db0-5eac-4301-8a04-deed8bb01220",
   "metadata": {},
   "source": [
    "#  Handle Large Datasets In Pandas | Memory Optimization Tips For Pandas\n",
    "\n",
    "decreasing the size"
   ]
  },
  {
   "cell_type": "code",
   "execution_count": 22,
   "id": "5d2a38ff-06dd-46ce-b674-234e0c18f721",
   "metadata": {},
   "outputs": [
    {
     "name": "stdout",
     "output_type": "stream",
     "text": [
      "<class 'pandas.core.frame.DataFrame'>\n",
      "RangeIndex: 3 entries, 0 to 2\n",
      "Columns: 2 entries, First Name to Unnamed: 1\n",
      "dtypes: object(2)\n",
      "memory usage: 440.0 bytes\n"
     ]
    }
   ],
   "source": [
    "import pandas as pd\n",
    "df = pd.read_csv(\"15_voters.csv\")\n",
    "df.info(verbose=False, memory_usage=\"deep\")"
   ]
  },
  {
   "cell_type": "code",
   "execution_count": 26,
   "id": "3ea5739f-fcf7-43bb-a63d-4f88d3a355bc",
   "metadata": {},
   "outputs": [
    {
     "data": {
      "text/plain": [
       "First Name    150\n",
       "Last Name     150\n",
       "dtype: int64"
      ]
     },
     "execution_count": 26,
     "metadata": {},
     "output_type": "execute_result"
    }
   ],
   "source": [
    "df = pd.read_csv(\"15_voters.csv\")\n",
    "df.memory_usage(index=False, deep=True)"
   ]
  },
  {
   "cell_type": "code",
   "execution_count": 27,
   "id": "2ec9b301-9b72-4b7d-8e10-87d5c7f6d35d",
   "metadata": {},
   "outputs": [
    {
     "data": {
      "text/plain": [
       "First Name    c\n",
       "Last Name     z\n",
       "dtype: object"
      ]
     },
     "execution_count": 27,
     "metadata": {},
     "output_type": "execute_result"
    }
   ],
   "source": [
    "df.max()"
   ]
  },
  {
   "cell_type": "code",
   "execution_count": null,
   "id": "501a309a-dd5b-4faf-9641-a778ea850b05",
   "metadata": {},
   "outputs": [],
   "source": [
    "df = pd.read_csv(\"15_voters.csv\", dtype={\"Ward Number \": \"int8\"})\n"
   ]
  }
 ],
 "metadata": {
  "kernelspec": {
   "display_name": "Python 3 (ipykernel)",
   "language": "python",
   "name": "python3"
  },
  "language_info": {
   "codemirror_mode": {
    "name": "ipython",
    "version": 3
   },
   "file_extension": ".py",
   "mimetype": "text/x-python",
   "name": "python",
   "nbconvert_exporter": "python",
   "pygments_lexer": "ipython3",
   "version": "3.12.6"
  }
 },
 "nbformat": 4,
 "nbformat_minor": 5
}
