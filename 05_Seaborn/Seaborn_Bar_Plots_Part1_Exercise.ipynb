{
 "cells": [
  {
   "cell_type": "markdown",
   "id": "40b56c9b-043d-4347-be76-af35928b3cf9",
   "metadata": {},
   "source": [
    "# Bar Plots Homework Exercise Questions"
   ]
  },
  {
   "cell_type": "markdown",
   "id": "daea0481-f495-46c0-8f54-782cb130aaa0",
   "metadata": {},
   "source": [
    "**1.Visualization of the flights dataset**\n",
    "\n",
    "i. Load the flights dataset into your notebook\n",
    "\n",
    "ii.Draw a bar plot of year on the x axis and passengers on the y axis? Which year(s) had more number of passengers?\n",
    "\n",
    "iii.Draw a bar plot of the month on the x axis and passengers on the y axis? Which month(s) had the most number of passengers and which month(s) had the least number of passengers.\n",
    "\n",
    "iv. Change the palette of the plot in ii. to winter_r\n",
    "\n",
    "\n",
    "**2.Working with palettes.**\n",
    "\n",
    "i. Display only 5 colors from the spring palette\n",
    "\n",
    "ii. Construct a list of 4 colors and set the palette using the appropriate function as explained in the video.\n",
    "\n",
    "iii.Display the palette using the appropriate functions as discussed in the video"
   ]
  },
  {
   "cell_type": "markdown",
   "id": "d574fd62-49b2-496f-b35a-c9be66a85c37",
   "metadata": {},
   "source": [
    "# Import libraries"
   ]
  },
  {
   "cell_type": "code",
   "execution_count": 1,
   "id": "e0571945-8a6f-4c4e-9c59-f477e308ba0d",
   "metadata": {},
   "outputs": [],
   "source": [
    "import numpy as np\n",
    "import pandas as pd\n",
    "import seaborn as sns\n",
    "import matplotlib.pyplot as plt\n",
    "%matplotlib inline"
   ]
  },
  {
   "cell_type": "markdown",
   "id": "211dffe7-5f19-46f8-b892-414d985cc7ba",
   "metadata": {},
   "source": [
    "**1.Visualization of the flights dataset**"
   ]
  },
  {
   "cell_type": "code",
   "execution_count": 2,
   "id": "e96d1a78-7c7a-4074-8269-4244e95e53fd",
   "metadata": {},
   "outputs": [
    {
     "data": {
      "text/plain": [
       "['anagrams',\n",
       " 'anscombe',\n",
       " 'attention',\n",
       " 'brain_networks',\n",
       " 'car_crashes',\n",
       " 'diamonds',\n",
       " 'dots',\n",
       " 'dowjones',\n",
       " 'exercise',\n",
       " 'flights',\n",
       " 'fmri',\n",
       " 'geyser',\n",
       " 'glue',\n",
       " 'healthexp',\n",
       " 'iris',\n",
       " 'mpg',\n",
       " 'penguins',\n",
       " 'planets',\n",
       " 'seaice',\n",
       " 'taxis',\n",
       " 'tips',\n",
       " 'titanic']"
      ]
     },
     "execution_count": 2,
     "metadata": {},
     "output_type": "execute_result"
    }
   ],
   "source": [
    "# i. Load the flights dataset into your notebook\n",
    "sns.get_dataset_names()"
   ]
  },
  {
   "cell_type": "code",
   "execution_count": 3,
   "id": "279aad06-a8b7-4436-909e-07e06522aa4e",
   "metadata": {},
   "outputs": [],
   "source": [
    "tips = sns.load_dataset('flights')"
   ]
  },
  {
   "cell_type": "code",
   "execution_count": 5,
   "id": "57d9c987-aeed-4477-850b-80deeda4022f",
   "metadata": {},
   "outputs": [
    {
     "data": {
      "text/html": [
       "<div>\n",
       "<style scoped>\n",
       "    .dataframe tbody tr th:only-of-type {\n",
       "        vertical-align: middle;\n",
       "    }\n",
       "\n",
       "    .dataframe tbody tr th {\n",
       "        vertical-align: top;\n",
       "    }\n",
       "\n",
       "    .dataframe thead th {\n",
       "        text-align: right;\n",
       "    }\n",
       "</style>\n",
       "<table border=\"1\" class=\"dataframe\">\n",
       "  <thead>\n",
       "    <tr style=\"text-align: right;\">\n",
       "      <th></th>\n",
       "      <th>year</th>\n",
       "      <th>month</th>\n",
       "      <th>passengers</th>\n",
       "    </tr>\n",
       "  </thead>\n",
       "  <tbody>\n",
       "    <tr>\n",
       "      <th>0</th>\n",
       "      <td>1949</td>\n",
       "      <td>Jan</td>\n",
       "      <td>112</td>\n",
       "    </tr>\n",
       "    <tr>\n",
       "      <th>1</th>\n",
       "      <td>1949</td>\n",
       "      <td>Feb</td>\n",
       "      <td>118</td>\n",
       "    </tr>\n",
       "    <tr>\n",
       "      <th>2</th>\n",
       "      <td>1949</td>\n",
       "      <td>Mar</td>\n",
       "      <td>132</td>\n",
       "    </tr>\n",
       "    <tr>\n",
       "      <th>3</th>\n",
       "      <td>1949</td>\n",
       "      <td>Apr</td>\n",
       "      <td>129</td>\n",
       "    </tr>\n",
       "    <tr>\n",
       "      <th>4</th>\n",
       "      <td>1949</td>\n",
       "      <td>May</td>\n",
       "      <td>121</td>\n",
       "    </tr>\n",
       "  </tbody>\n",
       "</table>\n",
       "</div>"
      ],
      "text/plain": [
       "   year month  passengers\n",
       "0  1949   Jan         112\n",
       "1  1949   Feb         118\n",
       "2  1949   Mar         132\n",
       "3  1949   Apr         129\n",
       "4  1949   May         121"
      ]
     },
     "execution_count": 5,
     "metadata": {},
     "output_type": "execute_result"
    }
   ],
   "source": [
    "tips.head()"
   ]
  },
  {
   "cell_type": "code",
   "execution_count": 7,
   "id": "e1d9c66c-aab3-4682-ae80-4a3a7f0ee768",
   "metadata": {},
   "outputs": [
    {
     "data": {
      "text/plain": [
       "<Axes: xlabel='year', ylabel='passengers'>"
      ]
     },
     "execution_count": 7,
     "metadata": {},
     "output_type": "execute_result"
    },
    {
     "data": {
      "image/png": "[encoded data removed]",
      "text/plain": [
       "<Figure size 640x480 with 1 Axes>"
      ]
     },
     "metadata": {},
     "output_type": "display_data"
    }
   ],
   "source": [
    "# Draw a bar plot of year on the x axis and passengers on the y axis? Which year(s) had more number of passengers?\n",
    "\n",
    "sns.barplot(x = 'year', y = 'passengers', data = tips)"
   ]
  },
  {
   "cell_type": "markdown",
   "id": "77f76d89-da0f-4aba-9f1c-799110d1be6f",
   "metadata": {},
   "source": [
    "1960 had more number of passengers"
   ]
  },
  {
   "cell_type": "code",
   "execution_count": 8,
   "id": "9de84c20-d7bf-4584-aa4b-6d1c919ee9d3",
   "metadata": {},
   "outputs": [
    {
     "data": {
      "text/plain": [
       "<Axes: xlabel='month', ylabel='passengers'>"
      ]
     },
     "execution_count": 8,
     "metadata": {},
     "output_type": "execute_result"
    },
    {
     "data": {
      "image/png": "[encoded data removed]",
      "text/plain": [
       "<Figure size 640x480 with 1 Axes>"
      ]
     },
     "metadata": {},
     "output_type": "display_data"
    }
   ],
   "source": [
    "# Draw a bar plot of the month on the x axis and passengers on the y axis? Which month(s) had the most number of passengers and\n",
    "# which month(s) had the least number of passengers.\n",
    "\n",
    "sns.barplot(x = 'month', y = 'passengers', data = tips)"
   ]
  },
  {
   "cell_type": "markdown",
   "id": "6c2697a5-9a20-4682-8fe3-a035a4273c5a",
   "metadata": {},
   "source": [
    "july & august have more passengers while november have the least passengers ratio"
   ]
  },
  {
   "cell_type": "code",
   "execution_count": 9,
   "id": "27af5c13-898f-4183-a6d1-dcb6609af129",
   "metadata": {},
   "outputs": [
    {
     "data": {
      "text/html": [
       "<svg  width=\"550\" height=\"55\"><rect x=\"0\" y=\"0\" width=\"55\" height=\"55\" style=\"fill:#00e88b;stroke-width:2;stroke:rgb(255,255,255)\"/><rect x=\"55\" y=\"0\" width=\"55\" height=\"55\" style=\"fill:#00d196;stroke-width:2;stroke:rgb(255,255,255)\"/><rect x=\"110\" y=\"0\" width=\"55\" height=\"55\" style=\"fill:#00baa2;stroke-width:2;stroke:rgb(255,255,255)\"/><rect x=\"165\" y=\"0\" width=\"55\" height=\"55\" style=\"fill:#00a2ae;stroke-width:2;stroke:rgb(255,255,255)\"/><rect x=\"220\" y=\"0\" width=\"55\" height=\"55\" style=\"fill:#008bba;stroke-width:2;stroke:rgb(255,255,255)\"/><rect x=\"275\" y=\"0\" width=\"55\" height=\"55\" style=\"fill:#0074c5;stroke-width:2;stroke:rgb(255,255,255)\"/><rect x=\"330\" y=\"0\" width=\"55\" height=\"55\" style=\"fill:#005dd0;stroke-width:2;stroke:rgb(255,255,255)\"/><rect x=\"385\" y=\"0\" width=\"55\" height=\"55\" style=\"fill:#0045dc;stroke-width:2;stroke:rgb(255,255,255)\"/><rect x=\"440\" y=\"0\" width=\"55\" height=\"55\" style=\"fill:#002ee8;stroke-width:2;stroke:rgb(255,255,255)\"/><rect x=\"495\" y=\"0\" width=\"55\" height=\"55\" style=\"fill:#0017f3;stroke-width:2;stroke:rgb(255,255,255)\"/></svg>"
      ],
      "text/plain": [
       "[(0.0, 0.9098039215686274, 0.5450980392156862),\n",
       " (0.0, 0.8196078431372549, 0.5901960784313726),\n",
       " (0.0, 0.7294117647058824, 0.6352941176470588),\n",
       " (0.0, 0.6352941176470588, 0.6823529411764706),\n",
       " (0.0, 0.5450980392156863, 0.7274509803921568),\n",
       " (0.0, 0.4549019607843138, 0.7725490196078431),\n",
       " (0.0, 0.3647058823529412, 0.8176470588235294),\n",
       " (0.0, 0.2705882352941177, 0.8647058823529412),\n",
       " (0.0, 0.18039215686274512, 0.9098039215686274),\n",
       " (0.0, 0.09019607843137256, 0.9549019607843137)]"
      ]
     },
     "execution_count": 9,
     "metadata": {},
     "output_type": "execute_result"
    }
   ],
   "source": [
    "# Change the palette of the plot in ii. to winter_r\n",
    "\n",
    "sns.color_palette('winter_r',10)"
   ]
  },
  {
   "cell_type": "code",
   "execution_count": 11,
   "id": "524bb0b7-77c6-4446-bc9f-1e12cbf4e146",
   "metadata": {},
   "outputs": [
    {
     "name": "stderr",
     "output_type": "stream",
     "text": [
      "C:\\Users\\hassa\\AppData\\Local\\Temp\\ipykernel_10284\\2933233451.py:1: FutureWarning: \n",
      "\n",
      "Passing `palette` without assigning `hue` is deprecated and will be removed in v0.14.0. Assign the `x` variable to `hue` and set `legend=False` for the same effect.\n",
      "\n",
      "  sns.barplot(x = 'month', y = 'passengers', palette='winter_r',data = tips)\n"
     ]
    },
    {
     "data": {
      "text/plain": [
       "<Axes: xlabel='month', ylabel='passengers'>"
      ]
     },
     "execution_count": 11,
     "metadata": {},
     "output_type": "execute_result"
    },
    {
     "data": {
      "image/png": "[encoded data removed]",
      "text/plain": [
       "<Figure size 640x480 with 1 Axes>"
      ]
     },
     "metadata": {},
     "output_type": "display_data"
    }
   ],
   "source": [
    "sns.barplot(x = 'month', y = 'passengers', palette='winter_r',data = tips)"
   ]
  },
  {
   "cell_type": "code",
   "execution_count": null,
   "id": "4281a200-196b-4ab0-9536-8fb3e8e27e0e",
   "metadata": {},
   "outputs": [],
   "source": []
  },
  {
   "cell_type": "code",
   "execution_count": null,
   "id": "56c8240c-7487-4bad-b240-53fd931327e9",
   "metadata": {},
   "outputs": [],
   "source": []
  },
  {
   "cell_type": "markdown",
   "id": "8fce2263-5751-400c-8a70-3fadb32bfba0",
   "metadata": {},
   "source": [
    "# 2. Working with palettes."
   ]
  },
  {
   "cell_type": "code",
   "execution_count": 12,
   "id": "bdd24f2f-61a2-4260-adb0-ef5430968392",
   "metadata": {},
   "outputs": [
    {
     "data": {
      "image/png": "[encoded data removed]",
      "text/plain": [
       "<Figure size 500x100 with 1 Axes>"
      ]
     },
     "metadata": {},
     "output_type": "display_data"
    }
   ],
   "source": [
    "# Display only 5 colors from the spring palette\n",
    "\n",
    "sns.palplot(sns.color_palette('spring',5))"
   ]
  },
  {
   "cell_type": "code",
   "execution_count": 13,
   "id": "cc75a0c4-55fb-47a5-99b8-291b83f279bc",
   "metadata": {},
   "outputs": [],
   "source": [
    "# Construct a list of 4 colors and set the palette using the appropriate function as explained in the video.\n",
    "\n",
    "custom = ['green','yellow','orange','blue']"
   ]
  },
  {
   "cell_type": "code",
   "execution_count": 14,
   "id": "161599c7-3b78-4bd2-aae8-4903d3a1fb3b",
   "metadata": {},
   "outputs": [],
   "source": [
    "sns.set_palette(custom)"
   ]
  },
  {
   "cell_type": "code",
   "execution_count": 16,
   "id": "02a20e22-f100-4fc4-8539-9a8befb72ac5",
   "metadata": {},
   "outputs": [
    {
     "data": {
      "image/png": "[encoded data removed]",
      "text/plain": [
       "<Figure size 400x100 with 1 Axes>"
      ]
     },
     "metadata": {},
     "output_type": "display_data"
    }
   ],
   "source": [
    "# Display the palette using the appropriate functions as discussed in the video\n",
    "\n",
    "sns.palplot(sns.color_palette())"
   ]
  },
  {
   "cell_type": "code",
   "execution_count": null,
   "id": "d3630af1-328b-462d-aa51-7ed97b6c5f6b",
   "metadata": {},
   "outputs": [],
   "source": []
  }
 ],
 "metadata": {
  "kernelspec": {
   "display_name": "Python 3 (ipykernel)",
   "language": "python",
   "name": "python3"
  },
  "language_info": {
   "codemirror_mode": {
    "name": "ipython",
    "version": 3
   },
   "file_extension": ".py",
   "mimetype": "text/x-python",
   "name": "python",
   "nbconvert_exporter": "python",
   "pygments_lexer": "ipython3",
   "version": "3.12.6"
  }
 },
 "nbformat": 4,
 "nbformat_minor": 5
}
