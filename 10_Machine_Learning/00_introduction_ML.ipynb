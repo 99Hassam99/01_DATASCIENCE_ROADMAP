{
 "cells": [
  {
   "cell_type": "markdown",
   "id": "34992285-537e-4c1a-aafa-7878c5f29cdb",
   "metadata": {},
   "source": [
    "# What is ML?\n",
    "ML stands for machine learning.\n",
    "\n",
    "Machine learning (ML) is a branch of artificial intelligence (AI) that focuses on developing systems that can learn and improve from experience without being explicitly programmed. Instead of writing code for every task, ML algorithms allow computers to identify patterns in data, make predictions, and perform tasks autonomously.\n",
    "\n",
    "In the context of data science, machine learning (ML) is a toolset and methodology used to analyze, interpret, and extract meaningful insights or predictions from data. It represents the next step after traditional statistical analysis, enabling automation and prediction through the use of algorithms and computational techniques.\n",
    "\n",
    "**How Machine Learning Fits Into Data Science:**\n",
    "Data science encompasses a range of activities, including data collection, cleaning, visualization, and modeling. Machine learning is a critical part of the modeling phase, where algorithms help analyze patterns in data and make predictions or decisions.\n",
    "\n",
    "**Key Steps in Data Science Where Machine Learning Plays a Role:**\n",
    "**1.Exploratory Data Analysis (EDA):**\n",
    "\n",
    "ML helps uncover hidden patterns, correlations, and relationships in data that might not be obvious from basic analysis.\n",
    "Example: Clustering users to find groups with similar fitness habits.\n",
    "\n",
    "**2.Predictive Modeling:**\n",
    "\n",
    "ML algorithms are used to build models that can predict outcomes based on input features.\n",
    "Example: Predicting calorie burn based on user activities and body metrics.\n",
    "\n",
    "**3.Optimization:**\n",
    "\n",
    "Machine learning can improve processes by identifying the most effective strategies.\n",
    "Example: Recommending the most suitable workout plan for a user to achieve their goals.\n",
    "\n",
    "**4.Automation:**\n",
    "\n",
    "ML enables automation of repetitive tasks such as classifying images, detecting anomalies, or summarizing text.\n",
    "Example: Automatically classifying food into categories (e.g., \"healthy\" or \"unhealthy\") based on nutritional data.\n",
    "\n",
    "**Types of ML in Data Science:**\n",
    "\n",
    "**1.Descriptive Analysis:**\n",
    "\n",
    "Summarizing data to understand \"what happened.\"\n",
    "Example: Using clustering to group similar users for analysis.\n",
    "\n",
    "**2.Predictive Analysis:**\n",
    "\n",
    "Using ML models to predict future outcomes based on historical data.\n",
    "Example: Estimating weight loss over a period based on past trends.\n",
    "\n",
    "**3.Prescriptive Analysis:**\n",
    "\n",
    "Suggesting actions based on predictions.\n",
    "Example: Recommending dietary changes based on fitness goals.\n",
    "\n",
    "**Machine Learning Algorithms in Data Science:**\n",
    "\n",
    "Linear Regression: Predicting continuous outcomes.\n",
    "\n",
    "Logistic Regression: Classifying binary categories (e.g., healthy/unhealthy).\n",
    "\n",
    "Decision Trees/Random Forests: Handling complex data relationships.\n",
    "\n",
    "K-Means Clustering: Grouping users or data points.\n",
    "\n",
    "Neural Networks: Advanced modeling for complex datasets like images or text.\n",
    "\n",
    "Why ML Is Essential in Data Science:\n",
    "\n",
    "Scalability: ML models can analyze massive datasets that are impossible for humans to process.\n",
    "\n",
    "Accuracy: They improve decision-making by leveraging vast amounts of data.\n",
    "\n",
    "Insights: ML reveals complex patterns that traditional methods may miss."
   ]
  },
  {
   "cell_type": "markdown",
   "id": "9e6fe2aa-063e-420e-9af5-7dea34ade089",
   "metadata": {},
   "source": [
    "There are certain task where computers are better than human for example if i ask human to multiply 2 numbers lik $2848908098*8909809808$ then you will probably take a lot of time, whereas computers can do it in less than a second."
   ]
  },
  {
   "cell_type": "markdown",
   "id": "08f4f48e-afbf-4c98-b943-4d3b65336a54",
   "metadata": {},
   "source": [
    "Similarly if i ask you to search through million of records then that operation is extremely difficult for humans whereas machines can do it in a matter of nano seconds, on the other hand there are some tasks where humans outperform machines such as driving a car, you dont seen many robots driving the car on roads. In Bay area Google, Uber and Tesla these companies are trying a travel cars but it is still in initial phases as of 2018, so most of the cars driven on the roads are still by humans."
   ]
  },
  {
   "cell_type": "markdown",
   "id": "67c07e89-0754-4d10-8f97-50468798881d",
   "metadata": {},
   "source": [
    "Natural language conversation is also an area where humans outperform machines. So ML tries to make computers better at things where traditionally were humans are outperforming machines i-e ML is set of techniques to make computer better at doing things that human tradionally can do better then machines."
   ]
  },
  {
   "cell_type": "markdown",
   "id": "e45f6d94-0ae1-42cb-b91b-42fb2e0c9875",
   "metadata": {},
   "source": [
    "The way we do that is ML involves making machines learn things like humans do, like we make machines learn things like human do, so the question is why humans are better in driving cars and having conversation for that we need to understand how human brain works."
   ]
  },
  {
   "cell_type": "markdown",
   "id": "95130e6b-4c7f-43f5-9bb1-5ece15e946fa",
   "metadata": {},
   "source": [
    "Human brain consists of tiny neorons, there are billions of neurons in our brain and whenever we think or make a decision a signal or achemical signal is generated and these tiny neorons light up."
   ]
  },
  {
   "attachments": {},
   "cell_type": "markdown",
   "id": "1d4ecd97-51d8-4c38-ab6a-e1a4a558745f",
   "metadata": {},
   "source": [
    "Here is a simple model of these neorons as shown in diagram (00_neorons_fig) where these rounds are the neorons and the arrows are the synapses that connect these neorons so what happens is: lets say when you have a baby and that baby sees a cow for the first time then you will tell baby that this is a cow so interanaly in childs brain, specific sets of neorons will light up and these two output neorons each corresponds to a specific entity such as cow and a car, when you say that, this is a cow then these sets of neorons are lightining up and the edges they become stronger, these edges are shown in a blue color and it leads to a certain output, this is like that you are in a jungle and you are looking for a direction and now you find a directio to reach to a specific destination, next day when baby sees a second cow you will tell the baby that this is also a cow. as shows in **00_neorons_fig1**\n",
    "\n",
    "So again same set of neorons and some additional neorons light up and these pathways become more stronger as shown in **00_neorons_fig2.**\n",
    "\n",
    "Similarly when a baby seeing a car you will tell the baby that this is a car and some other set of neorons will light up the edges will become stronger as shown in **00_neorons_fig3** and so forth, this way you are trainging a baby so as a human we all know that in our childhood the way we learn things are that we make mistakes and that is corrected by someone and by that we learn.\n",
    "\n",
    "During the learning procedure what happens in our brain is that constantly these ages and neorons are being adjusted and these new paths are being created that leads to a certain output or a decision.\n",
    "\n",
    "Computers can also be trained in a similar way where neural network models are created and they are tained with lot of training data and the corresponding output and these neorons and these ages are adjusted and the neural network becomes trained so that later on when you give a new input to the machine it can tell you the correct output. The is called **Deep learning** and deep learning is one of the areas in machine learning.\n",
    "\n",
    "ML is a quite broader term. **It is a complete science of field in computer science where we use various techniques and deep learning is one of them**.\n",
    "\n",
    "There are other techqniques where we use the knowledge present in the available data, we extract it and use that knowledge to make our future decisions.\n",
    "\n",
    "So overall ML is a bigger area in which deep learning is one part of it and there are different models like mathematical and statistical models that we use to make predictions and that is another area called **predictive modeling**. as shown in **00_neoronsfig4**."
   ]
  },
  {
   "cell_type": "markdown",
   "id": "6ded8f28-ec15-4f37-9cd8-01834377233d",
   "metadata": {},
   "source": [
    "ML has big implication on our real life, one the important features in any email account is spam filter if you are using google or yahoo eg **gmail spam folder** or any other email account you will see that they filter the spam emails automatically. The way they do it is they have seen a lot of spam emails in the past and they train machines to learn from content of those emails and they filter it out for future."
   ]
  },
  {
   "cell_type": "markdown",
   "id": "e9bb166b-2fe2-43e6-a9b9-09f755d96ad2",
   "metadata": {},
   "source": [
    "Personal assitant type of devices such as amazon Alexa and google home is another example and they are getting increasingly better at human conversation when you talk to them they learn your lesson, they learn your terminology and then in the future they give you an accurate reply for the questions that you asked them."
   ]
  },
  {
   "cell_type": "markdown",
   "id": "f795b29b-c149-4996-a385-0bd65bb5549e",
   "metadata": {},
   "source": [
    "Youtube recommended videos is another example of ML where they look at your past pattern on what kind of content you are watching and based on that they will generate the suggestions."
   ]
  },
  {
   "cell_type": "markdown",
   "id": "348e2887-7aa6-4cc5-b9ef-5d4d4a0b6eab",
   "metadata": {},
   "source": [
    "Last but not least is driverless cars. We wouldnt be surprised if in next 10 years you will see many tireless cars on the road because companies like tesla, google, uber they are investing heavily in driverless cars and all of them are using **ML** and **Ai** techniques that have to make car martyrs."
   ]
  },
  {
   "cell_type": "code",
   "execution_count": null,
   "id": "fd364e43-2f39-451b-92cb-638502317ad0",
   "metadata": {},
   "outputs": [],
   "source": []
  }
 ],
 "metadata": {
  "kernelspec": {
   "display_name": "Python 3 (ipykernel)",
   "language": "python",
   "name": "python3"
  },
  "language_info": {
   "codemirror_mode": {
    "name": "ipython",
    "version": 3
   },
   "file_extension": ".py",
   "mimetype": "text/x-python",
   "name": "python",
   "nbconvert_exporter": "python",
   "pygments_lexer": "ipython3",
   "version": "3.12.6"
  }
 },
 "nbformat": 4,
 "nbformat_minor": 5
}
