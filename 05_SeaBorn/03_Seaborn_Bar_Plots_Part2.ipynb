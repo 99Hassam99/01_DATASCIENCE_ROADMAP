{
 "cells": [
  {
   "cell_type": "markdown",
   "id": "abc4894a-b850-4c2d-b6b2-fb2941389a83",
   "metadata": {},
   "source": [
    "# Bar Plots Part 2"
   ]
  },
  {
   "cell_type": "code",
   "execution_count": 2,
   "id": "841d7e57-6671-4562-aaab-e65ab07898fd",
   "metadata": {},
   "outputs": [],
   "source": [
    "import pandas as pd\n",
    "import numpy as np\n",
    "import seaborn as sns\n",
    "import matplotlib.pyplot as plt\n",
    "%matplotlib inline"
   ]
  },
  {
   "cell_type": "code",
   "execution_count": 5,
   "id": "58a8482d-86b4-4441-bc31-562d6aa58877",
   "metadata": {},
   "outputs": [
    {
     "data": {
      "text/html": [
       "<div>\n",
       "<style scoped>\n",
       "    .dataframe tbody tr th:only-of-type {\n",
       "        vertical-align: middle;\n",
       "    }\n",
       "\n",
       "    .dataframe tbody tr th {\n",
       "        vertical-align: top;\n",
       "    }\n",
       "\n",
       "    .dataframe thead th {\n",
       "        text-align: right;\n",
       "    }\n",
       "</style>\n",
       "<table border=\"1\" class=\"dataframe\">\n",
       "  <thead>\n",
       "    <tr style=\"text-align: right;\">\n",
       "      <th></th>\n",
       "      <th>total_bill</th>\n",
       "      <th>tip</th>\n",
       "      <th>sex</th>\n",
       "      <th>smoker</th>\n",
       "      <th>day</th>\n",
       "      <th>time</th>\n",
       "      <th>size</th>\n",
       "    </tr>\n",
       "  </thead>\n",
       "  <tbody>\n",
       "    <tr>\n",
       "      <th>0</th>\n",
       "      <td>16.99</td>\n",
       "      <td>1.01</td>\n",
       "      <td>Female</td>\n",
       "      <td>No</td>\n",
       "      <td>Sun</td>\n",
       "      <td>Dinner</td>\n",
       "      <td>2</td>\n",
       "    </tr>\n",
       "    <tr>\n",
       "      <th>1</th>\n",
       "      <td>10.34</td>\n",
       "      <td>1.66</td>\n",
       "      <td>Male</td>\n",
       "      <td>No</td>\n",
       "      <td>Sun</td>\n",
       "      <td>Dinner</td>\n",
       "      <td>3</td>\n",
       "    </tr>\n",
       "    <tr>\n",
       "      <th>2</th>\n",
       "      <td>21.01</td>\n",
       "      <td>3.50</td>\n",
       "      <td>Male</td>\n",
       "      <td>No</td>\n",
       "      <td>Sun</td>\n",
       "      <td>Dinner</td>\n",
       "      <td>3</td>\n",
       "    </tr>\n",
       "    <tr>\n",
       "      <th>3</th>\n",
       "      <td>23.68</td>\n",
       "      <td>3.31</td>\n",
       "      <td>Male</td>\n",
       "      <td>No</td>\n",
       "      <td>Sun</td>\n",
       "      <td>Dinner</td>\n",
       "      <td>2</td>\n",
       "    </tr>\n",
       "    <tr>\n",
       "      <th>4</th>\n",
       "      <td>24.59</td>\n",
       "      <td>3.61</td>\n",
       "      <td>Female</td>\n",
       "      <td>No</td>\n",
       "      <td>Sun</td>\n",
       "      <td>Dinner</td>\n",
       "      <td>4</td>\n",
       "    </tr>\n",
       "  </tbody>\n",
       "</table>\n",
       "</div>"
      ],
      "text/plain": [
       "   total_bill   tip     sex smoker  day    time  size\n",
       "0       16.99  1.01  Female     No  Sun  Dinner     2\n",
       "1       10.34  1.66    Male     No  Sun  Dinner     3\n",
       "2       21.01  3.50    Male     No  Sun  Dinner     3\n",
       "3       23.68  3.31    Male     No  Sun  Dinner     2\n",
       "4       24.59  3.61  Female     No  Sun  Dinner     4"
      ]
     },
     "execution_count": 5,
     "metadata": {},
     "output_type": "execute_result"
    }
   ],
   "source": [
    "tips = sns.load_dataset('tips')\n",
    "tips.head()"
   ]
  },
  {
   "cell_type": "markdown",
   "id": "b4c6b73d-c8de-4c4d-b4a7-f6f8c0407b0a",
   "metadata": {},
   "source": [
    "# Estimator Attribute\n",
    "\n",
    "x = day, y=total_bill"
   ]
  },
  {
   "cell_type": "code",
   "execution_count": 7,
   "id": "f3215d2b-b2cf-4a77-a84c-a9ff6f9ff570",
   "metadata": {},
   "outputs": [
    {
     "data": {
      "text/plain": [
       "<Axes: xlabel='day', ylabel='total_bill'>"
      ]
     },
     "execution_count": 7,
     "metadata": {},
     "output_type": "execute_result"
    },
    {
     "data": {
      "image/png": "[encoded data removed]",
      "text/plain": [
       "<Figure size 640x480 with 1 Axes>"
      ]
     },
     "metadata": {},
     "output_type": "display_data"
    }
   ],
   "source": [
    "sns.barplot(x= 'day', y = 'total_bill', data=tips)"
   ]
  },
  {
   "cell_type": "code",
   "execution_count": 8,
   "id": "804d2e7f-9682-4815-a91a-d72def42abf0",
   "metadata": {},
   "outputs": [
    {
     "data": {
      "text/plain": [
       "<Axes: xlabel='day', ylabel='total_bill'>"
      ]
     },
     "execution_count": 8,
     "metadata": {},
     "output_type": "execute_result"
    },
    {
     "data": {
      "image/png": "[encoded data removed]",
      "text/plain": [
       "<Figure size 640x480 with 1 Axes>"
      ]
     },
     "metadata": {},
     "output_type": "display_data"
    }
   ],
   "source": [
    "sns.barplot(x= 'day', y = 'total_bill', estimator = np.median, data=tips)"
   ]
  },
  {
   "cell_type": "markdown",
   "id": "68f7aa39-31b5-4a2c-b56c-c0438aed0330",
   "metadata": {},
   "source": [
    "# Confidence Interval\n",
    "These are black lines on each bar and also known as the error bars.\n",
    "\n",
    "These are the range of values in which we are fairly confident that the statistical measure lies in.\n",
    "\n",
    "we can it make smaller."
   ]
  },
  {
   "cell_type": "code",
   "execution_count": 11,
   "id": "a3ee5387-c2fa-4f5c-928b-975b495778f8",
   "metadata": {},
   "outputs": [
    {
     "data": {
      "text/plain": [
       "<Axes: xlabel='day', ylabel='total_bill'>"
      ]
     },
     "execution_count": 11,
     "metadata": {},
     "output_type": "execute_result"
    },
    {
     "data": {
      "image/png": "[encoded data removed]",
      "text/plain": [
       "<Figure size 640x480 with 1 Axes>"
      ]
     },
     "metadata": {},
     "output_type": "display_data"
    }
   ],
   "source": [
    "sns.barplot(x= 'day', y = 'total_bill', errorbar=('ci', 30), data=tips)"
   ]
  },
  {
   "cell_type": "markdown",
   "id": "a797fbbc-db4c-44f7-9363-8cf4150b1ba6",
   "metadata": {},
   "source": [
    "# Capsize attribute"
   ]
  },
  {
   "cell_type": "code",
   "execution_count": 12,
   "id": "5495717e-b5fa-43cb-9aee-c638ede038d4",
   "metadata": {},
   "outputs": [
    {
     "data": {
      "text/plain": [
       "<Axes: xlabel='day', ylabel='total_bill'>"
      ]
     },
     "execution_count": 12,
     "metadata": {},
     "output_type": "execute_result"
    },
    {
     "data": {
      "image/png": "[encoded data removed]",
      "text/plain": [
       "<Figure size 640x480 with 1 Axes>"
      ]
     },
     "metadata": {},
     "output_type": "display_data"
    }
   ],
   "source": [
    "sns.barplot(x= 'day', y = 'total_bill', errorbar=('ci', 30),capsize=0.3, data=tips)"
   ]
  },
  {
   "cell_type": "markdown",
   "id": "2bd708e5-ed53-4c43-837a-ebe28b2828f2",
   "metadata": {},
   "source": [
    "# Barplot same color"
   ]
  },
  {
   "cell_type": "code",
   "execution_count": 13,
   "id": "07158547-d968-4e25-bb8d-64cf460d29d4",
   "metadata": {},
   "outputs": [
    {
     "data": {
      "text/plain": [
       "<Axes: xlabel='day', ylabel='total_bill'>"
      ]
     },
     "execution_count": 13,
     "metadata": {},
     "output_type": "execute_result"
    },
    {
     "data": {
      "image/png": "[encoded data removed]",
      "text/plain": [
       "<Figure size 640x480 with 1 Axes>"
      ]
     },
     "metadata": {},
     "output_type": "display_data"
    }
   ],
   "source": [
    "sns.barplot(x= 'day', y = 'total_bill',color='green' , data=tips)"
   ]
  },
  {
   "cell_type": "markdown",
   "id": "1e2708be-a12c-4f35-a0e2-f15025e325ff",
   "metadata": {},
   "source": [
    "# Saturation Value"
   ]
  },
  {
   "cell_type": "code",
   "execution_count": 14,
   "id": "6629f041-e895-45da-a727-f6301b422da9",
   "metadata": {},
   "outputs": [
    {
     "data": {
      "text/plain": [
       "<Axes: xlabel='day', ylabel='total_bill'>"
      ]
     },
     "execution_count": 14,
     "metadata": {},
     "output_type": "execute_result"
    },
    {
     "data": {
      "image/png": "[encoded data removed]",
      "text/plain": [
       "<Figure size 640x480 with 1 Axes>"
      ]
     },
     "metadata": {},
     "output_type": "display_data"
    }
   ],
   "source": [
    "sns.barplot(x= 'day', y = 'total_bill',color='green' ,saturation=0.4, data=tips)"
   ]
  },
  {
   "cell_type": "markdown",
   "id": "c651d861-73ad-4044-b19e-d17e5231befe",
   "metadata": {},
   "source": [
    "# Saving plots to a file"
   ]
  },
  {
   "cell_type": "code",
   "execution_count": 15,
   "id": "af870941-f449-4782-b17f-d545cd0a65ef",
   "metadata": {},
   "outputs": [
    {
     "data": {
      "image/png": "[encoded data removed]",
      "text/plain": [
       "<Figure size 640x480 with 1 Axes>"
      ]
     },
     "metadata": {},
     "output_type": "display_data"
    }
   ],
   "source": [
    "# Storing plot into a varialble\n",
    "sns_plot = sns.barplot(x='day', y='total_bill', data=tips)"
   ]
  },
  {
   "cell_type": "code",
   "execution_count": 16,
   "id": "d6ef35e4-f5d1-4d11-a65d-f48aa7a54077",
   "metadata": {},
   "outputs": [],
   "source": [
    "fig = sns_plot.get_figure()"
   ]
  },
  {
   "cell_type": "code",
   "execution_count": 18,
   "id": "9ad6f761-69fe-4d5e-b338-9433f2dfd7d0",
   "metadata": {},
   "outputs": [],
   "source": [
    "fig.savefig(fname = 'barplot2.png')"
   ]
  },
  {
   "cell_type": "code",
   "execution_count": null,
   "id": "7c9280e4-aae5-4f53-bb7c-61ac4d60f1e2",
   "metadata": {},
   "outputs": [],
   "source": []
  }
 ],
 "metadata": {
  "kernelspec": {
   "display_name": "Python 3 (ipykernel)",
   "language": "python",
   "name": "python3"
  },
  "language_info": {
   "codemirror_mode": {
    "name": "ipython",
    "version": 3
   },
   "file_extension": ".py",
   "mimetype": "text/x-python",
   "name": "python",
   "nbconvert_exporter": "python",
   "pygments_lexer": "ipython3",
   "version": "3.12.6"
  }
 },
 "nbformat": 4,
 "nbformat_minor": 5
}
