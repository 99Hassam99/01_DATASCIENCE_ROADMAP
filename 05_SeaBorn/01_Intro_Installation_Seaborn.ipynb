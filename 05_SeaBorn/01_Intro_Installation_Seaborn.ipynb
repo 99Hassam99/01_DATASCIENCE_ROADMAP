{
 "cells": [
  {
   "cell_type": "markdown",
   "id": "9e31fd77-4cbd-4fec-85a2-05aef181bfa1",
   "metadata": {},
   "source": [
    "**Seaborn** is another popular visualization library of python similar to matplotlib.\n",
    "\n",
    "It takes many lines of code to make a histogram in Matplotlib?\n",
    "\n",
    "Seabotn is used to make it easy by code wise as well as visual wise."
   ]
  },
  {
   "cell_type": "markdown",
   "id": "45a8f19f-7f51-454e-9697-a0e769145b98",
   "metadata": {},
   "source": [
    "# Features\n",
    "Creation of attractive statistical plots.\n",
    "It has wide range of color palettes and built in themes.\n",
    "Plotting regression models is easy.\n",
    "\n",
    "\n",
    "If Matplotlib tries to make easy things easy and hard things possible.\n",
    "Seaborn tries make a well-defined set of hard things easy too."
   ]
  },
  {
   "cell_type": "markdown",
   "id": "a01a80f6-5324-43c7-84db-bba6b6ddb3fb",
   "metadata": {},
   "source": [
    "# Shortcomings of MATPLOTLIB\n",
    "Matplotlib has a limited numbers of themes and palettes & default settings are not ideal eg many of plots have no grid lines.\n",
    "\n",
    "In short seaborn makes it very easy to get to know your data fast and very efficiently"
   ]
  },
  {
   "cell_type": "markdown",
   "id": "236bddcc-6d7a-47d0-971b-7aa90b78265c",
   "metadata": {},
   "source": [
    "# Mandatory dependencies\n",
    "Numpy\n",
    "Scipy\n",
    "Pandas\n",
    "Matplotlib\n",
    "Statsmodel\n",
    "\n",
    "# Installation\n",
    "Pip install seaborn"
   ]
  },
  {
   "cell_type": "code",
   "execution_count": 3,
   "id": "e97dfb3d-9f14-4104-87ec-57e93b6aa1cc",
   "metadata": {},
   "outputs": [],
   "source": [
    "import seaborn as sns"
   ]
  },
  {
   "cell_type": "code",
   "execution_count": 4,
   "id": "c900884c-03cc-4957-9cb5-1552aba44432",
   "metadata": {},
   "outputs": [
    {
     "data": {
      "text/plain": [
       "'0.13.2'"
      ]
     },
     "execution_count": 4,
     "metadata": {},
     "output_type": "execute_result"
    }
   ],
   "source": [
    "sns.__version__"
   ]
  },
  {
   "cell_type": "code",
   "execution_count": null,
   "id": "57c31abc-19f1-49db-82cd-a24707212c52",
   "metadata": {},
   "outputs": [],
   "source": []
  }
 ],
 "metadata": {
  "kernelspec": {
   "display_name": "Python 3 (ipykernel)",
   "language": "python",
   "name": "python3"
  },
  "language_info": {
   "codemirror_mode": {
    "name": "ipython",
    "version": 3
   },
   "file_extension": ".py",
   "mimetype": "text/x-python",
   "name": "python",
   "nbconvert_exporter": "python",
   "pygments_lexer": "ipython3",
   "version": "3.12.6"
  }
 },
 "nbformat": 4,
 "nbformat_minor": 5
}
