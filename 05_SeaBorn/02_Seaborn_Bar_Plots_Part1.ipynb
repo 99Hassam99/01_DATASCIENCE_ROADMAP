{
 "cells": [
  {
   "cell_type": "markdown",
   "id": "3e953c2e-8fe4-4630-aebf-25b135b71f83",
   "metadata": {},
   "source": [
    "# Bar Charts Part 1"
   ]
  },
  {
   "cell_type": "markdown",
   "id": "e9011b87-accb-4309-a615-394bf2d12ccb",
   "metadata": {},
   "source": [
    "Import Libraries"
   ]
  },
  {
   "cell_type": "code",
   "execution_count": 3,
   "id": "6d4209a3-93c6-48ce-8c18-ce73c9bbe4db",
   "metadata": {},
   "outputs": [],
   "source": [
    "import numpy as np\n",
    "import pandas as pd\n",
    "import seaborn as sns\n",
    "import matplotlib.pyplot as plt\n",
    "%matplotlib inline"
   ]
  },
  {
   "cell_type": "markdown",
   "id": "fbe9e1a3-6942-47b5-acfa-3be9e0c4f616",
   "metadata": {},
   "source": [
    "# Loading the Datasets"
   ]
  },
  {
   "cell_type": "code",
   "execution_count": 4,
   "id": "49e76061-718f-4531-89fe-6044a1fff61b",
   "metadata": {},
   "outputs": [
    {
     "data": {
      "text/plain": [
       "['anagrams',\n",
       " 'anscombe',\n",
       " 'attention',\n",
       " 'brain_networks',\n",
       " 'car_crashes',\n",
       " 'diamonds',\n",
       " 'dots',\n",
       " 'dowjones',\n",
       " 'exercise',\n",
       " 'flights',\n",
       " 'fmri',\n",
       " 'geyser',\n",
       " 'glue',\n",
       " 'healthexp',\n",
       " 'iris',\n",
       " 'mpg',\n",
       " 'penguins',\n",
       " 'planets',\n",
       " 'seaice',\n",
       " 'taxis',\n",
       " 'tips',\n",
       " 'titanic']"
      ]
     },
     "execution_count": 4,
     "metadata": {},
     "output_type": "execute_result"
    }
   ],
   "source": [
    "sns.get_dataset_names()"
   ]
  },
  {
   "cell_type": "code",
   "execution_count": 6,
   "id": "49b69c81-c78a-46ef-8593-c07e0e61b356",
   "metadata": {},
   "outputs": [],
   "source": [
    "tips = sns.load_dataset('tips')"
   ]
  },
  {
   "cell_type": "code",
   "execution_count": 7,
   "id": "63080120-aece-4e2b-b8f8-71030b69ebb8",
   "metadata": {},
   "outputs": [
    {
     "data": {
      "text/html": [
       "<div>\n",
       "<style scoped>\n",
       "    .dataframe tbody tr th:only-of-type {\n",
       "        vertical-align: middle;\n",
       "    }\n",
       "\n",
       "    .dataframe tbody tr th {\n",
       "        vertical-align: top;\n",
       "    }\n",
       "\n",
       "    .dataframe thead th {\n",
       "        text-align: right;\n",
       "    }\n",
       "</style>\n",
       "<table border=\"1\" class=\"dataframe\">\n",
       "  <thead>\n",
       "    <tr style=\"text-align: right;\">\n",
       "      <th></th>\n",
       "      <th>total_bill</th>\n",
       "      <th>tip</th>\n",
       "      <th>sex</th>\n",
       "      <th>smoker</th>\n",
       "      <th>day</th>\n",
       "      <th>time</th>\n",
       "      <th>size</th>\n",
       "    </tr>\n",
       "  </thead>\n",
       "  <tbody>\n",
       "    <tr>\n",
       "      <th>0</th>\n",
       "      <td>16.99</td>\n",
       "      <td>1.01</td>\n",
       "      <td>Female</td>\n",
       "      <td>No</td>\n",
       "      <td>Sun</td>\n",
       "      <td>Dinner</td>\n",
       "      <td>2</td>\n",
       "    </tr>\n",
       "    <tr>\n",
       "      <th>1</th>\n",
       "      <td>10.34</td>\n",
       "      <td>1.66</td>\n",
       "      <td>Male</td>\n",
       "      <td>No</td>\n",
       "      <td>Sun</td>\n",
       "      <td>Dinner</td>\n",
       "      <td>3</td>\n",
       "    </tr>\n",
       "    <tr>\n",
       "      <th>2</th>\n",
       "      <td>21.01</td>\n",
       "      <td>3.50</td>\n",
       "      <td>Male</td>\n",
       "      <td>No</td>\n",
       "      <td>Sun</td>\n",
       "      <td>Dinner</td>\n",
       "      <td>3</td>\n",
       "    </tr>\n",
       "    <tr>\n",
       "      <th>3</th>\n",
       "      <td>23.68</td>\n",
       "      <td>3.31</td>\n",
       "      <td>Male</td>\n",
       "      <td>No</td>\n",
       "      <td>Sun</td>\n",
       "      <td>Dinner</td>\n",
       "      <td>2</td>\n",
       "    </tr>\n",
       "    <tr>\n",
       "      <th>4</th>\n",
       "      <td>24.59</td>\n",
       "      <td>3.61</td>\n",
       "      <td>Female</td>\n",
       "      <td>No</td>\n",
       "      <td>Sun</td>\n",
       "      <td>Dinner</td>\n",
       "      <td>4</td>\n",
       "    </tr>\n",
       "  </tbody>\n",
       "</table>\n",
       "</div>"
      ],
      "text/plain": [
       "   total_bill   tip     sex smoker  day    time  size\n",
       "0       16.99  1.01  Female     No  Sun  Dinner     2\n",
       "1       10.34  1.66    Male     No  Sun  Dinner     3\n",
       "2       21.01  3.50    Male     No  Sun  Dinner     3\n",
       "3       23.68  3.31    Male     No  Sun  Dinner     2\n",
       "4       24.59  3.61  Female     No  Sun  Dinner     4"
      ]
     },
     "execution_count": 7,
     "metadata": {},
     "output_type": "execute_result"
    }
   ],
   "source": [
    "tips.head()"
   ]
  },
  {
   "cell_type": "markdown",
   "id": "0476b818-8648-4944-b6db-e5900623b373",
   "metadata": {},
   "source": [
    "# Draw a simple Bar plot"
   ]
  },
  {
   "cell_type": "code",
   "execution_count": 10,
   "id": "2d5677d5-96cf-45bd-b9d5-388cd6b09d5d",
   "metadata": {},
   "outputs": [
    {
     "data": {
      "text/plain": [
       "<Axes: xlabel='day', ylabel='total_bill'>"
      ]
     },
     "execution_count": 10,
     "metadata": {},
     "output_type": "execute_result"
    },
    {
     "data": {
      "image/png": "[encoded data removed]",
      "text/plain": [
       "<Figure size 640x480 with 1 Axes>"
      ]
     },
     "metadata": {},
     "output_type": "display_data"
    }
   ],
   "source": [
    "sns.barplot(x = 'day', y = 'total_bill', data=tips)"
   ]
  },
  {
   "cell_type": "markdown",
   "id": "10aad093-c468-4513-a2eb-f166bcfdc97a",
   "metadata": {},
   "source": [
    "# HUE attribute\n",
    "\n",
    "Hue attribute splits the bar based on the different types of values that are present in a particular column."
   ]
  },
  {
   "cell_type": "code",
   "execution_count": 11,
   "id": "e89fdaab-8a54-451d-9d26-c56938f6229b",
   "metadata": {},
   "outputs": [
    {
     "data": {
      "text/plain": [
       "<Axes: xlabel='day', ylabel='total_bill'>"
      ]
     },
     "execution_count": 11,
     "metadata": {},
     "output_type": "execute_result"
    },
    {
     "data": {
      "image/png": "[encoded data removed]",
      "text/plain": [
       "<Figure size 640x480 with 1 Axes>"
      ]
     },
     "metadata": {},
     "output_type": "display_data"
    }
   ],
   "source": [
    "sns.barplot(x = 'day', y = 'total_bill',hue='sex', data=tips)"
   ]
  },
  {
   "cell_type": "markdown",
   "id": "3377fdb5-100e-4d66-aa63-d88660d7816e",
   "metadata": {},
   "source": [
    "# Palete attribute\n",
    "usage of palplot() function to draw plots\n",
    "\n",
    "# viewing some palettes"
   ]
  },
  {
   "cell_type": "code",
   "execution_count": 12,
   "id": "6bdc6323-0ccb-4ce1-909a-f172ceb78dfb",
   "metadata": {},
   "outputs": [
    {
     "data": {
      "image/png": "[encoded data removed]",
      "text/plain": [
       "<Figure size 1000x100 with 1 Axes>"
      ]
     },
     "metadata": {},
     "output_type": "display_data"
    }
   ],
   "source": [
    "sns.palplot(sns.color_palette('deep',10))"
   ]
  },
  {
   "cell_type": "markdown",
   "id": "c3917a15-face-47cc-a921-9e7fe2ab41c2",
   "metadata": {},
   "source": [
    "# Different Palettes\n",
    "1.muted\n",
    "\n",
    "2.deep\n",
    "\n",
    "3.winter_r\n",
    "\n",
    "4.spring\n",
    "\n",
    "5.pastel\n",
    "\n",
    "6.dark\n",
    "\n",
    "7.bright\n",
    "\n",
    "8.colorblind"
   ]
  },
  {
   "cell_type": "code",
   "execution_count": 13,
   "id": "d386e3d6-c456-44f5-8986-fb713d95785b",
   "metadata": {},
   "outputs": [
    {
     "data": {
      "image/png": "[encoded data removed]",
      "text/plain": [
       "<Figure size 1000x100 with 1 Axes>"
      ]
     },
     "metadata": {},
     "output_type": "display_data"
    }
   ],
   "source": [
    "sns.palplot(sns.color_palette('spring',10))"
   ]
  },
  {
   "cell_type": "code",
   "execution_count": 16,
   "id": "22d474dd-3605-43d7-96b2-b2c98f7e3e29",
   "metadata": {},
   "outputs": [
    {
     "data": {
      "image/png": "[encoded data removed]",
      "text/plain": [
       "<Figure size 1000x100 with 1 Axes>"
      ]
     },
     "metadata": {},
     "output_type": "display_data"
    }
   ],
   "source": [
    "sns.palplot(sns.color_palette('winter_r',10))"
   ]
  },
  {
   "cell_type": "code",
   "execution_count": 17,
   "id": "f7ea3153-3179-43e9-ac04-aecbf8cf8ab4",
   "metadata": {},
   "outputs": [
    {
     "data": {
      "image/png": "[encoded data removed]",
      "text/plain": [
       "<Figure size 1000x100 with 1 Axes>"
      ]
     },
     "metadata": {},
     "output_type": "display_data"
    }
   ],
   "source": [
    "sns.palplot(sns.color_palette('winter',10))"
   ]
  },
  {
   "cell_type": "code",
   "execution_count": 20,
   "id": "6e74a7eb-6c77-4b5a-a91d-ce4d379b10eb",
   "metadata": {},
   "outputs": [
    {
     "data": {
      "image/png": "[encoded data removed]",
      "text/plain": [
       "<Figure size 1000x100 with 1 Axes>"
      ]
     },
     "metadata": {},
     "output_type": "display_data"
    }
   ],
   "source": [
    "sns.palplot(sns.color_palette('dark',10))"
   ]
  },
  {
   "cell_type": "code",
   "execution_count": 21,
   "id": "0988e871-9e52-4d9b-a7cd-ce245bbc8d86",
   "metadata": {},
   "outputs": [
    {
     "data": {
      "image/png": "[encoded data removed]",
      "text/plain": [
       "<Figure size 1000x100 with 1 Axes>"
      ]
     },
     "metadata": {},
     "output_type": "display_data"
    }
   ],
   "source": [
    "sns.palplot(sns.color_palette('bright',10))"
   ]
  },
  {
   "cell_type": "code",
   "execution_count": 22,
   "id": "1af96683-57f2-4bc0-a697-058bbd4c9ed9",
   "metadata": {},
   "outputs": [
    {
     "data": {
      "image/png": "[encoded data removed]",
      "text/plain": [
       "<Figure size 1000x100 with 1 Axes>"
      ]
     },
     "metadata": {},
     "output_type": "display_data"
    }
   ],
   "source": [
    "sns.palplot(sns.color_palette('muted',10))"
   ]
  },
  {
   "cell_type": "code",
   "execution_count": 23,
   "id": "4edec11d-9b19-4268-b384-24361b7386fc",
   "metadata": {},
   "outputs": [
    {
     "data": {
      "image/png": "[encoded data removed]",
      "text/plain": [
       "<Figure size 1000x100 with 1 Axes>"
      ]
     },
     "metadata": {},
     "output_type": "display_data"
    }
   ],
   "source": [
    "sns.palplot(sns.color_palette('pastel',10))"
   ]
  },
  {
   "cell_type": "code",
   "execution_count": 24,
   "id": "dfbe3ca0-a2d0-47c7-afbd-3d179cd57d76",
   "metadata": {},
   "outputs": [
    {
     "data": {
      "image/png": "[encoded data removed]",
      "text/plain": [
       "<Figure size 1000x100 with 1 Axes>"
      ]
     },
     "metadata": {},
     "output_type": "display_data"
    }
   ],
   "source": [
    "sns.palplot(sns.color_palette('colorblind',10))"
   ]
  },
  {
   "cell_type": "markdown",
   "id": "980dc8d7-34f1-414b-8753-0b3181f7abf0",
   "metadata": {},
   "source": [
    "# Creating custom palttes\n",
    "our own palettes\n",
    "\n",
    "Create the palette as an array"
   ]
  },
  {
   "cell_type": "code",
   "execution_count": 25,
   "id": "b1443dc6-5b72-453c-8f4d-3c7cc7bebdc5",
   "metadata": {},
   "outputs": [],
   "source": [
    "custom = ['red','blue','green']"
   ]
  },
  {
   "cell_type": "markdown",
   "id": "31586ab7-9ccb-4d2f-b83a-5248aba94d1e",
   "metadata": {},
   "source": [
    "set palette as current palette"
   ]
  },
  {
   "cell_type": "code",
   "execution_count": 26,
   "id": "4f0e828e-0c8e-49ba-8a74-cf583dee51d8",
   "metadata": {},
   "outputs": [],
   "source": [
    "sns.set_palette(custom)"
   ]
  },
  {
   "cell_type": "markdown",
   "id": "dc147ec3-a683-4640-941a-cb19684567cd",
   "metadata": {},
   "source": [
    "View the palette"
   ]
  },
  {
   "cell_type": "code",
   "execution_count": 27,
   "id": "e6484562-db96-4b43-b282-544b13789918",
   "metadata": {},
   "outputs": [
    {
     "data": {
      "image/png": "[encoded data removed]",
      "text/plain": [
       "<Figure size 300x100 with 1 Axes>"
      ]
     },
     "metadata": {},
     "output_type": "display_data"
    }
   ],
   "source": [
    "sns.palplot(sns.color_palette())"
   ]
  },
  {
   "cell_type": "markdown",
   "id": "9b80e38a-209c-4ac8-a906-d0cdd349d0a5",
   "metadata": {},
   "source": [
    "# Horizontal Bar Plots\n",
    "We can not only draw vertical but can also draw horizontal bars in seaborn\n",
    "\n",
    "x=total_bill, y=day"
   ]
  },
  {
   "cell_type": "code",
   "execution_count": 28,
   "id": "a50a2840-66fa-4c6d-a88d-bf65fb9d8121",
   "metadata": {},
   "outputs": [
    {
     "data": {
      "text/plain": [
       "<Axes: xlabel='total_bill', ylabel='day'>"
      ]
     },
     "execution_count": 28,
     "metadata": {},
     "output_type": "execute_result"
    },
    {
     "data": {
      "image/png": "[encoded data removed]",
      "text/plain": [
       "<Figure size 640x480 with 1 Axes>"
      ]
     },
     "metadata": {},
     "output_type": "display_data"
    }
   ],
   "source": [
    "sns.barplot(x = 'total_bill', y = 'day', data=tips)"
   ]
  },
  {
   "cell_type": "markdown",
   "id": "becca163-439a-47bf-aa7d-d295d15662cd",
   "metadata": {},
   "source": [
    "# Order attribute\n",
    "We can also change the ordering of the bars by order attribute\n",
    "\n",
    "x = day, y=tip"
   ]
  },
  {
   "cell_type": "code",
   "execution_count": 29,
   "id": "311230f5-74c3-4da8-806a-39b6a262853f",
   "metadata": {},
   "outputs": [
    {
     "data": {
      "text/plain": [
       "<Axes: xlabel='day', ylabel='total_bill'>"
      ]
     },
     "execution_count": 29,
     "metadata": {},
     "output_type": "execute_result"
    },
    {
     "data": {
      "image/png": "[encoded data removed]",
      "text/plain": [
       "<Figure size 640x480 with 1 Axes>"
      ]
     },
     "metadata": {},
     "output_type": "display_data"
    }
   ],
   "source": [
    "sns.barplot(x = 'day', y = 'total_bill', data = tips)"
   ]
  },
  {
   "cell_type": "code",
   "execution_count": 30,
   "id": "b0398b95-5024-47ea-ae7c-31ba4c893487",
   "metadata": {},
   "outputs": [
    {
     "data": {
      "text/plain": [
       "<Axes: xlabel='day', ylabel='total_bill'>"
      ]
     },
     "execution_count": 30,
     "metadata": {},
     "output_type": "execute_result"
    },
    {
     "data": {
      "image/png": "[encoded data removed]",
      "text/plain": [
       "<Figure size 640x480 with 1 Axes>"
      ]
     },
     "metadata": {},
     "output_type": "display_data"
    }
   ],
   "source": [
    "sns.barplot(x = 'day', y = 'total_bill', order = ['Sun','Fri','Thur','Sat'], data = tips)"
   ]
  },
  {
   "cell_type": "code",
   "execution_count": null,
   "id": "08eb59ad-beac-496a-b558-639ba0b5cd9b",
   "metadata": {},
   "outputs": [],
   "source": []
  }
 ],
 "metadata": {
  "kernelspec": {
   "display_name": "Python 3 (ipykernel)",
   "language": "python",
   "name": "python3"
  },
  "language_info": {
   "codemirror_mode": {
    "name": "ipython",
    "version": 3
   },
   "file_extension": ".py",
   "mimetype": "text/x-python",
   "name": "python",
   "nbconvert_exporter": "python",
   "pygments_lexer": "ipython3",
   "version": "3.12.6"
  }
 },
 "nbformat": 4,
 "nbformat_minor": 5
}
